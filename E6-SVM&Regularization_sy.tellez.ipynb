{
 "cells": [
  {
   "cell_type": "markdown",
   "metadata": {},
   "source": [
    "# Exercise 6\n",
    "\n",
    "## SVM & Regularization\n",
    "\n",
    "\n",
    "For this homework we consider a set of observations on a number of red and white wine varieties involving their chemical properties and ranking by tasters. Wine industry shows a recent growth spurt as social drinking is on the rise. The price of wine depends on a rather abstract concept of wine appreciation by wine tasters, opinion among whom may have a high degree of variability. Pricing of wine depends on such a volatile factor to some extent. Another key factor in wine certification and quality assessment is physicochemical tests which are laboratory-based and takes into account factors like acidity, pH level, presence of sugar and other chemical properties. For the wine market, it would be of interest if human quality of tasting can be related to the chemical properties of wine so that certification and quality assessment and assurance process is more controlled.\n",
    "\n",
    "Two datasets are available of which one dataset is on red wine and have 1599 different varieties and the other is on white wine and have 4898 varieties. All wines are produced in a particular area of Portugal. Data are collected on 12 different properties of the wines one of which is Quality, based on sensory data, and the rest are on chemical properties of the wines including density, acidity, alcohol content etc. All chemical properties of wines are continuous variables. Quality is an ordinal variable with possible ranking from 1 (worst) to 10 (best). Each variety of wine is tasted by three independent tasters and the final rank assigned is the median rank given by the tasters.\n",
    "\n",
    "A predictive model developed on this data is expected to provide guidance to vineyards regarding quality and price expected on their produce without heavy reliance on volatility of wine tasters."
   ]
  },
  {
   "cell_type": "code",
   "execution_count": 31,
   "metadata": {},
   "outputs": [],
   "source": [
    "import pandas as pd\n",
    "import numpy as np"
   ]
  },
  {
   "cell_type": "code",
   "execution_count": 32,
   "metadata": {},
   "outputs": [],
   "source": [
    "data_r = pd.read_csv('https://github.com/albahnsen/PracticalMachineLearningClass/raw/master/datasets/Wine_data_red.csv')\n",
    "data_w = pd.read_csv('https://github.com/albahnsen/PracticalMachineLearningClass/raw/master/datasets/Wine_data_white.csv')"
   ]
  },
  {
   "cell_type": "code",
   "execution_count": 42,
   "metadata": {},
   "outputs": [
    {
     "data": {
      "text/html": [
       "<div>\n",
       "<style scoped>\n",
       "    .dataframe tbody tr th:only-of-type {\n",
       "        vertical-align: middle;\n",
       "    }\n",
       "\n",
       "    .dataframe tbody tr th {\n",
       "        vertical-align: top;\n",
       "    }\n",
       "\n",
       "    .dataframe thead th {\n",
       "        text-align: right;\n",
       "    }\n",
       "</style>\n",
       "<table border=\"1\" class=\"dataframe\">\n",
       "  <thead>\n",
       "    <tr style=\"text-align: right;\">\n",
       "      <th></th>\n",
       "      <th>fixed acidity</th>\n",
       "      <th>volatile acidity</th>\n",
       "      <th>citric acid</th>\n",
       "      <th>residual sugar</th>\n",
       "      <th>chlorides</th>\n",
       "      <th>free sulfur dioxide</th>\n",
       "      <th>total sulfur dioxide</th>\n",
       "      <th>density</th>\n",
       "      <th>pH</th>\n",
       "      <th>sulphates</th>\n",
       "      <th>alcohol</th>\n",
       "      <th>quality</th>\n",
       "      <th>type</th>\n",
       "    </tr>\n",
       "  </thead>\n",
       "  <tbody>\n",
       "    <tr>\n",
       "      <th>0</th>\n",
       "      <td>7.0</td>\n",
       "      <td>0.27</td>\n",
       "      <td>0.36</td>\n",
       "      <td>20.7</td>\n",
       "      <td>0.045</td>\n",
       "      <td>45.0</td>\n",
       "      <td>170.0</td>\n",
       "      <td>1.0010</td>\n",
       "      <td>3.00</td>\n",
       "      <td>0.45</td>\n",
       "      <td>8.8</td>\n",
       "      <td>6</td>\n",
       "      <td>white</td>\n",
       "    </tr>\n",
       "    <tr>\n",
       "      <th>1</th>\n",
       "      <td>6.3</td>\n",
       "      <td>0.30</td>\n",
       "      <td>0.34</td>\n",
       "      <td>1.6</td>\n",
       "      <td>0.049</td>\n",
       "      <td>14.0</td>\n",
       "      <td>132.0</td>\n",
       "      <td>0.9940</td>\n",
       "      <td>3.30</td>\n",
       "      <td>0.49</td>\n",
       "      <td>9.5</td>\n",
       "      <td>6</td>\n",
       "      <td>white</td>\n",
       "    </tr>\n",
       "    <tr>\n",
       "      <th>2</th>\n",
       "      <td>8.1</td>\n",
       "      <td>0.28</td>\n",
       "      <td>0.40</td>\n",
       "      <td>6.9</td>\n",
       "      <td>0.050</td>\n",
       "      <td>30.0</td>\n",
       "      <td>97.0</td>\n",
       "      <td>0.9951</td>\n",
       "      <td>3.26</td>\n",
       "      <td>0.44</td>\n",
       "      <td>10.1</td>\n",
       "      <td>6</td>\n",
       "      <td>white</td>\n",
       "    </tr>\n",
       "    <tr>\n",
       "      <th>3</th>\n",
       "      <td>7.2</td>\n",
       "      <td>0.23</td>\n",
       "      <td>0.32</td>\n",
       "      <td>8.5</td>\n",
       "      <td>0.058</td>\n",
       "      <td>47.0</td>\n",
       "      <td>186.0</td>\n",
       "      <td>0.9956</td>\n",
       "      <td>3.19</td>\n",
       "      <td>0.40</td>\n",
       "      <td>9.9</td>\n",
       "      <td>6</td>\n",
       "      <td>white</td>\n",
       "    </tr>\n",
       "    <tr>\n",
       "      <th>4</th>\n",
       "      <td>7.2</td>\n",
       "      <td>0.23</td>\n",
       "      <td>0.32</td>\n",
       "      <td>8.5</td>\n",
       "      <td>0.058</td>\n",
       "      <td>47.0</td>\n",
       "      <td>186.0</td>\n",
       "      <td>0.9956</td>\n",
       "      <td>3.19</td>\n",
       "      <td>0.40</td>\n",
       "      <td>9.9</td>\n",
       "      <td>6</td>\n",
       "      <td>white</td>\n",
       "    </tr>\n",
       "  </tbody>\n",
       "</table>\n",
       "</div>"
      ],
      "text/plain": [
       "   fixed acidity  volatile acidity  citric acid  residual sugar  chlorides  \\\n",
       "0            7.0              0.27         0.36            20.7      0.045   \n",
       "1            6.3              0.30         0.34             1.6      0.049   \n",
       "2            8.1              0.28         0.40             6.9      0.050   \n",
       "3            7.2              0.23         0.32             8.5      0.058   \n",
       "4            7.2              0.23         0.32             8.5      0.058   \n",
       "\n",
       "   free sulfur dioxide  total sulfur dioxide  density    pH  sulphates  \\\n",
       "0                 45.0                 170.0   1.0010  3.00       0.45   \n",
       "1                 14.0                 132.0   0.9940  3.30       0.49   \n",
       "2                 30.0                  97.0   0.9951  3.26       0.44   \n",
       "3                 47.0                 186.0   0.9956  3.19       0.40   \n",
       "4                 47.0                 186.0   0.9956  3.19       0.40   \n",
       "\n",
       "   alcohol  quality   type  \n",
       "0      8.8        6  white  \n",
       "1      9.5        6  white  \n",
       "2     10.1        6  white  \n",
       "3      9.9        6  white  \n",
       "4      9.9        6  white  "
      ]
     },
     "execution_count": 42,
     "metadata": {},
     "output_type": "execute_result"
    }
   ],
   "source": [
    "data = data_w.assign(type = 'white')\n",
    "\n",
    "data = data.append(data_r.assign(type = 'red'), ignore_index=True)\n",
    "data.head()"
   ]
  },
  {
   "cell_type": "markdown",
   "metadata": {},
   "source": [
    "# Exercise 6.1\n",
    "\n",
    "Show the frecuency table of the quality by type of wine"
   ]
  },
  {
   "cell_type": "code",
   "execution_count": 43,
   "metadata": {},
   "outputs": [
    {
     "data": {
      "text/html": [
       "<div>\n",
       "<style scoped>\n",
       "    .dataframe tbody tr th:only-of-type {\n",
       "        vertical-align: middle;\n",
       "    }\n",
       "\n",
       "    .dataframe tbody tr th {\n",
       "        vertical-align: top;\n",
       "    }\n",
       "\n",
       "    .dataframe thead th {\n",
       "        text-align: right;\n",
       "    }\n",
       "</style>\n",
       "<table border=\"1\" class=\"dataframe\">\n",
       "  <thead>\n",
       "    <tr style=\"text-align: right;\">\n",
       "      <th>quality</th>\n",
       "      <th>3</th>\n",
       "      <th>4</th>\n",
       "      <th>5</th>\n",
       "      <th>6</th>\n",
       "      <th>7</th>\n",
       "      <th>8</th>\n",
       "      <th>9</th>\n",
       "      <th>All</th>\n",
       "    </tr>\n",
       "    <tr>\n",
       "      <th>type</th>\n",
       "      <th></th>\n",
       "      <th></th>\n",
       "      <th></th>\n",
       "      <th></th>\n",
       "      <th></th>\n",
       "      <th></th>\n",
       "      <th></th>\n",
       "      <th></th>\n",
       "    </tr>\n",
       "  </thead>\n",
       "  <tbody>\n",
       "    <tr>\n",
       "      <th>red</th>\n",
       "      <td>10</td>\n",
       "      <td>53</td>\n",
       "      <td>681</td>\n",
       "      <td>638</td>\n",
       "      <td>199</td>\n",
       "      <td>18</td>\n",
       "      <td>0</td>\n",
       "      <td>1599</td>\n",
       "    </tr>\n",
       "    <tr>\n",
       "      <th>white</th>\n",
       "      <td>20</td>\n",
       "      <td>163</td>\n",
       "      <td>1457</td>\n",
       "      <td>2198</td>\n",
       "      <td>880</td>\n",
       "      <td>175</td>\n",
       "      <td>5</td>\n",
       "      <td>4898</td>\n",
       "    </tr>\n",
       "    <tr>\n",
       "      <th>All</th>\n",
       "      <td>30</td>\n",
       "      <td>216</td>\n",
       "      <td>2138</td>\n",
       "      <td>2836</td>\n",
       "      <td>1079</td>\n",
       "      <td>193</td>\n",
       "      <td>5</td>\n",
       "      <td>6497</td>\n",
       "    </tr>\n",
       "  </tbody>\n",
       "</table>\n",
       "</div>"
      ],
      "text/plain": [
       "quality   3    4     5     6     7    8  9   All\n",
       "type                                            \n",
       "red      10   53   681   638   199   18  0  1599\n",
       "white    20  163  1457  2198   880  175  5  4898\n",
       "All      30  216  2138  2836  1079  193  5  6497"
      ]
     },
     "execution_count": 43,
     "metadata": {},
     "output_type": "execute_result"
    }
   ],
   "source": [
    "pd.crosstab(data.type, data.quality, margins=True)"
   ]
  },
  {
   "cell_type": "markdown",
   "metadata": {},
   "source": [
    "# SVM"
   ]
  },
  {
   "cell_type": "markdown",
   "metadata": {},
   "source": [
    "# Exercise 6.2\n",
    "\n",
    "* Standarized the features (not the quality)\n",
    "* Create a binary target for each type of wine\n",
    "* Create two Linear SVM's for the white and red wines, repectively.\n"
   ]
  },
  {
   "cell_type": "code",
   "execution_count": 44,
   "metadata": {},
   "outputs": [],
   "source": [
    "data_N2 = data[['type', 'quality']]"
   ]
  },
  {
   "cell_type": "code",
   "execution_count": 45,
   "metadata": {},
   "outputs": [
    {
     "data": {
      "text/html": [
       "<div>\n",
       "<style scoped>\n",
       "    .dataframe tbody tr th:only-of-type {\n",
       "        vertical-align: middle;\n",
       "    }\n",
       "\n",
       "    .dataframe tbody tr th {\n",
       "        vertical-align: top;\n",
       "    }\n",
       "\n",
       "    .dataframe thead th {\n",
       "        text-align: right;\n",
       "    }\n",
       "</style>\n",
       "<table border=\"1\" class=\"dataframe\">\n",
       "  <thead>\n",
       "    <tr style=\"text-align: right;\">\n",
       "      <th></th>\n",
       "      <th>type</th>\n",
       "      <th>quality</th>\n",
       "      <th>fixed acidity_1</th>\n",
       "      <th>volatile acidity_1</th>\n",
       "      <th>citric acid_1</th>\n",
       "      <th>residual sugar_1</th>\n",
       "      <th>chlorides_1</th>\n",
       "      <th>free sulfur dioxide_1</th>\n",
       "      <th>total sulfur dioxide_1</th>\n",
       "      <th>density_1</th>\n",
       "      <th>pH_1</th>\n",
       "      <th>sulphates_1</th>\n",
       "      <th>alcohol_1</th>\n",
       "    </tr>\n",
       "  </thead>\n",
       "  <tbody>\n",
       "    <tr>\n",
       "      <th>0</th>\n",
       "      <td>white</td>\n",
       "      <td>6</td>\n",
       "      <td>-0.166089</td>\n",
       "      <td>-0.423183</td>\n",
       "      <td>0.284686</td>\n",
       "      <td>3.206929</td>\n",
       "      <td>-0.314975</td>\n",
       "      <td>0.815565</td>\n",
       "      <td>0.959976</td>\n",
       "      <td>2.102214</td>\n",
       "      <td>-1.359049</td>\n",
       "      <td>-0.546178</td>\n",
       "      <td>-1.418558</td>\n",
       "    </tr>\n",
       "    <tr>\n",
       "      <th>1</th>\n",
       "      <td>white</td>\n",
       "      <td>6</td>\n",
       "      <td>-0.706073</td>\n",
       "      <td>-0.240949</td>\n",
       "      <td>0.147046</td>\n",
       "      <td>-0.807837</td>\n",
       "      <td>-0.200790</td>\n",
       "      <td>-0.931107</td>\n",
       "      <td>0.287618</td>\n",
       "      <td>-0.232332</td>\n",
       "      <td>0.506915</td>\n",
       "      <td>-0.277351</td>\n",
       "      <td>-0.831615</td>\n",
       "    </tr>\n",
       "    <tr>\n",
       "      <th>2</th>\n",
       "      <td>white</td>\n",
       "      <td>6</td>\n",
       "      <td>0.682458</td>\n",
       "      <td>-0.362438</td>\n",
       "      <td>0.559966</td>\n",
       "      <td>0.306208</td>\n",
       "      <td>-0.172244</td>\n",
       "      <td>-0.029599</td>\n",
       "      <td>-0.331660</td>\n",
       "      <td>0.134525</td>\n",
       "      <td>0.258120</td>\n",
       "      <td>-0.613385</td>\n",
       "      <td>-0.328521</td>\n",
       "    </tr>\n",
       "    <tr>\n",
       "      <th>3</th>\n",
       "      <td>white</td>\n",
       "      <td>6</td>\n",
       "      <td>-0.011808</td>\n",
       "      <td>-0.666161</td>\n",
       "      <td>0.009406</td>\n",
       "      <td>0.642523</td>\n",
       "      <td>0.056126</td>\n",
       "      <td>0.928254</td>\n",
       "      <td>1.243074</td>\n",
       "      <td>0.301278</td>\n",
       "      <td>-0.177272</td>\n",
       "      <td>-0.882212</td>\n",
       "      <td>-0.496219</td>\n",
       "    </tr>\n",
       "    <tr>\n",
       "      <th>4</th>\n",
       "      <td>white</td>\n",
       "      <td>6</td>\n",
       "      <td>-0.011808</td>\n",
       "      <td>-0.666161</td>\n",
       "      <td>0.009406</td>\n",
       "      <td>0.642523</td>\n",
       "      <td>0.056126</td>\n",
       "      <td>0.928254</td>\n",
       "      <td>1.243074</td>\n",
       "      <td>0.301278</td>\n",
       "      <td>-0.177272</td>\n",
       "      <td>-0.882212</td>\n",
       "      <td>-0.496219</td>\n",
       "    </tr>\n",
       "  </tbody>\n",
       "</table>\n",
       "</div>"
      ],
      "text/plain": [
       "    type  quality  fixed acidity_1  volatile acidity_1  citric acid_1  \\\n",
       "0  white        6        -0.166089           -0.423183       0.284686   \n",
       "1  white        6        -0.706073           -0.240949       0.147046   \n",
       "2  white        6         0.682458           -0.362438       0.559966   \n",
       "3  white        6        -0.011808           -0.666161       0.009406   \n",
       "4  white        6        -0.011808           -0.666161       0.009406   \n",
       "\n",
       "   residual sugar_1  chlorides_1  free sulfur dioxide_1  \\\n",
       "0          3.206929    -0.314975               0.815565   \n",
       "1         -0.807837    -0.200790              -0.931107   \n",
       "2          0.306208    -0.172244              -0.029599   \n",
       "3          0.642523     0.056126               0.928254   \n",
       "4          0.642523     0.056126               0.928254   \n",
       "\n",
       "   total sulfur dioxide_1  density_1      pH_1  sulphates_1  alcohol_1  \n",
       "0                0.959976   2.102214 -1.359049    -0.546178  -1.418558  \n",
       "1                0.287618  -0.232332  0.506915    -0.277351  -0.831615  \n",
       "2               -0.331660   0.134525  0.258120    -0.613385  -0.328521  \n",
       "3                1.243074   0.301278 -0.177272    -0.882212  -0.496219  \n",
       "4                1.243074   0.301278 -0.177272    -0.882212  -0.496219  "
      ]
     },
     "execution_count": 45,
     "metadata": {},
     "output_type": "execute_result"
    }
   ],
   "source": [
    "import warnings\n",
    "warnings.filterwarnings('ignore')\n",
    "\n",
    "var=list(data)\n",
    "var.remove(\"quality\")\n",
    "var.remove(\"type\")\n",
    "\n",
    "for i in range(0,len(var)): \n",
    "    data_N2[var[i]+\"_1\"] = (data[var[i]]-data[var[i]].mean())/(data[var[i]].std(ddof=0)) \n",
    "data_N2.head()"
   ]
  },
  {
   "cell_type": "code",
   "execution_count": 46,
   "metadata": {
    "scrolled": true
   },
   "outputs": [
    {
     "data": {
      "text/html": [
       "<div>\n",
       "<style scoped>\n",
       "    .dataframe tbody tr th:only-of-type {\n",
       "        vertical-align: middle;\n",
       "    }\n",
       "\n",
       "    .dataframe tbody tr th {\n",
       "        vertical-align: top;\n",
       "    }\n",
       "\n",
       "    .dataframe thead th {\n",
       "        text-align: right;\n",
       "    }\n",
       "</style>\n",
       "<table border=\"1\" class=\"dataframe\">\n",
       "  <thead>\n",
       "    <tr style=\"text-align: right;\">\n",
       "      <th>clasificacion</th>\n",
       "      <th>0</th>\n",
       "      <th>1</th>\n",
       "      <th>All</th>\n",
       "    </tr>\n",
       "    <tr>\n",
       "      <th>type</th>\n",
       "      <th></th>\n",
       "      <th></th>\n",
       "      <th></th>\n",
       "    </tr>\n",
       "  </thead>\n",
       "  <tbody>\n",
       "    <tr>\n",
       "      <th>red</th>\n",
       "      <td>1382</td>\n",
       "      <td>217</td>\n",
       "      <td>1599</td>\n",
       "    </tr>\n",
       "    <tr>\n",
       "      <th>white</th>\n",
       "      <td>3838</td>\n",
       "      <td>1060</td>\n",
       "      <td>4898</td>\n",
       "    </tr>\n",
       "    <tr>\n",
       "      <th>All</th>\n",
       "      <td>5220</td>\n",
       "      <td>1277</td>\n",
       "      <td>6497</td>\n",
       "    </tr>\n",
       "  </tbody>\n",
       "</table>\n",
       "</div>"
      ],
      "text/plain": [
       "clasificacion     0     1   All\n",
       "type                           \n",
       "red            1382   217  1599\n",
       "white          3838  1060  4898\n",
       "All            5220  1277  6497"
      ]
     },
     "execution_count": 46,
     "metadata": {},
     "output_type": "execute_result"
    }
   ],
   "source": [
    "data_N2.loc[data_N2['quality'] >= 7, 'clasificacion'] = '1'#Bueno\n",
    "data_N2.loc[data_N2['quality'] < 7, 'clasificacion'] = '0' #Malo\n",
    "pd.crosstab(data_N2.type, data_N2.clasificacion, margins=True)"
   ]
  },
  {
   "cell_type": "code",
   "execution_count": 47,
   "metadata": {},
   "outputs": [],
   "source": [
    "from sklearn.svm import SVC # \"Support Vector Classifier\"\n",
    "from sklearn.model_selection import train_test_split"
   ]
  },
  {
   "cell_type": "code",
   "execution_count": 48,
   "metadata": {},
   "outputs": [],
   "source": [
    "data_NR=data_N2[(data_N2[\"type\"]=='red')]\n",
    "data_NW=data_N2[(data_N2[\"type\"]=='white')]\n",
    "\n",
    "data_NR_2=data_NR.drop(\"type\",axis=1)\n",
    "data_NR_2=data_NR_2.drop(\"quality\",axis=1)\n",
    "\n",
    "data_NW_2=data_NW.drop(\"type\",axis=1)\n",
    "data_NW_2=data_NW_2.drop(\"quality\",axis=1)\n",
    "\n",
    "y_r = data_NR_2[\"clasificacion\"].values\n",
    "X_r = data_NR_2[['fixed acidity_1', 'volatile acidity_1','citric acid_1','residual sugar_1','chlorides_1','free sulfur dioxide_1','total sulfur dioxide_1','density_1','pH_1','sulphates_1','alcohol_1']].values"
   ]
  },
  {
   "cell_type": "code",
   "execution_count": 49,
   "metadata": {},
   "outputs": [],
   "source": [
    "validation_size = 0.30\n",
    "seed = 7\n",
    "X_train_rw, X_test_rw= train_test_split(X_r,test_size=validation_size, random_state=seed)\n",
    "y_train_rw, y_test_rw = train_test_split(y_r,test_size=validation_size, random_state=seed)"
   ]
  },
  {
   "cell_type": "code",
   "execution_count": 50,
   "metadata": {},
   "outputs": [
    {
     "data": {
      "text/plain": [
       "SVC(C=1.0, cache_size=200, class_weight=None, coef0=0.0,\n",
       "  decision_function_shape='ovr', degree=3, gamma='auto', kernel='linear',\n",
       "  max_iter=-1, probability=False, random_state=None, shrinking=True,\n",
       "  tol=0.001, verbose=False)"
      ]
     },
     "execution_count": 50,
     "metadata": {},
     "output_type": "execute_result"
    }
   ],
   "source": [
    "clf_rw = SVC(kernel='linear')\n",
    "clf_rw.fit(X_train_rw, y_train_rw)"
   ]
  },
  {
   "cell_type": "code",
   "execution_count": 51,
   "metadata": {},
   "outputs": [
    {
     "data": {
      "text/plain": [
       "0.86875"
      ]
     },
     "execution_count": 51,
     "metadata": {},
     "output_type": "execute_result"
    }
   ],
   "source": [
    "clf_rw.score(X_test_rw,y_test_rw)"
   ]
  },
  {
   "cell_type": "code",
   "execution_count": 52,
   "metadata": {},
   "outputs": [],
   "source": [
    "y_w = data_NW_2[\"clasificacion\"].values\n",
    "X_w = data_NW_2[['fixed acidity_1', 'volatile acidity_1','citric acid_1','residual sugar_1','chlorides_1','free sulfur dioxide_1','total sulfur dioxide_1','density_1','pH_1','sulphates_1','alcohol_1']].values"
   ]
  },
  {
   "cell_type": "code",
   "execution_count": 53,
   "metadata": {},
   "outputs": [],
   "source": [
    "validation_size = 0.30\n",
    "seed = 8\n",
    "X_train_ww, X_test_ww= train_test_split(X_w,test_size=validation_size, random_state=seed)\n",
    "y_train_ww, y_test_ww = train_test_split(y_w,test_size=validation_size, random_state=seed)"
   ]
  },
  {
   "cell_type": "code",
   "execution_count": 54,
   "metadata": {},
   "outputs": [
    {
     "data": {
      "text/plain": [
       "SVC(C=1.0, cache_size=200, class_weight=None, coef0=0.0,\n",
       "  decision_function_shape='ovr', degree=3, gamma='auto', kernel='linear',\n",
       "  max_iter=-1, probability=False, random_state=None, shrinking=True,\n",
       "  tol=0.001, verbose=False)"
      ]
     },
     "execution_count": 54,
     "metadata": {},
     "output_type": "execute_result"
    }
   ],
   "source": [
    "clf_ww = SVC(kernel='linear')\n",
    "clf_ww.fit(X_train_ww, y_train_ww)"
   ]
  },
  {
   "cell_type": "code",
   "execution_count": 55,
   "metadata": {},
   "outputs": [
    {
     "data": {
      "text/plain": [
       "array([-1.00045218, -0.99981722, -1.00032966, ..., -1.00014484,\n",
       "       -0.99967801, -0.99993767])"
      ]
     },
     "execution_count": 55,
     "metadata": {},
     "output_type": "execute_result"
    }
   ],
   "source": [
    "clf_ww.decision_function(X_test_ww)"
   ]
  },
  {
   "cell_type": "code",
   "execution_count": 56,
   "metadata": {},
   "outputs": [
    {
     "data": {
      "text/plain": [
       "array(['0', '0', '0', ..., '0', '0', '0'], dtype=object)"
      ]
     },
     "execution_count": 56,
     "metadata": {},
     "output_type": "execute_result"
    }
   ],
   "source": [
    "clf_ww.predict(X_test_ww)"
   ]
  },
  {
   "cell_type": "code",
   "execution_count": 57,
   "metadata": {},
   "outputs": [
    {
     "data": {
      "text/plain": [
       "0.7891156462585034"
      ]
     },
     "execution_count": 57,
     "metadata": {},
     "output_type": "execute_result"
    }
   ],
   "source": [
    "clf_ww.score(X_test_ww,y_test_ww)"
   ]
  },
  {
   "cell_type": "code",
   "execution_count": 58,
   "metadata": {},
   "outputs": [
    {
     "data": {
      "text/html": [
       "<div>\n",
       "<style scoped>\n",
       "    .dataframe tbody tr th:only-of-type {\n",
       "        vertical-align: middle;\n",
       "    }\n",
       "\n",
       "    .dataframe tbody tr th {\n",
       "        vertical-align: top;\n",
       "    }\n",
       "\n",
       "    .dataframe thead th {\n",
       "        text-align: right;\n",
       "    }\n",
       "</style>\n",
       "<table border=\"1\" class=\"dataframe\">\n",
       "  <thead>\n",
       "    <tr style=\"text-align: right;\">\n",
       "      <th></th>\n",
       "      <th>Model</th>\n",
       "      <th>Accuracy</th>\n",
       "    </tr>\n",
       "  </thead>\n",
       "  <tbody>\n",
       "    <tr>\n",
       "      <th>0</th>\n",
       "      <td>red wine</td>\n",
       "      <td>0.868750</td>\n",
       "    </tr>\n",
       "    <tr>\n",
       "      <th>1</th>\n",
       "      <td>white wine</td>\n",
       "      <td>0.789116</td>\n",
       "    </tr>\n",
       "  </tbody>\n",
       "</table>\n",
       "</div>"
      ],
      "text/plain": [
       "        Model  Accuracy\n",
       "0    red wine  0.868750\n",
       "1  white wine  0.789116"
      ]
     },
     "execution_count": 58,
     "metadata": {},
     "output_type": "execute_result"
    }
   ],
   "source": [
    "d = {'Model': ['red wine', 'white wine'],'Accuracy': [clf_rw.score(X_test_rw,y_test_rw),clf_ww.score(X_test_ww,y_test_ww)],}\n",
    "res= pd.DataFrame(data=d)\n",
    "res"
   ]
  },
  {
   "cell_type": "markdown",
   "metadata": {},
   "source": [
    "# Exercise 6.3\n",
    "\n",
    "Test the two SVM's using the different kernels (‘poly’, ‘rbf’, ‘sigmoid’)\n"
   ]
  },
  {
   "cell_type": "code",
   "execution_count": 59,
   "metadata": {},
   "outputs": [],
   "source": [
    "clf_pol_r = SVC(kernel='poly')\n",
    "clf_rbf_r= SVC(kernel='rbf')\n",
    "clf_sig_r= SVC(kernel='sigmoid')\n",
    "\n",
    "clf_pol_w= SVC(kernel='poly')\n",
    "clf_rbf_w= SVC(kernel='rbf')\n",
    "clf_sig_w= SVC(kernel='sigmoid')"
   ]
  },
  {
   "cell_type": "code",
   "execution_count": 60,
   "metadata": {},
   "outputs": [
    {
     "data": {
      "text/plain": [
       "SVC(C=1.0, cache_size=200, class_weight=None, coef0=0.0,\n",
       "  decision_function_shape='ovr', degree=3, gamma='auto', kernel='sigmoid',\n",
       "  max_iter=-1, probability=False, random_state=None, shrinking=True,\n",
       "  tol=0.001, verbose=False)"
      ]
     },
     "execution_count": 60,
     "metadata": {},
     "output_type": "execute_result"
    }
   ],
   "source": [
    "clf_pol_r.fit(X_train_rw, y_train_rw)\n",
    "clf_rbf_r.fit(X_train_rw, y_train_rw)\n",
    "clf_sig_r.fit(X_train_rw, y_train_rw)\n",
    "\n",
    "clf_pol_w.fit(X_train_ww, y_train_ww)\n",
    "clf_rbf_w.fit(X_train_ww, y_train_ww)\n",
    "clf_sig_w.fit(X_train_ww, y_train_ww)"
   ]
  },
  {
   "cell_type": "code",
   "execution_count": 61,
   "metadata": {},
   "outputs": [
    {
     "data": {
      "text/html": [
       "<div>\n",
       "<style scoped>\n",
       "    .dataframe tbody tr th:only-of-type {\n",
       "        vertical-align: middle;\n",
       "    }\n",
       "\n",
       "    .dataframe tbody tr th {\n",
       "        vertical-align: top;\n",
       "    }\n",
       "\n",
       "    .dataframe thead tr th {\n",
       "        text-align: left;\n",
       "    }\n",
       "\n",
       "    .dataframe thead tr:last-of-type th {\n",
       "        text-align: right;\n",
       "    }\n",
       "</style>\n",
       "<table border=\"1\" class=\"dataframe\">\n",
       "  <thead>\n",
       "    <tr>\n",
       "      <th></th>\n",
       "      <th colspan=\"4\" halign=\"left\">sum</th>\n",
       "    </tr>\n",
       "    <tr>\n",
       "      <th></th>\n",
       "      <th colspan=\"4\" halign=\"left\">Accuracy</th>\n",
       "    </tr>\n",
       "    <tr>\n",
       "      <th>Kernel</th>\n",
       "      <th>linear</th>\n",
       "      <th>poly</th>\n",
       "      <th>rbf</th>\n",
       "      <th>sigmoid</th>\n",
       "    </tr>\n",
       "    <tr>\n",
       "      <th>Model</th>\n",
       "      <th></th>\n",
       "      <th></th>\n",
       "      <th></th>\n",
       "      <th></th>\n",
       "    </tr>\n",
       "  </thead>\n",
       "  <tbody>\n",
       "    <tr>\n",
       "      <th>red wine</th>\n",
       "      <td>0.868750</td>\n",
       "      <td>0.883333</td>\n",
       "      <td>0.887500</td>\n",
       "      <td>0.783333</td>\n",
       "    </tr>\n",
       "    <tr>\n",
       "      <th>white wine</th>\n",
       "      <td>0.789116</td>\n",
       "      <td>0.803401</td>\n",
       "      <td>0.819048</td>\n",
       "      <td>0.713605</td>\n",
       "    </tr>\n",
       "  </tbody>\n",
       "</table>\n",
       "</div>"
      ],
      "text/plain": [
       "                 sum                              \n",
       "            Accuracy                              \n",
       "Kernel        linear      poly       rbf   sigmoid\n",
       "Model                                             \n",
       "red wine    0.868750  0.883333  0.887500  0.783333\n",
       "white wine  0.789116  0.803401  0.819048  0.713605"
      ]
     },
     "execution_count": 61,
     "metadata": {},
     "output_type": "execute_result"
    }
   ],
   "source": [
    "sup = {'Model': ['red wine', 'red wine','red wine','red wine','white wine', 'white wine','white wine','white wine'],'Kernel': ['linear','poly', 'rbf','sigmoid','linear','poly', 'rbf','sigmoid'],'Accuracy': [clf_rw.score(X_test_rw,y_test_rw),clf_pol_r.score(X_test_rw, y_test_rw),clf_rbf_r.score(X_test_rw, y_test_rw),clf_sig_r.score(X_test_rw, y_test_rw),clf_ww.score(X_test_ww,y_test_ww),clf_pol_w.score(X_test_ww, y_test_ww),clf_rbf_w.score(X_test_ww, y_test_ww),clf_sig_w.score(X_test_ww, y_test_ww)],}\n",
    "res3= pd.DataFrame(data=sup)\n",
    "pd.pivot_table(res3,index=[\"Model\"],values=[\"Accuracy\"],columns=[\"Kernel\"],aggfunc=[np.sum])"
   ]
  },
  {
   "cell_type": "markdown",
   "metadata": {},
   "source": [
    "# Exercise 6.4\n",
    "Using the best SVM find the parameters that gives the best performance\n",
    "\n",
    "'C': [0.1, 1, 10, 100, 1000], 'gamma': [0.01, 0.001, 0.0001]"
   ]
  },
  {
   "cell_type": "code",
   "execution_count": 62,
   "metadata": {},
   "outputs": [],
   "source": [
    "#Para vinos rojos rbf, para vinos blancos rbf\n",
    "Cv=[0.1,1,10,100,1000]\n",
    "gammav=[0.01,0.001,0.0001]\n",
    "res4r = pd.DataFrame(0, index=Cv, columns=gammav)\n",
    "res4w = pd.DataFrame(0, index=Cv, columns=gammav)"
   ]
  },
  {
   "cell_type": "code",
   "execution_count": 63,
   "metadata": {},
   "outputs": [],
   "source": [
    "for i in range(0,len(Cv)): \n",
    "    for j in range(0,len(gammav)):\n",
    "        clf_rbf_rw1 = SVC(kernel='rbf',C=Cv[i],gamma=gammav[j]).fit(X_train_rw, y_train_rw)\n",
    "        res4r.iloc[i,j]=clf_rbf_rw1.score(X_test_rw, y_test_rw)"
   ]
  },
  {
   "cell_type": "code",
   "execution_count": 64,
   "metadata": {},
   "outputs": [
    {
     "name": "stdout",
     "output_type": "stream",
     "text": [
      "Accuracy Vinos Rojos SVM RBF\n"
     ]
    },
    {
     "data": {
      "text/html": [
       "<div>\n",
       "<style scoped>\n",
       "    .dataframe tbody tr th:only-of-type {\n",
       "        vertical-align: middle;\n",
       "    }\n",
       "\n",
       "    .dataframe tbody tr th {\n",
       "        vertical-align: top;\n",
       "    }\n",
       "\n",
       "    .dataframe thead th {\n",
       "        text-align: right;\n",
       "    }\n",
       "</style>\n",
       "<table border=\"1\" class=\"dataframe\">\n",
       "  <thead>\n",
       "    <tr style=\"text-align: right;\">\n",
       "      <th></th>\n",
       "      <th>0.01</th>\n",
       "      <th>0.001</th>\n",
       "      <th>0.0001</th>\n",
       "    </tr>\n",
       "  </thead>\n",
       "  <tbody>\n",
       "    <tr>\n",
       "      <th>0.1</th>\n",
       "      <td>0.868750</td>\n",
       "      <td>0.86875</td>\n",
       "      <td>0.86875</td>\n",
       "    </tr>\n",
       "    <tr>\n",
       "      <th>1.0</th>\n",
       "      <td>0.868750</td>\n",
       "      <td>0.86875</td>\n",
       "      <td>0.86875</td>\n",
       "    </tr>\n",
       "    <tr>\n",
       "      <th>10.0</th>\n",
       "      <td>0.883333</td>\n",
       "      <td>0.86875</td>\n",
       "      <td>0.86875</td>\n",
       "    </tr>\n",
       "    <tr>\n",
       "      <th>100.0</th>\n",
       "      <td>0.875000</td>\n",
       "      <td>0.86875</td>\n",
       "      <td>0.86875</td>\n",
       "    </tr>\n",
       "    <tr>\n",
       "      <th>1000.0</th>\n",
       "      <td>0.864583</td>\n",
       "      <td>0.88125</td>\n",
       "      <td>0.86875</td>\n",
       "    </tr>\n",
       "  </tbody>\n",
       "</table>\n",
       "</div>"
      ],
      "text/plain": [
       "          0.0100   0.0010   0.0001\n",
       "0.1     0.868750  0.86875  0.86875\n",
       "1.0     0.868750  0.86875  0.86875\n",
       "10.0    0.883333  0.86875  0.86875\n",
       "100.0   0.875000  0.86875  0.86875\n",
       "1000.0  0.864583  0.88125  0.86875"
      ]
     },
     "execution_count": 64,
     "metadata": {},
     "output_type": "execute_result"
    }
   ],
   "source": [
    "print(\"Accuracy Vinos Rojos SVM RBF\")\n",
    "res4r"
   ]
  },
  {
   "cell_type": "code",
   "execution_count": 65,
   "metadata": {},
   "outputs": [],
   "source": [
    "for i in range(0,len(Cv)): \n",
    "    for j in range(0,len(gammav)):\n",
    "        clf_rbf_ww1 = SVC(kernel='rbf',C=Cv[i],gamma=gammav[j]).fit(X_train_ww, y_train_ww)\n",
    "        res4w.iloc[i,j]=clf_rbf_ww1.score(X_test_ww, y_test_ww)"
   ]
  },
  {
   "cell_type": "code",
   "execution_count": 66,
   "metadata": {},
   "outputs": [
    {
     "name": "stdout",
     "output_type": "stream",
     "text": [
      "Accuracy Vinos Blancos SVM RBF\n"
     ]
    },
    {
     "data": {
      "text/html": [
       "<div>\n",
       "<style scoped>\n",
       "    .dataframe tbody tr th:only-of-type {\n",
       "        vertical-align: middle;\n",
       "    }\n",
       "\n",
       "    .dataframe tbody tr th {\n",
       "        vertical-align: top;\n",
       "    }\n",
       "\n",
       "    .dataframe thead th {\n",
       "        text-align: right;\n",
       "    }\n",
       "</style>\n",
       "<table border=\"1\" class=\"dataframe\">\n",
       "  <thead>\n",
       "    <tr style=\"text-align: right;\">\n",
       "      <th></th>\n",
       "      <th>0.01</th>\n",
       "      <th>0.001</th>\n",
       "      <th>0.0001</th>\n",
       "    </tr>\n",
       "  </thead>\n",
       "  <tbody>\n",
       "    <tr>\n",
       "      <th>0.1</th>\n",
       "      <td>0.789116</td>\n",
       "      <td>0.789116</td>\n",
       "      <td>0.789116</td>\n",
       "    </tr>\n",
       "    <tr>\n",
       "      <th>1.0</th>\n",
       "      <td>0.791156</td>\n",
       "      <td>0.789116</td>\n",
       "      <td>0.789116</td>\n",
       "    </tr>\n",
       "    <tr>\n",
       "      <th>10.0</th>\n",
       "      <td>0.816327</td>\n",
       "      <td>0.789116</td>\n",
       "      <td>0.789116</td>\n",
       "    </tr>\n",
       "    <tr>\n",
       "      <th>100.0</th>\n",
       "      <td>0.821769</td>\n",
       "      <td>0.796599</td>\n",
       "      <td>0.789116</td>\n",
       "    </tr>\n",
       "    <tr>\n",
       "      <th>1000.0</th>\n",
       "      <td>0.824490</td>\n",
       "      <td>0.814966</td>\n",
       "      <td>0.789116</td>\n",
       "    </tr>\n",
       "  </tbody>\n",
       "</table>\n",
       "</div>"
      ],
      "text/plain": [
       "          0.0100    0.0010    0.0001\n",
       "0.1     0.789116  0.789116  0.789116\n",
       "1.0     0.791156  0.789116  0.789116\n",
       "10.0    0.816327  0.789116  0.789116\n",
       "100.0   0.821769  0.796599  0.789116\n",
       "1000.0  0.824490  0.814966  0.789116"
      ]
     },
     "execution_count": 66,
     "metadata": {},
     "output_type": "execute_result"
    }
   ],
   "source": [
    "print(\"Accuracy Vinos Blancos SVM RBF\")\n",
    "res4w"
   ]
  },
  {
   "cell_type": "markdown",
   "metadata": {},
   "source": [
    "# Exercise 6.5\n",
    "\n",
    "Compare the results with other methods"
   ]
  },
  {
   "cell_type": "code",
   "execution_count": 67,
   "metadata": {},
   "outputs": [],
   "source": [
    "from sklearn.linear_model import LogisticRegression\n",
    "from sklearn import linear_model\n",
    "from sklearn.model_selection import train_test_split\n",
    "from sklearn.metrics import accuracy_score"
   ]
  },
  {
   "cell_type": "code",
   "execution_count": 68,
   "metadata": {},
   "outputs": [],
   "source": [
    "lgm=linear_model.LogisticRegression()\n",
    "clflrr=lgm.fit(X_train_rw, y_train_rw)\n",
    "clflrw=lgm.fit(X_train_ww, y_train_ww)"
   ]
  },
  {
   "cell_type": "code",
   "execution_count": 69,
   "metadata": {},
   "outputs": [
    {
     "name": "stdout",
     "output_type": "stream",
     "text": [
      "Coeficientes Vinos Rojos Logit\n"
     ]
    },
    {
     "data": {
      "text/html": [
       "<div>\n",
       "<style scoped>\n",
       "    .dataframe tbody tr th:only-of-type {\n",
       "        vertical-align: middle;\n",
       "    }\n",
       "\n",
       "    .dataframe tbody tr th {\n",
       "        vertical-align: top;\n",
       "    }\n",
       "\n",
       "    .dataframe thead th {\n",
       "        text-align: right;\n",
       "    }\n",
       "</style>\n",
       "<table border=\"1\" class=\"dataframe\">\n",
       "  <thead>\n",
       "    <tr style=\"text-align: right;\">\n",
       "      <th></th>\n",
       "      <th>Coeficientes estimados</th>\n",
       "      <th>Variables</th>\n",
       "    </tr>\n",
       "  </thead>\n",
       "  <tbody>\n",
       "    <tr>\n",
       "      <th>0</th>\n",
       "      <td>0.617697</td>\n",
       "      <td>fixed acidity_1</td>\n",
       "    </tr>\n",
       "    <tr>\n",
       "      <th>1</th>\n",
       "      <td>-0.622389</td>\n",
       "      <td>volatile acidity_1</td>\n",
       "    </tr>\n",
       "    <tr>\n",
       "      <th>2</th>\n",
       "      <td>-0.156196</td>\n",
       "      <td>citric acid_1</td>\n",
       "    </tr>\n",
       "    <tr>\n",
       "      <th>3</th>\n",
       "      <td>1.146875</td>\n",
       "      <td>residual sugar_1</td>\n",
       "    </tr>\n",
       "    <tr>\n",
       "      <th>4</th>\n",
       "      <td>-0.373778</td>\n",
       "      <td>chlorides_1</td>\n",
       "    </tr>\n",
       "    <tr>\n",
       "      <th>5</th>\n",
       "      <td>0.173370</td>\n",
       "      <td>free sulfur dioxide_1</td>\n",
       "    </tr>\n",
       "    <tr>\n",
       "      <th>6</th>\n",
       "      <td>0.004923</td>\n",
       "      <td>total sulfur dioxide_1</td>\n",
       "    </tr>\n",
       "    <tr>\n",
       "      <th>7</th>\n",
       "      <td>-1.623533</td>\n",
       "      <td>density_1</td>\n",
       "    </tr>\n",
       "    <tr>\n",
       "      <th>8</th>\n",
       "      <td>0.534017</td>\n",
       "      <td>pH_1</td>\n",
       "    </tr>\n",
       "    <tr>\n",
       "      <th>9</th>\n",
       "      <td>0.283308</td>\n",
       "      <td>sulphates_1</td>\n",
       "    </tr>\n",
       "    <tr>\n",
       "      <th>10</th>\n",
       "      <td>0.288928</td>\n",
       "      <td>alcohol_1</td>\n",
       "    </tr>\n",
       "  </tbody>\n",
       "</table>\n",
       "</div>"
      ],
      "text/plain": [
       "    Coeficientes estimados               Variables\n",
       "0                 0.617697         fixed acidity_1\n",
       "1                -0.622389      volatile acidity_1\n",
       "2                -0.156196           citric acid_1\n",
       "3                 1.146875        residual sugar_1\n",
       "4                -0.373778             chlorides_1\n",
       "5                 0.173370   free sulfur dioxide_1\n",
       "6                 0.004923  total sulfur dioxide_1\n",
       "7                -1.623533               density_1\n",
       "8                 0.534017                    pH_1\n",
       "9                 0.283308             sulphates_1\n",
       "10                0.288928               alcohol_1"
      ]
     },
     "execution_count": 69,
     "metadata": {},
     "output_type": "execute_result"
    }
   ],
   "source": [
    "x3=data_NR_2.drop(\"clasificacion\",axis=1)\n",
    "a=clflrr.coef_\n",
    "a=pd.DataFrame(a.reshape(-1,1))\n",
    "a.rename(columns={0:\"Coeficientes estimados\"}, inplace=True)\n",
    "a[\"Variables\"]=x3.columns\n",
    "print(\"Coeficientes Vinos Rojos Logit\")\n",
    "a"
   ]
  },
  {
   "cell_type": "code",
   "execution_count": 70,
   "metadata": {},
   "outputs": [
    {
     "name": "stdout",
     "output_type": "stream",
     "text": [
      "Coeficientes Vinos Blancos Logit\n"
     ]
    },
    {
     "data": {
      "text/html": [
       "<div>\n",
       "<style scoped>\n",
       "    .dataframe tbody tr th:only-of-type {\n",
       "        vertical-align: middle;\n",
       "    }\n",
       "\n",
       "    .dataframe tbody tr th {\n",
       "        vertical-align: top;\n",
       "    }\n",
       "\n",
       "    .dataframe thead th {\n",
       "        text-align: right;\n",
       "    }\n",
       "</style>\n",
       "<table border=\"1\" class=\"dataframe\">\n",
       "  <thead>\n",
       "    <tr style=\"text-align: right;\">\n",
       "      <th></th>\n",
       "      <th>Coeficientes estimados</th>\n",
       "      <th>Variables</th>\n",
       "    </tr>\n",
       "  </thead>\n",
       "  <tbody>\n",
       "    <tr>\n",
       "      <th>0</th>\n",
       "      <td>0.617697</td>\n",
       "      <td>fixed acidity_1</td>\n",
       "    </tr>\n",
       "    <tr>\n",
       "      <th>1</th>\n",
       "      <td>-0.622389</td>\n",
       "      <td>volatile acidity_1</td>\n",
       "    </tr>\n",
       "    <tr>\n",
       "      <th>2</th>\n",
       "      <td>-0.156196</td>\n",
       "      <td>citric acid_1</td>\n",
       "    </tr>\n",
       "    <tr>\n",
       "      <th>3</th>\n",
       "      <td>1.146875</td>\n",
       "      <td>residual sugar_1</td>\n",
       "    </tr>\n",
       "    <tr>\n",
       "      <th>4</th>\n",
       "      <td>-0.373778</td>\n",
       "      <td>chlorides_1</td>\n",
       "    </tr>\n",
       "    <tr>\n",
       "      <th>5</th>\n",
       "      <td>0.173370</td>\n",
       "      <td>free sulfur dioxide_1</td>\n",
       "    </tr>\n",
       "    <tr>\n",
       "      <th>6</th>\n",
       "      <td>0.004923</td>\n",
       "      <td>total sulfur dioxide_1</td>\n",
       "    </tr>\n",
       "    <tr>\n",
       "      <th>7</th>\n",
       "      <td>-1.623533</td>\n",
       "      <td>density_1</td>\n",
       "    </tr>\n",
       "    <tr>\n",
       "      <th>8</th>\n",
       "      <td>0.534017</td>\n",
       "      <td>pH_1</td>\n",
       "    </tr>\n",
       "    <tr>\n",
       "      <th>9</th>\n",
       "      <td>0.283308</td>\n",
       "      <td>sulphates_1</td>\n",
       "    </tr>\n",
       "    <tr>\n",
       "      <th>10</th>\n",
       "      <td>0.288928</td>\n",
       "      <td>alcohol_1</td>\n",
       "    </tr>\n",
       "  </tbody>\n",
       "</table>\n",
       "</div>"
      ],
      "text/plain": [
       "    Coeficientes estimados               Variables\n",
       "0                 0.617697         fixed acidity_1\n",
       "1                -0.622389      volatile acidity_1\n",
       "2                -0.156196           citric acid_1\n",
       "3                 1.146875        residual sugar_1\n",
       "4                -0.373778             chlorides_1\n",
       "5                 0.173370   free sulfur dioxide_1\n",
       "6                 0.004923  total sulfur dioxide_1\n",
       "7                -1.623533               density_1\n",
       "8                 0.534017                    pH_1\n",
       "9                 0.283308             sulphates_1\n",
       "10                0.288928               alcohol_1"
      ]
     },
     "execution_count": 70,
     "metadata": {},
     "output_type": "execute_result"
    }
   ],
   "source": [
    "a=clflrw.coef_\n",
    "a=pd.DataFrame(a.reshape(-1,1))\n",
    "a.rename(columns={0:\"Coeficientes estimados\"}, inplace=True)\n",
    "a[\"Variables\"]=x3.columns\n",
    "print(\"Coeficientes Vinos Blancos Logit\")\n",
    "a"
   ]
  },
  {
   "cell_type": "code",
   "execution_count": 71,
   "metadata": {},
   "outputs": [
    {
     "name": "stdout",
     "output_type": "stream",
     "text": [
      "Accuracy Vinos Rojos Logit\n"
     ]
    },
    {
     "data": {
      "text/plain": [
       "0.8666666666666667"
      ]
     },
     "execution_count": 71,
     "metadata": {},
     "output_type": "execute_result"
    }
   ],
   "source": [
    "print(\"Accuracy Vinos Rojos Logit\")\n",
    "clflrr.score(X_test_rw, y_test_rw)"
   ]
  },
  {
   "cell_type": "code",
   "execution_count": 72,
   "metadata": {},
   "outputs": [
    {
     "name": "stdout",
     "output_type": "stream",
     "text": [
      "Accuracy Vinos Blancos Logit\n"
     ]
    },
    {
     "data": {
      "text/plain": [
       "0.8142857142857143"
      ]
     },
     "execution_count": 72,
     "metadata": {},
     "output_type": "execute_result"
    }
   ],
   "source": [
    "print(\"Accuracy Vinos Blancos Logit\")\n",
    "clflrw.score(X_test_ww, y_test_ww)"
   ]
  },
  {
   "cell_type": "code",
   "execution_count": 73,
   "metadata": {},
   "outputs": [],
   "source": [
    "from sklearn.metrics import f1_score\n",
    "from sklearn.metrics import classification_report"
   ]
  },
  {
   "cell_type": "markdown",
   "metadata": {},
   "source": [
    "\n",
    "# Exercise 6.9\n",
    "Evaluate the f1score"
   ]
  },
  {
   "cell_type": "code",
   "execution_count": 74,
   "metadata": {},
   "outputs": [],
   "source": [
    "y_pred_rw=clflrr.predict(X_test_rw)\n",
    "y_pred_ww=clflrw.predict(X_test_ww)"
   ]
  },
  {
   "cell_type": "code",
   "execution_count": 75,
   "metadata": {},
   "outputs": [
    {
     "name": "stdout",
     "output_type": "stream",
     "text": [
      "f1 Avg Macro RW: 0.46428571428571425\n",
      "f1 Avg Micro RW: 0.8666666666666667\n",
      "f1 Avg Weighted RW: 0.8066964285714284\n",
      "f1 Avg None RW: [0.92857143 0.        ]\n"
     ]
    }
   ],
   "source": [
    "print(\"f1 Avg Macro RW:\",f1_score(y_test_rw, y_pred_rw, average='macro'))\n",
    "print(\"f1 Avg Micro RW:\",f1_score(y_test_rw, y_pred_rw, average='micro'))\n",
    "print(\"f1 Avg Weighted RW:\",f1_score(y_test_rw, y_pred_rw, average='weighted'))\n",
    "print(\"f1 Avg None RW:\",f1_score(y_test_rw, y_pred_rw, average=None))"
   ]
  },
  {
   "cell_type": "code",
   "execution_count": 76,
   "metadata": {},
   "outputs": [
    {
     "name": "stdout",
     "output_type": "stream",
     "text": [
      "f1 Avg Macro WW: 0.6450704225352113\n",
      "f1 Avg Micro WW: 0.8142857142857143\n",
      "f1 Avg Weighted WW: 0.7867778097154354\n",
      "f1 Avg None WW: [0.89014085 0.4       ]\n"
     ]
    }
   ],
   "source": [
    "print(\"f1 Avg Macro WW:\",f1_score(y_test_ww, y_pred_ww, average='macro'))\n",
    "print(\"f1 Avg Micro WW:\",f1_score(y_test_ww, y_pred_ww, average='micro'))\n",
    "print(\"f1 Avg Weighted WW:\",f1_score(y_test_ww, y_pred_ww, average='weighted'))\n",
    "print(\"f1 Avg None WW:\",f1_score(y_test_ww, y_pred_ww, average=None)) "
   ]
  },
  {
   "cell_type": "markdown",
   "metadata": {},
   "source": [
    "# Exercise 6.10\n",
    "- Estimate a regularized logistic regression using:\n",
    "- C = 0.01, 0.1 & 1.0\n",
    "- penalty = ['l1, 'l2']\n",
    "- Compare the coefficients and the f1score"
   ]
  },
  {
   "cell_type": "markdown",
   "metadata": {},
   "source": [
    "# C = 0.01 penalty = ['l1']"
   ]
  },
  {
   "cell_type": "code",
   "execution_count": 77,
   "metadata": {},
   "outputs": [
    {
     "data": {
      "text/plain": [
       "LogisticRegression(C=0.01, class_weight=None, dual=False, fit_intercept=True,\n",
       "          intercept_scaling=1, max_iter=100, multi_class='ovr', n_jobs=1,\n",
       "          penalty='l1', random_state=None, solver='liblinear', tol=0.0001,\n",
       "          verbose=0, warm_start=False)"
      ]
     },
     "execution_count": 77,
     "metadata": {},
     "output_type": "execute_result"
    }
   ],
   "source": [
    "lg_rw = LogisticRegression(C=0.01, penalty='l1')\n",
    "lg_rw.fit(X_train_rw, y_train_rw)\n",
    "\n",
    "lg_ww = LogisticRegression(C=0.01, penalty='l1')\n",
    "lg_ww.fit(X_train_ww, y_train_ww)"
   ]
  },
  {
   "cell_type": "code",
   "execution_count": 78,
   "metadata": {},
   "outputs": [
    {
     "name": "stdout",
     "output_type": "stream",
     "text": [
      "Coeficientes Vinos Rojos Logit C=0,01 P=l1\n"
     ]
    },
    {
     "data": {
      "text/html": [
       "<div>\n",
       "<style scoped>\n",
       "    .dataframe tbody tr th:only-of-type {\n",
       "        vertical-align: middle;\n",
       "    }\n",
       "\n",
       "    .dataframe tbody tr th {\n",
       "        vertical-align: top;\n",
       "    }\n",
       "\n",
       "    .dataframe thead th {\n",
       "        text-align: right;\n",
       "    }\n",
       "</style>\n",
       "<table border=\"1\" class=\"dataframe\">\n",
       "  <thead>\n",
       "    <tr style=\"text-align: right;\">\n",
       "      <th></th>\n",
       "      <th>Coeficientes estimados</th>\n",
       "      <th>Variables</th>\n",
       "    </tr>\n",
       "  </thead>\n",
       "  <tbody>\n",
       "    <tr>\n",
       "      <th>0</th>\n",
       "      <td>0.000000</td>\n",
       "      <td>fixed acidity_1</td>\n",
       "    </tr>\n",
       "    <tr>\n",
       "      <th>1</th>\n",
       "      <td>-0.618091</td>\n",
       "      <td>volatile acidity_1</td>\n",
       "    </tr>\n",
       "    <tr>\n",
       "      <th>2</th>\n",
       "      <td>0.000000</td>\n",
       "      <td>citric acid_1</td>\n",
       "    </tr>\n",
       "    <tr>\n",
       "      <th>3</th>\n",
       "      <td>0.000000</td>\n",
       "      <td>residual sugar_1</td>\n",
       "    </tr>\n",
       "    <tr>\n",
       "      <th>4</th>\n",
       "      <td>-0.103221</td>\n",
       "      <td>chlorides_1</td>\n",
       "    </tr>\n",
       "    <tr>\n",
       "      <th>5</th>\n",
       "      <td>0.000000</td>\n",
       "      <td>free sulfur dioxide_1</td>\n",
       "    </tr>\n",
       "    <tr>\n",
       "      <th>6</th>\n",
       "      <td>0.010022</td>\n",
       "      <td>total sulfur dioxide_1</td>\n",
       "    </tr>\n",
       "    <tr>\n",
       "      <th>7</th>\n",
       "      <td>0.000000</td>\n",
       "      <td>density_1</td>\n",
       "    </tr>\n",
       "    <tr>\n",
       "      <th>8</th>\n",
       "      <td>0.000000</td>\n",
       "      <td>pH_1</td>\n",
       "    </tr>\n",
       "    <tr>\n",
       "      <th>9</th>\n",
       "      <td>0.000000</td>\n",
       "      <td>sulphates_1</td>\n",
       "    </tr>\n",
       "    <tr>\n",
       "      <th>10</th>\n",
       "      <td>0.171623</td>\n",
       "      <td>alcohol_1</td>\n",
       "    </tr>\n",
       "  </tbody>\n",
       "</table>\n",
       "</div>"
      ],
      "text/plain": [
       "    Coeficientes estimados               Variables\n",
       "0                 0.000000         fixed acidity_1\n",
       "1                -0.618091      volatile acidity_1\n",
       "2                 0.000000           citric acid_1\n",
       "3                 0.000000        residual sugar_1\n",
       "4                -0.103221             chlorides_1\n",
       "5                 0.000000   free sulfur dioxide_1\n",
       "6                 0.010022  total sulfur dioxide_1\n",
       "7                 0.000000               density_1\n",
       "8                 0.000000                    pH_1\n",
       "9                 0.000000             sulphates_1\n",
       "10                0.171623               alcohol_1"
      ]
     },
     "execution_count": 78,
     "metadata": {},
     "output_type": "execute_result"
    }
   ],
   "source": [
    "x3=data_NR_2.drop(\"clasificacion\",axis=1)\n",
    "a=lg_rw.coef_\n",
    "a=pd.DataFrame(a.reshape(-1,1))\n",
    "a.rename(columns={0:\"Coeficientes estimados\"}, inplace=True)\n",
    "a[\"Variables\"]=x3.columns\n",
    "print(\"Coeficientes Vinos Rojos Logit C=0,01 P=l1\")\n",
    "a"
   ]
  },
  {
   "cell_type": "code",
   "execution_count": 79,
   "metadata": {},
   "outputs": [
    {
     "name": "stdout",
     "output_type": "stream",
     "text": [
      "Coeficientes Vinos Blancos Logit C=0,01 P=l1\n"
     ]
    },
    {
     "data": {
      "text/html": [
       "<div>\n",
       "<style scoped>\n",
       "    .dataframe tbody tr th:only-of-type {\n",
       "        vertical-align: middle;\n",
       "    }\n",
       "\n",
       "    .dataframe tbody tr th {\n",
       "        vertical-align: top;\n",
       "    }\n",
       "\n",
       "    .dataframe thead th {\n",
       "        text-align: right;\n",
       "    }\n",
       "</style>\n",
       "<table border=\"1\" class=\"dataframe\">\n",
       "  <thead>\n",
       "    <tr style=\"text-align: right;\">\n",
       "      <th></th>\n",
       "      <th>Coeficientes estimados</th>\n",
       "      <th>Variables</th>\n",
       "    </tr>\n",
       "  </thead>\n",
       "  <tbody>\n",
       "    <tr>\n",
       "      <th>0</th>\n",
       "      <td>0.000000</td>\n",
       "      <td>fixed acidity_1</td>\n",
       "    </tr>\n",
       "    <tr>\n",
       "      <th>1</th>\n",
       "      <td>-0.618091</td>\n",
       "      <td>volatile acidity_1</td>\n",
       "    </tr>\n",
       "    <tr>\n",
       "      <th>2</th>\n",
       "      <td>0.000000</td>\n",
       "      <td>citric acid_1</td>\n",
       "    </tr>\n",
       "    <tr>\n",
       "      <th>3</th>\n",
       "      <td>0.000000</td>\n",
       "      <td>residual sugar_1</td>\n",
       "    </tr>\n",
       "    <tr>\n",
       "      <th>4</th>\n",
       "      <td>-0.103221</td>\n",
       "      <td>chlorides_1</td>\n",
       "    </tr>\n",
       "    <tr>\n",
       "      <th>5</th>\n",
       "      <td>0.000000</td>\n",
       "      <td>free sulfur dioxide_1</td>\n",
       "    </tr>\n",
       "    <tr>\n",
       "      <th>6</th>\n",
       "      <td>0.010022</td>\n",
       "      <td>total sulfur dioxide_1</td>\n",
       "    </tr>\n",
       "    <tr>\n",
       "      <th>7</th>\n",
       "      <td>0.000000</td>\n",
       "      <td>density_1</td>\n",
       "    </tr>\n",
       "    <tr>\n",
       "      <th>8</th>\n",
       "      <td>0.000000</td>\n",
       "      <td>pH_1</td>\n",
       "    </tr>\n",
       "    <tr>\n",
       "      <th>9</th>\n",
       "      <td>0.000000</td>\n",
       "      <td>sulphates_1</td>\n",
       "    </tr>\n",
       "    <tr>\n",
       "      <th>10</th>\n",
       "      <td>0.171623</td>\n",
       "      <td>alcohol_1</td>\n",
       "    </tr>\n",
       "  </tbody>\n",
       "</table>\n",
       "</div>"
      ],
      "text/plain": [
       "    Coeficientes estimados               Variables\n",
       "0                 0.000000         fixed acidity_1\n",
       "1                -0.618091      volatile acidity_1\n",
       "2                 0.000000           citric acid_1\n",
       "3                 0.000000        residual sugar_1\n",
       "4                -0.103221             chlorides_1\n",
       "5                 0.000000   free sulfur dioxide_1\n",
       "6                 0.010022  total sulfur dioxide_1\n",
       "7                 0.000000               density_1\n",
       "8                 0.000000                    pH_1\n",
       "9                 0.000000             sulphates_1\n",
       "10                0.171623               alcohol_1"
      ]
     },
     "execution_count": 79,
     "metadata": {},
     "output_type": "execute_result"
    }
   ],
   "source": [
    "b=lg_ww.coef_\n",
    "b=pd.DataFrame(b.reshape(-1,1))\n",
    "b.rename(columns={0:\"Coeficientes estimados\"}, inplace=True)\n",
    "b[\"Variables\"]=x3.columns\n",
    "print(\"Coeficientes Vinos Blancos Logit C=0,01 P=l1\")\n",
    "a"
   ]
  },
  {
   "cell_type": "code",
   "execution_count": 80,
   "metadata": {},
   "outputs": [],
   "source": [
    "y_pred_rw=lg_rw.predict(X_test_rw)\n",
    "y_pred_ww=lg_ww.predict(X_test_ww)"
   ]
  },
  {
   "cell_type": "code",
   "execution_count": 81,
   "metadata": {},
   "outputs": [
    {
     "name": "stdout",
     "output_type": "stream",
     "text": [
      "f1 Avg Macro RW: 0.48948948948948956\n",
      "f1 Avg Micro RW: 0.8583333333333333\n",
      "f1 Avg Weighted RW: 0.8095157657657659\n",
      "f1 Avg None RW: [0.92342342 0.05555556]\n"
     ]
    }
   ],
   "source": [
    "print(\"f1 Avg Macro RW:\",f1_score(y_test_rw, y_pred_rw, average='macro'))\n",
    "print(\"f1 Avg Micro RW:\",f1_score(y_test_rw, y_pred_rw, average='micro'))\n",
    "print(\"f1 Avg Weighted RW:\",f1_score(y_test_rw, y_pred_rw, average='weighted'))\n",
    "print(\"f1 Avg None RW:\",f1_score(y_test_rw, y_pred_rw, average=None))"
   ]
  },
  {
   "cell_type": "code",
   "execution_count": 82,
   "metadata": {},
   "outputs": [
    {
     "name": "stdout",
     "output_type": "stream",
     "text": [
      "f1 Avg Macro WW: 0.5667426695430413\n",
      "f1 Avg Micro WW: 0.8040816326530612\n",
      "f1 Avg Weighted WW: 0.7521637344727445\n",
      "f1 Avg None WW: [0.88741204 0.2460733 ]\n"
     ]
    }
   ],
   "source": [
    "print(\"f1 Avg Macro WW:\",f1_score(y_test_ww, y_pred_ww, average='macro'))\n",
    "print(\"f1 Avg Micro WW:\",f1_score(y_test_ww, y_pred_ww, average='micro'))\n",
    "print(\"f1 Avg Weighted WW:\",f1_score(y_test_ww, y_pred_ww, average='weighted'))\n",
    "print(\"f1 Avg None WW:\",f1_score(y_test_ww, y_pred_ww, average=None))"
   ]
  },
  {
   "cell_type": "markdown",
   "metadata": {},
   "source": [
    "# C = 0.1 penalty = ['l1']\n"
   ]
  },
  {
   "cell_type": "code",
   "execution_count": 83,
   "metadata": {},
   "outputs": [
    {
     "name": "stdout",
     "output_type": "stream",
     "text": [
      "Coeficientes Vinos Rojos Logit C=0,1 P=l1\n"
     ]
    },
    {
     "data": {
      "text/html": [
       "<div>\n",
       "<style scoped>\n",
       "    .dataframe tbody tr th:only-of-type {\n",
       "        vertical-align: middle;\n",
       "    }\n",
       "\n",
       "    .dataframe tbody tr th {\n",
       "        vertical-align: top;\n",
       "    }\n",
       "\n",
       "    .dataframe thead th {\n",
       "        text-align: right;\n",
       "    }\n",
       "</style>\n",
       "<table border=\"1\" class=\"dataframe\">\n",
       "  <thead>\n",
       "    <tr style=\"text-align: right;\">\n",
       "      <th></th>\n",
       "      <th>Coeficientes estimados</th>\n",
       "      <th>Variables</th>\n",
       "    </tr>\n",
       "  </thead>\n",
       "  <tbody>\n",
       "    <tr>\n",
       "      <th>0</th>\n",
       "      <td>0.028533</td>\n",
       "      <td>fixed acidity_1</td>\n",
       "    </tr>\n",
       "    <tr>\n",
       "      <th>1</th>\n",
       "      <td>-0.583468</td>\n",
       "      <td>volatile acidity_1</td>\n",
       "    </tr>\n",
       "    <tr>\n",
       "      <th>2</th>\n",
       "      <td>0.000000</td>\n",
       "      <td>citric acid_1</td>\n",
       "    </tr>\n",
       "    <tr>\n",
       "      <th>3</th>\n",
       "      <td>0.000000</td>\n",
       "      <td>residual sugar_1</td>\n",
       "    </tr>\n",
       "    <tr>\n",
       "      <th>4</th>\n",
       "      <td>-0.173477</td>\n",
       "      <td>chlorides_1</td>\n",
       "    </tr>\n",
       "    <tr>\n",
       "      <th>5</th>\n",
       "      <td>0.000000</td>\n",
       "      <td>free sulfur dioxide_1</td>\n",
       "    </tr>\n",
       "    <tr>\n",
       "      <th>6</th>\n",
       "      <td>0.000000</td>\n",
       "      <td>total sulfur dioxide_1</td>\n",
       "    </tr>\n",
       "    <tr>\n",
       "      <th>7</th>\n",
       "      <td>0.000000</td>\n",
       "      <td>density_1</td>\n",
       "    </tr>\n",
       "    <tr>\n",
       "      <th>8</th>\n",
       "      <td>-0.211027</td>\n",
       "      <td>pH_1</td>\n",
       "    </tr>\n",
       "    <tr>\n",
       "      <th>9</th>\n",
       "      <td>0.149620</td>\n",
       "      <td>sulphates_1</td>\n",
       "    </tr>\n",
       "    <tr>\n",
       "      <th>10</th>\n",
       "      <td>1.082058</td>\n",
       "      <td>alcohol_1</td>\n",
       "    </tr>\n",
       "  </tbody>\n",
       "</table>\n",
       "</div>"
      ],
      "text/plain": [
       "    Coeficientes estimados               Variables\n",
       "0                 0.028533         fixed acidity_1\n",
       "1                -0.583468      volatile acidity_1\n",
       "2                 0.000000           citric acid_1\n",
       "3                 0.000000        residual sugar_1\n",
       "4                -0.173477             chlorides_1\n",
       "5                 0.000000   free sulfur dioxide_1\n",
       "6                 0.000000  total sulfur dioxide_1\n",
       "7                 0.000000               density_1\n",
       "8                -0.211027                    pH_1\n",
       "9                 0.149620             sulphates_1\n",
       "10                1.082058               alcohol_1"
      ]
     },
     "execution_count": 83,
     "metadata": {},
     "output_type": "execute_result"
    }
   ],
   "source": [
    "lg_rw = LogisticRegression(C=0.1, penalty='l1')\n",
    "lg_rw.fit(X_train_rw, y_train_rw)\n",
    "\n",
    "lg_ww = LogisticRegression(C=0.1, penalty='l1')\n",
    "lg_ww.fit(X_train_ww, y_train_ww)\n",
    "\n",
    "x3=data_NR_2.drop(\"clasificacion\",axis=1)\n",
    "a=lg_rw.coef_\n",
    "a=pd.DataFrame(a.reshape(-1,1))\n",
    "a.rename(columns={0:\"Coeficientes estimados\"}, inplace=True)\n",
    "a[\"Variables\"]=x3.columns\n",
    "print(\"Coeficientes Vinos Rojos Logit C=0,1 P=l1\")\n",
    "a"
   ]
  },
  {
   "cell_type": "code",
   "execution_count": 84,
   "metadata": {},
   "outputs": [
    {
     "name": "stdout",
     "output_type": "stream",
     "text": [
      "Coeficientes Vinos Blancos Logit C=0,1 P=l1\n"
     ]
    },
    {
     "data": {
      "text/html": [
       "<div>\n",
       "<style scoped>\n",
       "    .dataframe tbody tr th:only-of-type {\n",
       "        vertical-align: middle;\n",
       "    }\n",
       "\n",
       "    .dataframe tbody tr th {\n",
       "        vertical-align: top;\n",
       "    }\n",
       "\n",
       "    .dataframe thead th {\n",
       "        text-align: right;\n",
       "    }\n",
       "</style>\n",
       "<table border=\"1\" class=\"dataframe\">\n",
       "  <thead>\n",
       "    <tr style=\"text-align: right;\">\n",
       "      <th></th>\n",
       "      <th>Coeficientes estimados</th>\n",
       "      <th>Variables</th>\n",
       "    </tr>\n",
       "  </thead>\n",
       "  <tbody>\n",
       "    <tr>\n",
       "      <th>0</th>\n",
       "      <td>0.028533</td>\n",
       "      <td>fixed acidity_1</td>\n",
       "    </tr>\n",
       "    <tr>\n",
       "      <th>1</th>\n",
       "      <td>-0.583468</td>\n",
       "      <td>volatile acidity_1</td>\n",
       "    </tr>\n",
       "    <tr>\n",
       "      <th>2</th>\n",
       "      <td>0.000000</td>\n",
       "      <td>citric acid_1</td>\n",
       "    </tr>\n",
       "    <tr>\n",
       "      <th>3</th>\n",
       "      <td>0.000000</td>\n",
       "      <td>residual sugar_1</td>\n",
       "    </tr>\n",
       "    <tr>\n",
       "      <th>4</th>\n",
       "      <td>-0.173477</td>\n",
       "      <td>chlorides_1</td>\n",
       "    </tr>\n",
       "    <tr>\n",
       "      <th>5</th>\n",
       "      <td>0.000000</td>\n",
       "      <td>free sulfur dioxide_1</td>\n",
       "    </tr>\n",
       "    <tr>\n",
       "      <th>6</th>\n",
       "      <td>0.000000</td>\n",
       "      <td>total sulfur dioxide_1</td>\n",
       "    </tr>\n",
       "    <tr>\n",
       "      <th>7</th>\n",
       "      <td>0.000000</td>\n",
       "      <td>density_1</td>\n",
       "    </tr>\n",
       "    <tr>\n",
       "      <th>8</th>\n",
       "      <td>-0.211027</td>\n",
       "      <td>pH_1</td>\n",
       "    </tr>\n",
       "    <tr>\n",
       "      <th>9</th>\n",
       "      <td>0.149620</td>\n",
       "      <td>sulphates_1</td>\n",
       "    </tr>\n",
       "    <tr>\n",
       "      <th>10</th>\n",
       "      <td>1.082058</td>\n",
       "      <td>alcohol_1</td>\n",
       "    </tr>\n",
       "  </tbody>\n",
       "</table>\n",
       "</div>"
      ],
      "text/plain": [
       "    Coeficientes estimados               Variables\n",
       "0                 0.028533         fixed acidity_1\n",
       "1                -0.583468      volatile acidity_1\n",
       "2                 0.000000           citric acid_1\n",
       "3                 0.000000        residual sugar_1\n",
       "4                -0.173477             chlorides_1\n",
       "5                 0.000000   free sulfur dioxide_1\n",
       "6                 0.000000  total sulfur dioxide_1\n",
       "7                 0.000000               density_1\n",
       "8                -0.211027                    pH_1\n",
       "9                 0.149620             sulphates_1\n",
       "10                1.082058               alcohol_1"
      ]
     },
     "execution_count": 84,
     "metadata": {},
     "output_type": "execute_result"
    }
   ],
   "source": [
    "b=lg_ww.coef_\n",
    "b=pd.DataFrame(b.reshape(-1,1))\n",
    "b.rename(columns={0:\"Coeficientes estimados\"}, inplace=True)\n",
    "b[\"Variables\"]=x3.columns\n",
    "print(\"Coeficientes Vinos Blancos Logit C=0,1 P=l1\")\n",
    "a"
   ]
  },
  {
   "cell_type": "code",
   "execution_count": 85,
   "metadata": {},
   "outputs": [],
   "source": [
    "y_pred_rw=lg_rw.predict(X_test_rw)\n",
    "y_pred_ww=lg_ww.predict(X_test_ww)"
   ]
  },
  {
   "cell_type": "code",
   "execution_count": 86,
   "metadata": {},
   "outputs": [
    {
     "name": "stdout",
     "output_type": "stream",
     "text": [
      "f1 Avg Macro RW: 0.6344159992137979\n",
      "f1 Avg Micro RW: 0.8708333333333333\n",
      "f1 Avg Weighted RW: 0.8512339688467397\n",
      "f1 Avg None RW: [0.92840647 0.34042553]\n"
     ]
    }
   ],
   "source": [
    "print(\"f1 Avg Macro RW:\",f1_score(y_test_rw, y_pred_rw, average='macro'))\n",
    "print(\"f1 Avg Micro RW:\",f1_score(y_test_rw, y_pred_rw, average='micro'))\n",
    "print(\"f1 Avg Weighted RW:\",f1_score(y_test_rw, y_pred_rw, average='weighted'))\n",
    "print(\"f1 Avg None RW:\",f1_score(y_test_rw, y_pred_rw, average=None))"
   ]
  },
  {
   "cell_type": "code",
   "execution_count": 87,
   "metadata": {},
   "outputs": [
    {
     "name": "stdout",
     "output_type": "stream",
     "text": [
      "f1 Avg Macro WW: 0.6344878904930056\n",
      "f1 Avg Micro WW: 0.8142857142857143\n",
      "f1 Avg Weighted WW: 0.7827208199050352\n",
      "f1 Avg None WW: [0.89084366 0.37813212]\n"
     ]
    }
   ],
   "source": [
    "print(\"f1 Avg Macro WW:\",f1_score(y_test_ww, y_pred_ww, average='macro'))\n",
    "print(\"f1 Avg Micro WW:\",f1_score(y_test_ww, y_pred_ww, average='micro'))\n",
    "print(\"f1 Avg Weighted WW:\",f1_score(y_test_ww, y_pred_ww, average='weighted'))\n",
    "print(\"f1 Avg None WW:\",f1_score(y_test_ww, y_pred_ww, average=None))"
   ]
  },
  {
   "cell_type": "markdown",
   "metadata": {},
   "source": [
    "# C = 1 penalty = ['l1']\n"
   ]
  },
  {
   "cell_type": "code",
   "execution_count": 89,
   "metadata": {},
   "outputs": [
    {
     "name": "stdout",
     "output_type": "stream",
     "text": [
      "Coeficientes Vinos Rojos Logit C=0,1 P=l1\n"
     ]
    },
    {
     "data": {
      "text/html": [
       "<div>\n",
       "<style scoped>\n",
       "    .dataframe tbody tr th:only-of-type {\n",
       "        vertical-align: middle;\n",
       "    }\n",
       "\n",
       "    .dataframe tbody tr th {\n",
       "        vertical-align: top;\n",
       "    }\n",
       "\n",
       "    .dataframe thead th {\n",
       "        text-align: right;\n",
       "    }\n",
       "</style>\n",
       "<table border=\"1\" class=\"dataframe\">\n",
       "  <thead>\n",
       "    <tr style=\"text-align: right;\">\n",
       "      <th></th>\n",
       "      <th>Coeficientes estimados</th>\n",
       "      <th>Variables</th>\n",
       "    </tr>\n",
       "  </thead>\n",
       "  <tbody>\n",
       "    <tr>\n",
       "      <th>0</th>\n",
       "      <td>0.412831</td>\n",
       "      <td>fixed acidity_1</td>\n",
       "    </tr>\n",
       "    <tr>\n",
       "      <th>1</th>\n",
       "      <td>-0.437873</td>\n",
       "      <td>volatile acidity_1</td>\n",
       "    </tr>\n",
       "    <tr>\n",
       "      <th>2</th>\n",
       "      <td>0.005410</td>\n",
       "      <td>citric acid_1</td>\n",
       "    </tr>\n",
       "    <tr>\n",
       "      <th>3</th>\n",
       "      <td>1.011673</td>\n",
       "      <td>residual sugar_1</td>\n",
       "    </tr>\n",
       "    <tr>\n",
       "      <th>4</th>\n",
       "      <td>-0.254534</td>\n",
       "      <td>chlorides_1</td>\n",
       "    </tr>\n",
       "    <tr>\n",
       "      <th>5</th>\n",
       "      <td>0.000000</td>\n",
       "      <td>free sulfur dioxide_1</td>\n",
       "    </tr>\n",
       "    <tr>\n",
       "      <th>6</th>\n",
       "      <td>-0.536883</td>\n",
       "      <td>total sulfur dioxide_1</td>\n",
       "    </tr>\n",
       "    <tr>\n",
       "      <th>7</th>\n",
       "      <td>-0.804365</td>\n",
       "      <td>density_1</td>\n",
       "    </tr>\n",
       "    <tr>\n",
       "      <th>8</th>\n",
       "      <td>0.000000</td>\n",
       "      <td>pH_1</td>\n",
       "    </tr>\n",
       "    <tr>\n",
       "      <th>9</th>\n",
       "      <td>0.417887</td>\n",
       "      <td>sulphates_1</td>\n",
       "    </tr>\n",
       "    <tr>\n",
       "      <th>10</th>\n",
       "      <td>0.961869</td>\n",
       "      <td>alcohol_1</td>\n",
       "    </tr>\n",
       "  </tbody>\n",
       "</table>\n",
       "</div>"
      ],
      "text/plain": [
       "    Coeficientes estimados               Variables\n",
       "0                 0.412831         fixed acidity_1\n",
       "1                -0.437873      volatile acidity_1\n",
       "2                 0.005410           citric acid_1\n",
       "3                 1.011673        residual sugar_1\n",
       "4                -0.254534             chlorides_1\n",
       "5                 0.000000   free sulfur dioxide_1\n",
       "6                -0.536883  total sulfur dioxide_1\n",
       "7                -0.804365               density_1\n",
       "8                 0.000000                    pH_1\n",
       "9                 0.417887             sulphates_1\n",
       "10                0.961869               alcohol_1"
      ]
     },
     "execution_count": 89,
     "metadata": {},
     "output_type": "execute_result"
    }
   ],
   "source": [
    "lg_rw = LogisticRegression(C=1, penalty='l1')\n",
    "lg_rw.fit(X_train_rw, y_train_rw)\n",
    "\n",
    "lg_ww = LogisticRegression(C=1, penalty='l1')\n",
    "lg_ww.fit(X_train_ww, y_train_ww)\n",
    "\n",
    "x3=data_NR_2.drop(\"clasificacion\",axis=1)\n",
    "a=lg_rw.coef_\n",
    "a=pd.DataFrame(a.reshape(-1,1))\n",
    "a.rename(columns={0:\"Coeficientes estimados\"}, inplace=True)\n",
    "a[\"Variables\"]=x3.columns\n",
    "print(\"Coeficientes Vinos Rojos Logit C=0,1 P=l1\")\n",
    "a"
   ]
  },
  {
   "cell_type": "code",
   "execution_count": 90,
   "metadata": {},
   "outputs": [
    {
     "name": "stdout",
     "output_type": "stream",
     "text": [
      "Coeficientes Vinos Blancos Logit C=1 P=l1\n"
     ]
    },
    {
     "data": {
      "text/html": [
       "<div>\n",
       "<style scoped>\n",
       "    .dataframe tbody tr th:only-of-type {\n",
       "        vertical-align: middle;\n",
       "    }\n",
       "\n",
       "    .dataframe tbody tr th {\n",
       "        vertical-align: top;\n",
       "    }\n",
       "\n",
       "    .dataframe thead th {\n",
       "        text-align: right;\n",
       "    }\n",
       "</style>\n",
       "<table border=\"1\" class=\"dataframe\">\n",
       "  <thead>\n",
       "    <tr style=\"text-align: right;\">\n",
       "      <th></th>\n",
       "      <th>Coeficientes estimados</th>\n",
       "      <th>Variables</th>\n",
       "    </tr>\n",
       "  </thead>\n",
       "  <tbody>\n",
       "    <tr>\n",
       "      <th>0</th>\n",
       "      <td>0.412831</td>\n",
       "      <td>fixed acidity_1</td>\n",
       "    </tr>\n",
       "    <tr>\n",
       "      <th>1</th>\n",
       "      <td>-0.437873</td>\n",
       "      <td>volatile acidity_1</td>\n",
       "    </tr>\n",
       "    <tr>\n",
       "      <th>2</th>\n",
       "      <td>0.005410</td>\n",
       "      <td>citric acid_1</td>\n",
       "    </tr>\n",
       "    <tr>\n",
       "      <th>3</th>\n",
       "      <td>1.011673</td>\n",
       "      <td>residual sugar_1</td>\n",
       "    </tr>\n",
       "    <tr>\n",
       "      <th>4</th>\n",
       "      <td>-0.254534</td>\n",
       "      <td>chlorides_1</td>\n",
       "    </tr>\n",
       "    <tr>\n",
       "      <th>5</th>\n",
       "      <td>0.000000</td>\n",
       "      <td>free sulfur dioxide_1</td>\n",
       "    </tr>\n",
       "    <tr>\n",
       "      <th>6</th>\n",
       "      <td>-0.536883</td>\n",
       "      <td>total sulfur dioxide_1</td>\n",
       "    </tr>\n",
       "    <tr>\n",
       "      <th>7</th>\n",
       "      <td>-0.804365</td>\n",
       "      <td>density_1</td>\n",
       "    </tr>\n",
       "    <tr>\n",
       "      <th>8</th>\n",
       "      <td>0.000000</td>\n",
       "      <td>pH_1</td>\n",
       "    </tr>\n",
       "    <tr>\n",
       "      <th>9</th>\n",
       "      <td>0.417887</td>\n",
       "      <td>sulphates_1</td>\n",
       "    </tr>\n",
       "    <tr>\n",
       "      <th>10</th>\n",
       "      <td>0.961869</td>\n",
       "      <td>alcohol_1</td>\n",
       "    </tr>\n",
       "  </tbody>\n",
       "</table>\n",
       "</div>"
      ],
      "text/plain": [
       "    Coeficientes estimados               Variables\n",
       "0                 0.412831         fixed acidity_1\n",
       "1                -0.437873      volatile acidity_1\n",
       "2                 0.005410           citric acid_1\n",
       "3                 1.011673        residual sugar_1\n",
       "4                -0.254534             chlorides_1\n",
       "5                 0.000000   free sulfur dioxide_1\n",
       "6                -0.536883  total sulfur dioxide_1\n",
       "7                -0.804365               density_1\n",
       "8                 0.000000                    pH_1\n",
       "9                 0.417887             sulphates_1\n",
       "10                0.961869               alcohol_1"
      ]
     },
     "execution_count": 90,
     "metadata": {},
     "output_type": "execute_result"
    }
   ],
   "source": [
    "b=lg_ww.coef_\n",
    "b=pd.DataFrame(b.reshape(-1,1))\n",
    "b.rename(columns={0:\"Coeficientes estimados\"}, inplace=True)\n",
    "b[\"Variables\"]=x3.columns\n",
    "print(\"Coeficientes Vinos Blancos Logit C=1 P=l1\")\n",
    "a"
   ]
  },
  {
   "cell_type": "code",
   "execution_count": 91,
   "metadata": {},
   "outputs": [],
   "source": [
    "y_pred_rw=lg_rw.predict(X_test_rw)\n",
    "y_pred_ww=lg_ww.predict(X_test_ww)"
   ]
  },
  {
   "cell_type": "code",
   "execution_count": 92,
   "metadata": {},
   "outputs": [
    {
     "name": "stdout",
     "output_type": "stream",
     "text": [
      "f1 Avg Macro RW: 0.703062171357872\n",
      "f1 Avg Micro RW: 0.8833333333333333\n",
      "f1 Avg Weighted RW: 0.8736931642437366\n",
      "f1 Avg None RW: [0.93442623 0.47169811]\n"
     ]
    }
   ],
   "source": [
    "print(\"f1 Avg Macro RW:\",f1_score(y_test_rw, y_pred_rw, average='macro'))\n",
    "print(\"f1 Avg Micro RW:\",f1_score(y_test_rw, y_pred_rw, average='micro'))\n",
    "print(\"f1 Avg Weighted RW:\",f1_score(y_test_rw, y_pred_rw, average='weighted'))\n",
    "print(\"f1 Avg None RW:\",f1_score(y_test_rw, y_pred_rw, average=None))"
   ]
  },
  {
   "cell_type": "code",
   "execution_count": 93,
   "metadata": {},
   "outputs": [
    {
     "name": "stdout",
     "output_type": "stream",
     "text": [
      "f1 Avg Macro WW: 0.6463996889787158\n",
      "f1 Avg Micro WW: 0.8156462585034013\n",
      "f1 Avg Weighted WW: 0.7878545405971844\n",
      "f1 Avg None WW: [0.89103337 0.401766  ]\n"
     ]
    }
   ],
   "source": [
    "print(\"f1 Avg Macro WW:\",f1_score(y_test_ww, y_pred_ww, average='macro'))\n",
    "print(\"f1 Avg Micro WW:\",f1_score(y_test_ww, y_pred_ww, average='micro'))\n",
    "print(\"f1 Avg Weighted WW:\",f1_score(y_test_ww, y_pred_ww, average='weighted'))\n",
    "print(\"f1 Avg None WW:\",f1_score(y_test_ww, y_pred_ww, average=None))"
   ]
  },
  {
   "cell_type": "markdown",
   "metadata": {},
   "source": [
    "# C = 0.01 penalty = ['l2']\n"
   ]
  },
  {
   "cell_type": "code",
   "execution_count": 94,
   "metadata": {},
   "outputs": [
    {
     "name": "stdout",
     "output_type": "stream",
     "text": [
      "Coeficientes Vinos Rojos Logit C=0,01 P=l2\n"
     ]
    },
    {
     "data": {
      "text/html": [
       "<div>\n",
       "<style scoped>\n",
       "    .dataframe tbody tr th:only-of-type {\n",
       "        vertical-align: middle;\n",
       "    }\n",
       "\n",
       "    .dataframe tbody tr th {\n",
       "        vertical-align: top;\n",
       "    }\n",
       "\n",
       "    .dataframe thead th {\n",
       "        text-align: right;\n",
       "    }\n",
       "</style>\n",
       "<table border=\"1\" class=\"dataframe\">\n",
       "  <thead>\n",
       "    <tr style=\"text-align: right;\">\n",
       "      <th></th>\n",
       "      <th>Coeficientes estimados</th>\n",
       "      <th>Variables</th>\n",
       "    </tr>\n",
       "  </thead>\n",
       "  <tbody>\n",
       "    <tr>\n",
       "      <th>0</th>\n",
       "      <td>-0.023772</td>\n",
       "      <td>fixed acidity_1</td>\n",
       "    </tr>\n",
       "    <tr>\n",
       "      <th>1</th>\n",
       "      <td>-0.422351</td>\n",
       "      <td>volatile acidity_1</td>\n",
       "    </tr>\n",
       "    <tr>\n",
       "      <th>2</th>\n",
       "      <td>0.181595</td>\n",
       "      <td>citric acid_1</td>\n",
       "    </tr>\n",
       "    <tr>\n",
       "      <th>3</th>\n",
       "      <td>0.232490</td>\n",
       "      <td>residual sugar_1</td>\n",
       "    </tr>\n",
       "    <tr>\n",
       "      <th>4</th>\n",
       "      <td>-0.277389</td>\n",
       "      <td>chlorides_1</td>\n",
       "    </tr>\n",
       "    <tr>\n",
       "      <th>5</th>\n",
       "      <td>0.081533</td>\n",
       "      <td>free sulfur dioxide_1</td>\n",
       "    </tr>\n",
       "    <tr>\n",
       "      <th>6</th>\n",
       "      <td>0.142287</td>\n",
       "      <td>total sulfur dioxide_1</td>\n",
       "    </tr>\n",
       "    <tr>\n",
       "      <th>7</th>\n",
       "      <td>-0.308454</td>\n",
       "      <td>density_1</td>\n",
       "    </tr>\n",
       "    <tr>\n",
       "      <th>8</th>\n",
       "      <td>-0.179650</td>\n",
       "      <td>pH_1</td>\n",
       "    </tr>\n",
       "    <tr>\n",
       "      <th>9</th>\n",
       "      <td>0.049787</td>\n",
       "      <td>sulphates_1</td>\n",
       "    </tr>\n",
       "    <tr>\n",
       "      <th>10</th>\n",
       "      <td>0.495941</td>\n",
       "      <td>alcohol_1</td>\n",
       "    </tr>\n",
       "  </tbody>\n",
       "</table>\n",
       "</div>"
      ],
      "text/plain": [
       "    Coeficientes estimados               Variables\n",
       "0                -0.023772         fixed acidity_1\n",
       "1                -0.422351      volatile acidity_1\n",
       "2                 0.181595           citric acid_1\n",
       "3                 0.232490        residual sugar_1\n",
       "4                -0.277389             chlorides_1\n",
       "5                 0.081533   free sulfur dioxide_1\n",
       "6                 0.142287  total sulfur dioxide_1\n",
       "7                -0.308454               density_1\n",
       "8                -0.179650                    pH_1\n",
       "9                 0.049787             sulphates_1\n",
       "10                0.495941               alcohol_1"
      ]
     },
     "execution_count": 94,
     "metadata": {},
     "output_type": "execute_result"
    }
   ],
   "source": [
    "lg_rw = LogisticRegression(C=0.01, penalty='l2')\n",
    "lg_rw.fit(X_train_rw, y_train_rw)\n",
    "\n",
    "lg_ww = LogisticRegression(C=0.01, penalty='l2')\n",
    "lg_ww.fit(X_train_ww, y_train_ww)\n",
    "\n",
    "x3=data_NR_2.drop(\"clasificacion\",axis=1)\n",
    "a=lg_rw.coef_\n",
    "a=pd.DataFrame(a.reshape(-1,1))\n",
    "a.rename(columns={0:\"Coeficientes estimados\"}, inplace=True)\n",
    "a[\"Variables\"]=x3.columns\n",
    "print(\"Coeficientes Vinos Rojos Logit C=0,01 P=l2\")\n",
    "a"
   ]
  },
  {
   "cell_type": "code",
   "execution_count": 95,
   "metadata": {},
   "outputs": [
    {
     "name": "stdout",
     "output_type": "stream",
     "text": [
      "Coeficientes Vinos Blancos Logit C=0,01 P=l2\n"
     ]
    },
    {
     "data": {
      "text/html": [
       "<div>\n",
       "<style scoped>\n",
       "    .dataframe tbody tr th:only-of-type {\n",
       "        vertical-align: middle;\n",
       "    }\n",
       "\n",
       "    .dataframe tbody tr th {\n",
       "        vertical-align: top;\n",
       "    }\n",
       "\n",
       "    .dataframe thead th {\n",
       "        text-align: right;\n",
       "    }\n",
       "</style>\n",
       "<table border=\"1\" class=\"dataframe\">\n",
       "  <thead>\n",
       "    <tr style=\"text-align: right;\">\n",
       "      <th></th>\n",
       "      <th>Coeficientes estimados</th>\n",
       "      <th>Variables</th>\n",
       "    </tr>\n",
       "  </thead>\n",
       "  <tbody>\n",
       "    <tr>\n",
       "      <th>0</th>\n",
       "      <td>-0.023772</td>\n",
       "      <td>fixed acidity_1</td>\n",
       "    </tr>\n",
       "    <tr>\n",
       "      <th>1</th>\n",
       "      <td>-0.422351</td>\n",
       "      <td>volatile acidity_1</td>\n",
       "    </tr>\n",
       "    <tr>\n",
       "      <th>2</th>\n",
       "      <td>0.181595</td>\n",
       "      <td>citric acid_1</td>\n",
       "    </tr>\n",
       "    <tr>\n",
       "      <th>3</th>\n",
       "      <td>0.232490</td>\n",
       "      <td>residual sugar_1</td>\n",
       "    </tr>\n",
       "    <tr>\n",
       "      <th>4</th>\n",
       "      <td>-0.277389</td>\n",
       "      <td>chlorides_1</td>\n",
       "    </tr>\n",
       "    <tr>\n",
       "      <th>5</th>\n",
       "      <td>0.081533</td>\n",
       "      <td>free sulfur dioxide_1</td>\n",
       "    </tr>\n",
       "    <tr>\n",
       "      <th>6</th>\n",
       "      <td>0.142287</td>\n",
       "      <td>total sulfur dioxide_1</td>\n",
       "    </tr>\n",
       "    <tr>\n",
       "      <th>7</th>\n",
       "      <td>-0.308454</td>\n",
       "      <td>density_1</td>\n",
       "    </tr>\n",
       "    <tr>\n",
       "      <th>8</th>\n",
       "      <td>-0.179650</td>\n",
       "      <td>pH_1</td>\n",
       "    </tr>\n",
       "    <tr>\n",
       "      <th>9</th>\n",
       "      <td>0.049787</td>\n",
       "      <td>sulphates_1</td>\n",
       "    </tr>\n",
       "    <tr>\n",
       "      <th>10</th>\n",
       "      <td>0.495941</td>\n",
       "      <td>alcohol_1</td>\n",
       "    </tr>\n",
       "  </tbody>\n",
       "</table>\n",
       "</div>"
      ],
      "text/plain": [
       "    Coeficientes estimados               Variables\n",
       "0                -0.023772         fixed acidity_1\n",
       "1                -0.422351      volatile acidity_1\n",
       "2                 0.181595           citric acid_1\n",
       "3                 0.232490        residual sugar_1\n",
       "4                -0.277389             chlorides_1\n",
       "5                 0.081533   free sulfur dioxide_1\n",
       "6                 0.142287  total sulfur dioxide_1\n",
       "7                -0.308454               density_1\n",
       "8                -0.179650                    pH_1\n",
       "9                 0.049787             sulphates_1\n",
       "10                0.495941               alcohol_1"
      ]
     },
     "execution_count": 95,
     "metadata": {},
     "output_type": "execute_result"
    }
   ],
   "source": [
    "b=lg_ww.coef_\n",
    "b=pd.DataFrame(b.reshape(-1,1))\n",
    "b.rename(columns={0:\"Coeficientes estimados\"}, inplace=True)\n",
    "b[\"Variables\"]=x3.columns\n",
    "print(\"Coeficientes Vinos Blancos Logit C=0,01 P=l2\")\n",
    "a"
   ]
  },
  {
   "cell_type": "code",
   "execution_count": 96,
   "metadata": {},
   "outputs": [],
   "source": [
    "y_pred_rw=lg_rw.predict(X_test_rw)\n",
    "y_pred_ww=lg_ww.predict(X_test_ww)"
   ]
  },
  {
   "cell_type": "code",
   "execution_count": 97,
   "metadata": {},
   "outputs": [
    {
     "name": "stdout",
     "output_type": "stream",
     "text": [
      "f1 Avg Macro RW: 0.5934117647058823\n",
      "f1 Avg Micro RW: 0.86875\n",
      "f1 Avg Weighted RW: 0.8401705882352941\n",
      "f1 Avg None RW: [0.928      0.25882353]\n"
     ]
    }
   ],
   "source": [
    "print(\"f1 Avg Macro RW:\",f1_score(y_test_rw, y_pred_rw, average='macro'))\n",
    "print(\"f1 Avg Micro RW:\",f1_score(y_test_rw, y_pred_rw, average='micro'))\n",
    "print(\"f1 Avg Weighted RW:\",f1_score(y_test_rw, y_pred_rw, average='weighted'))\n",
    "print(\"f1 Avg None RW:\",f1_score(y_test_rw, y_pred_rw, average=None))"
   ]
  },
  {
   "cell_type": "code",
   "execution_count": 98,
   "metadata": {},
   "outputs": [
    {
     "name": "stdout",
     "output_type": "stream",
     "text": [
      "f1 Avg Macro WW: 0.6336722488038278\n",
      "f1 Avg Micro WW: 0.8163265306122449\n",
      "f1 Avg Weighted WW: 0.7832446375679458\n",
      "f1 Avg None WW: [0.8923445 0.375    ]\n"
     ]
    }
   ],
   "source": [
    "print(\"f1 Avg Macro WW:\",f1_score(y_test_ww, y_pred_ww, average='macro'))\n",
    "print(\"f1 Avg Micro WW:\",f1_score(y_test_ww, y_pred_ww, average='micro'))\n",
    "print(\"f1 Avg Weighted WW:\",f1_score(y_test_ww, y_pred_ww, average='weighted'))\n",
    "print(\"f1 Avg None WW:\",f1_score(y_test_ww, y_pred_ww, average=None))"
   ]
  },
  {
   "cell_type": "markdown",
   "metadata": {},
   "source": [
    "# C = 0.1 penalty = ['l2']\n"
   ]
  },
  {
   "cell_type": "code",
   "execution_count": 99,
   "metadata": {},
   "outputs": [
    {
     "name": "stdout",
     "output_type": "stream",
     "text": [
      "Coeficientes Vinos Rojos Logit C=0,1 P=l2\n"
     ]
    },
    {
     "data": {
      "text/html": [
       "<div>\n",
       "<style scoped>\n",
       "    .dataframe tbody tr th:only-of-type {\n",
       "        vertical-align: middle;\n",
       "    }\n",
       "\n",
       "    .dataframe tbody tr th {\n",
       "        vertical-align: top;\n",
       "    }\n",
       "\n",
       "    .dataframe thead th {\n",
       "        text-align: right;\n",
       "    }\n",
       "</style>\n",
       "<table border=\"1\" class=\"dataframe\">\n",
       "  <thead>\n",
       "    <tr style=\"text-align: right;\">\n",
       "      <th></th>\n",
       "      <th>Coeficientes estimados</th>\n",
       "      <th>Variables</th>\n",
       "    </tr>\n",
       "  </thead>\n",
       "  <tbody>\n",
       "    <tr>\n",
       "      <th>0</th>\n",
       "      <td>0.197251</td>\n",
       "      <td>fixed acidity_1</td>\n",
       "    </tr>\n",
       "    <tr>\n",
       "      <th>1</th>\n",
       "      <td>-0.510441</td>\n",
       "      <td>volatile acidity_1</td>\n",
       "    </tr>\n",
       "    <tr>\n",
       "      <th>2</th>\n",
       "      <td>0.059071</td>\n",
       "      <td>citric acid_1</td>\n",
       "    </tr>\n",
       "    <tr>\n",
       "      <th>3</th>\n",
       "      <td>0.644162</td>\n",
       "      <td>residual sugar_1</td>\n",
       "    </tr>\n",
       "    <tr>\n",
       "      <th>4</th>\n",
       "      <td>-0.316770</td>\n",
       "      <td>chlorides_1</td>\n",
       "    </tr>\n",
       "    <tr>\n",
       "      <th>5</th>\n",
       "      <td>0.004898</td>\n",
       "      <td>free sulfur dioxide_1</td>\n",
       "    </tr>\n",
       "    <tr>\n",
       "      <th>6</th>\n",
       "      <td>-0.115201</td>\n",
       "      <td>total sulfur dioxide_1</td>\n",
       "    </tr>\n",
       "    <tr>\n",
       "      <th>7</th>\n",
       "      <td>-0.542953</td>\n",
       "      <td>density_1</td>\n",
       "    </tr>\n",
       "    <tr>\n",
       "      <th>8</th>\n",
       "      <td>-0.176215</td>\n",
       "      <td>pH_1</td>\n",
       "    </tr>\n",
       "    <tr>\n",
       "      <th>9</th>\n",
       "      <td>0.246406</td>\n",
       "      <td>sulphates_1</td>\n",
       "    </tr>\n",
       "    <tr>\n",
       "      <th>10</th>\n",
       "      <td>0.875632</td>\n",
       "      <td>alcohol_1</td>\n",
       "    </tr>\n",
       "  </tbody>\n",
       "</table>\n",
       "</div>"
      ],
      "text/plain": [
       "    Coeficientes estimados               Variables\n",
       "0                 0.197251         fixed acidity_1\n",
       "1                -0.510441      volatile acidity_1\n",
       "2                 0.059071           citric acid_1\n",
       "3                 0.644162        residual sugar_1\n",
       "4                -0.316770             chlorides_1\n",
       "5                 0.004898   free sulfur dioxide_1\n",
       "6                -0.115201  total sulfur dioxide_1\n",
       "7                -0.542953               density_1\n",
       "8                -0.176215                    pH_1\n",
       "9                 0.246406             sulphates_1\n",
       "10                0.875632               alcohol_1"
      ]
     },
     "execution_count": 99,
     "metadata": {},
     "output_type": "execute_result"
    }
   ],
   "source": [
    "lg_rw = LogisticRegression(C=0.1, penalty='l2')\n",
    "lg_rw.fit(X_train_rw, y_train_rw)\n",
    "\n",
    "lg_ww = LogisticRegression(C=0.1, penalty='l2')\n",
    "lg_ww.fit(X_train_ww, y_train_ww)\n",
    "\n",
    "x3=data_NR_2.drop(\"clasificacion\",axis=1)\n",
    "a=lg_rw.coef_\n",
    "a=pd.DataFrame(a.reshape(-1,1))\n",
    "a.rename(columns={0:\"Coeficientes estimados\"}, inplace=True)\n",
    "a[\"Variables\"]=x3.columns\n",
    "print(\"Coeficientes Vinos Rojos Logit C=0,1 P=l2\")\n",
    "a"
   ]
  },
  {
   "cell_type": "code",
   "execution_count": 100,
   "metadata": {},
   "outputs": [
    {
     "name": "stdout",
     "output_type": "stream",
     "text": [
      "Coeficientes Vinos Blancos Logit C=0,1 P=l2\n"
     ]
    },
    {
     "data": {
      "text/html": [
       "<div>\n",
       "<style scoped>\n",
       "    .dataframe tbody tr th:only-of-type {\n",
       "        vertical-align: middle;\n",
       "    }\n",
       "\n",
       "    .dataframe tbody tr th {\n",
       "        vertical-align: top;\n",
       "    }\n",
       "\n",
       "    .dataframe thead th {\n",
       "        text-align: right;\n",
       "    }\n",
       "</style>\n",
       "<table border=\"1\" class=\"dataframe\">\n",
       "  <thead>\n",
       "    <tr style=\"text-align: right;\">\n",
       "      <th></th>\n",
       "      <th>Coeficientes estimados</th>\n",
       "      <th>Variables</th>\n",
       "    </tr>\n",
       "  </thead>\n",
       "  <tbody>\n",
       "    <tr>\n",
       "      <th>0</th>\n",
       "      <td>0.197251</td>\n",
       "      <td>fixed acidity_1</td>\n",
       "    </tr>\n",
       "    <tr>\n",
       "      <th>1</th>\n",
       "      <td>-0.510441</td>\n",
       "      <td>volatile acidity_1</td>\n",
       "    </tr>\n",
       "    <tr>\n",
       "      <th>2</th>\n",
       "      <td>0.059071</td>\n",
       "      <td>citric acid_1</td>\n",
       "    </tr>\n",
       "    <tr>\n",
       "      <th>3</th>\n",
       "      <td>0.644162</td>\n",
       "      <td>residual sugar_1</td>\n",
       "    </tr>\n",
       "    <tr>\n",
       "      <th>4</th>\n",
       "      <td>-0.316770</td>\n",
       "      <td>chlorides_1</td>\n",
       "    </tr>\n",
       "    <tr>\n",
       "      <th>5</th>\n",
       "      <td>0.004898</td>\n",
       "      <td>free sulfur dioxide_1</td>\n",
       "    </tr>\n",
       "    <tr>\n",
       "      <th>6</th>\n",
       "      <td>-0.115201</td>\n",
       "      <td>total sulfur dioxide_1</td>\n",
       "    </tr>\n",
       "    <tr>\n",
       "      <th>7</th>\n",
       "      <td>-0.542953</td>\n",
       "      <td>density_1</td>\n",
       "    </tr>\n",
       "    <tr>\n",
       "      <th>8</th>\n",
       "      <td>-0.176215</td>\n",
       "      <td>pH_1</td>\n",
       "    </tr>\n",
       "    <tr>\n",
       "      <th>9</th>\n",
       "      <td>0.246406</td>\n",
       "      <td>sulphates_1</td>\n",
       "    </tr>\n",
       "    <tr>\n",
       "      <th>10</th>\n",
       "      <td>0.875632</td>\n",
       "      <td>alcohol_1</td>\n",
       "    </tr>\n",
       "  </tbody>\n",
       "</table>\n",
       "</div>"
      ],
      "text/plain": [
       "    Coeficientes estimados               Variables\n",
       "0                 0.197251         fixed acidity_1\n",
       "1                -0.510441      volatile acidity_1\n",
       "2                 0.059071           citric acid_1\n",
       "3                 0.644162        residual sugar_1\n",
       "4                -0.316770             chlorides_1\n",
       "5                 0.004898   free sulfur dioxide_1\n",
       "6                -0.115201  total sulfur dioxide_1\n",
       "7                -0.542953               density_1\n",
       "8                -0.176215                    pH_1\n",
       "9                 0.246406             sulphates_1\n",
       "10                0.875632               alcohol_1"
      ]
     },
     "execution_count": 100,
     "metadata": {},
     "output_type": "execute_result"
    }
   ],
   "source": [
    "b=lg_ww.coef_\n",
    "b=pd.DataFrame(b.reshape(-1,1))\n",
    "b.rename(columns={0:\"Coeficientes estimados\"}, inplace=True)\n",
    "b[\"Variables\"]=x3.columns\n",
    "print(\"Coeficientes Vinos Blancos Logit C=0,1 P=l2\")\n",
    "a"
   ]
  },
  {
   "cell_type": "code",
   "execution_count": 101,
   "metadata": {},
   "outputs": [],
   "source": [
    "y_pred_rw=lg_rw.predict(X_test_rw)\n",
    "y_pred_ww=lg_ww.predict(X_test_ww)"
   ]
  },
  {
   "cell_type": "code",
   "execution_count": 102,
   "metadata": {},
   "outputs": [
    {
     "name": "stdout",
     "output_type": "stream",
     "text": [
      "f1 Avg Macro RW: 0.6735785336391613\n",
      "f1 Avg Micro RW: 0.8770833333333333\n",
      "f1 Avg Weighted RW: 0.8636595338812111\n",
      "f1 Avg None RW: [0.93131548 0.41584158]\n"
     ]
    }
   ],
   "source": [
    "print(\"f1 Avg Macro RW:\",f1_score(y_test_rw, y_pred_rw, average='macro'))\n",
    "print(\"f1 Avg Micro RW:\",f1_score(y_test_rw, y_pred_rw, average='micro'))\n",
    "print(\"f1 Avg Weighted RW:\",f1_score(y_test_rw, y_pred_rw, average='weighted'))\n",
    "print(\"f1 Avg None RW:\",f1_score(y_test_rw, y_pred_rw, average=None))"
   ]
  },
  {
   "cell_type": "code",
   "execution_count": 103,
   "metadata": {},
   "outputs": [
    {
     "name": "stdout",
     "output_type": "stream",
     "text": [
      "f1 Avg Macro WW: 0.6445123007623008\n",
      "f1 Avg Micro WW: 0.817687074829932\n",
      "f1 Avg Weighted WW: 0.7879806808378238\n",
      "f1 Avg None WW: [0.89262821 0.3963964 ]\n"
     ]
    }
   ],
   "source": [
    "print(\"f1 Avg Macro WW:\",f1_score(y_test_ww, y_pred_ww, average='macro'))\n",
    "print(\"f1 Avg Micro WW:\",f1_score(y_test_ww, y_pred_ww, average='micro'))\n",
    "print(\"f1 Avg Weighted WW:\",f1_score(y_test_ww, y_pred_ww, average='weighted'))\n",
    "print(\"f1 Avg None WW:\",f1_score(y_test_ww, y_pred_ww, average=None))"
   ]
  },
  {
   "cell_type": "markdown",
   "metadata": {},
   "source": [
    "# C = 1 penalty = ['l2']\n"
   ]
  },
  {
   "cell_type": "code",
   "execution_count": 104,
   "metadata": {},
   "outputs": [
    {
     "name": "stdout",
     "output_type": "stream",
     "text": [
      "Coeficientes Vinos Rojos Logit C=1 P=l2\n"
     ]
    },
    {
     "data": {
      "text/html": [
       "<div>\n",
       "<style scoped>\n",
       "    .dataframe tbody tr th:only-of-type {\n",
       "        vertical-align: middle;\n",
       "    }\n",
       "\n",
       "    .dataframe tbody tr th {\n",
       "        vertical-align: top;\n",
       "    }\n",
       "\n",
       "    .dataframe thead th {\n",
       "        text-align: right;\n",
       "    }\n",
       "</style>\n",
       "<table border=\"1\" class=\"dataframe\">\n",
       "  <thead>\n",
       "    <tr style=\"text-align: right;\">\n",
       "      <th></th>\n",
       "      <th>Coeficientes estimados</th>\n",
       "      <th>Variables</th>\n",
       "    </tr>\n",
       "  </thead>\n",
       "  <tbody>\n",
       "    <tr>\n",
       "      <th>0</th>\n",
       "      <td>0.197251</td>\n",
       "      <td>fixed acidity_1</td>\n",
       "    </tr>\n",
       "    <tr>\n",
       "      <th>1</th>\n",
       "      <td>-0.510441</td>\n",
       "      <td>volatile acidity_1</td>\n",
       "    </tr>\n",
       "    <tr>\n",
       "      <th>2</th>\n",
       "      <td>0.059071</td>\n",
       "      <td>citric acid_1</td>\n",
       "    </tr>\n",
       "    <tr>\n",
       "      <th>3</th>\n",
       "      <td>0.644162</td>\n",
       "      <td>residual sugar_1</td>\n",
       "    </tr>\n",
       "    <tr>\n",
       "      <th>4</th>\n",
       "      <td>-0.316770</td>\n",
       "      <td>chlorides_1</td>\n",
       "    </tr>\n",
       "    <tr>\n",
       "      <th>5</th>\n",
       "      <td>0.004898</td>\n",
       "      <td>free sulfur dioxide_1</td>\n",
       "    </tr>\n",
       "    <tr>\n",
       "      <th>6</th>\n",
       "      <td>-0.115201</td>\n",
       "      <td>total sulfur dioxide_1</td>\n",
       "    </tr>\n",
       "    <tr>\n",
       "      <th>7</th>\n",
       "      <td>-0.542953</td>\n",
       "      <td>density_1</td>\n",
       "    </tr>\n",
       "    <tr>\n",
       "      <th>8</th>\n",
       "      <td>-0.176215</td>\n",
       "      <td>pH_1</td>\n",
       "    </tr>\n",
       "    <tr>\n",
       "      <th>9</th>\n",
       "      <td>0.246406</td>\n",
       "      <td>sulphates_1</td>\n",
       "    </tr>\n",
       "    <tr>\n",
       "      <th>10</th>\n",
       "      <td>0.875632</td>\n",
       "      <td>alcohol_1</td>\n",
       "    </tr>\n",
       "  </tbody>\n",
       "</table>\n",
       "</div>"
      ],
      "text/plain": [
       "    Coeficientes estimados               Variables\n",
       "0                 0.197251         fixed acidity_1\n",
       "1                -0.510441      volatile acidity_1\n",
       "2                 0.059071           citric acid_1\n",
       "3                 0.644162        residual sugar_1\n",
       "4                -0.316770             chlorides_1\n",
       "5                 0.004898   free sulfur dioxide_1\n",
       "6                -0.115201  total sulfur dioxide_1\n",
       "7                -0.542953               density_1\n",
       "8                -0.176215                    pH_1\n",
       "9                 0.246406             sulphates_1\n",
       "10                0.875632               alcohol_1"
      ]
     },
     "execution_count": 104,
     "metadata": {},
     "output_type": "execute_result"
    }
   ],
   "source": [
    "lg_rw = LogisticRegression(C=0.1, penalty='l2')\n",
    "lg_rw.fit(X_train_rw, y_train_rw)\n",
    "\n",
    "lg_ww = LogisticRegression(C=0.1, penalty='l2')\n",
    "lg_ww.fit(X_train_ww, y_train_ww)\n",
    "\n",
    "x3=data_NR_2.drop(\"clasificacion\",axis=1)\n",
    "a=lg_rw.coef_\n",
    "a=pd.DataFrame(a.reshape(-1,1))\n",
    "a.rename(columns={0:\"Coeficientes estimados\"}, inplace=True)\n",
    "a[\"Variables\"]=x3.columns\n",
    "print(\"Coeficientes Vinos Rojos Logit C=1 P=l2\")\n",
    "a"
   ]
  },
  {
   "cell_type": "code",
   "execution_count": 105,
   "metadata": {},
   "outputs": [
    {
     "name": "stdout",
     "output_type": "stream",
     "text": [
      "Coeficientes Vinos Blancos Logit C=1 P=l2\n"
     ]
    },
    {
     "data": {
      "text/html": [
       "<div>\n",
       "<style scoped>\n",
       "    .dataframe tbody tr th:only-of-type {\n",
       "        vertical-align: middle;\n",
       "    }\n",
       "\n",
       "    .dataframe tbody tr th {\n",
       "        vertical-align: top;\n",
       "    }\n",
       "\n",
       "    .dataframe thead th {\n",
       "        text-align: right;\n",
       "    }\n",
       "</style>\n",
       "<table border=\"1\" class=\"dataframe\">\n",
       "  <thead>\n",
       "    <tr style=\"text-align: right;\">\n",
       "      <th></th>\n",
       "      <th>Coeficientes estimados</th>\n",
       "      <th>Variables</th>\n",
       "    </tr>\n",
       "  </thead>\n",
       "  <tbody>\n",
       "    <tr>\n",
       "      <th>0</th>\n",
       "      <td>0.197251</td>\n",
       "      <td>fixed acidity_1</td>\n",
       "    </tr>\n",
       "    <tr>\n",
       "      <th>1</th>\n",
       "      <td>-0.510441</td>\n",
       "      <td>volatile acidity_1</td>\n",
       "    </tr>\n",
       "    <tr>\n",
       "      <th>2</th>\n",
       "      <td>0.059071</td>\n",
       "      <td>citric acid_1</td>\n",
       "    </tr>\n",
       "    <tr>\n",
       "      <th>3</th>\n",
       "      <td>0.644162</td>\n",
       "      <td>residual sugar_1</td>\n",
       "    </tr>\n",
       "    <tr>\n",
       "      <th>4</th>\n",
       "      <td>-0.316770</td>\n",
       "      <td>chlorides_1</td>\n",
       "    </tr>\n",
       "    <tr>\n",
       "      <th>5</th>\n",
       "      <td>0.004898</td>\n",
       "      <td>free sulfur dioxide_1</td>\n",
       "    </tr>\n",
       "    <tr>\n",
       "      <th>6</th>\n",
       "      <td>-0.115201</td>\n",
       "      <td>total sulfur dioxide_1</td>\n",
       "    </tr>\n",
       "    <tr>\n",
       "      <th>7</th>\n",
       "      <td>-0.542953</td>\n",
       "      <td>density_1</td>\n",
       "    </tr>\n",
       "    <tr>\n",
       "      <th>8</th>\n",
       "      <td>-0.176215</td>\n",
       "      <td>pH_1</td>\n",
       "    </tr>\n",
       "    <tr>\n",
       "      <th>9</th>\n",
       "      <td>0.246406</td>\n",
       "      <td>sulphates_1</td>\n",
       "    </tr>\n",
       "    <tr>\n",
       "      <th>10</th>\n",
       "      <td>0.875632</td>\n",
       "      <td>alcohol_1</td>\n",
       "    </tr>\n",
       "  </tbody>\n",
       "</table>\n",
       "</div>"
      ],
      "text/plain": [
       "    Coeficientes estimados               Variables\n",
       "0                 0.197251         fixed acidity_1\n",
       "1                -0.510441      volatile acidity_1\n",
       "2                 0.059071           citric acid_1\n",
       "3                 0.644162        residual sugar_1\n",
       "4                -0.316770             chlorides_1\n",
       "5                 0.004898   free sulfur dioxide_1\n",
       "6                -0.115201  total sulfur dioxide_1\n",
       "7                -0.542953               density_1\n",
       "8                -0.176215                    pH_1\n",
       "9                 0.246406             sulphates_1\n",
       "10                0.875632               alcohol_1"
      ]
     },
     "execution_count": 105,
     "metadata": {},
     "output_type": "execute_result"
    }
   ],
   "source": [
    "b=lg_ww.coef_\n",
    "b=pd.DataFrame(b.reshape(-1,1))\n",
    "b.rename(columns={0:\"Coeficientes estimados\"}, inplace=True)\n",
    "b[\"Variables\"]=x3.columns\n",
    "print(\"Coeficientes Vinos Blancos Logit C=1 P=l2\")\n",
    "a"
   ]
  },
  {
   "cell_type": "code",
   "execution_count": 106,
   "metadata": {},
   "outputs": [],
   "source": [
    "y_pred_rw=lg_rw.predict(X_test_rw)\n",
    "y_pred_ww=lg_ww.predict(X_test_ww)"
   ]
  },
  {
   "cell_type": "code",
   "execution_count": 107,
   "metadata": {},
   "outputs": [
    {
     "name": "stdout",
     "output_type": "stream",
     "text": [
      "f1 Avg Macro RW: 0.6735785336391613\n",
      "f1 Avg Micro RW: 0.8770833333333333\n",
      "f1 Avg Weighted RW: 0.8636595338812111\n",
      "f1 Avg None RW: [0.93131548 0.41584158]\n"
     ]
    }
   ],
   "source": [
    "print(\"f1 Avg Macro RW:\",f1_score(y_test_rw, y_pred_rw, average='macro'))\n",
    "print(\"f1 Avg Micro RW:\",f1_score(y_test_rw, y_pred_rw, average='micro'))\n",
    "print(\"f1 Avg Weighted RW:\",f1_score(y_test_rw, y_pred_rw, average='weighted'))\n",
    "print(\"f1 Avg None RW:\",f1_score(y_test_rw, y_pred_rw, average=None))"
   ]
  },
  {
   "cell_type": "code",
   "execution_count": 108,
   "metadata": {},
   "outputs": [
    {
     "name": "stdout",
     "output_type": "stream",
     "text": [
      "f1 Avg Macro WW: 0.6445123007623008\n",
      "f1 Avg Micro WW: 0.817687074829932\n",
      "f1 Avg Weighted WW: 0.7879806808378238\n",
      "f1 Avg None WW: [0.89262821 0.3963964 ]\n"
     ]
    }
   ],
   "source": [
    "print(\"f1 Avg Macro WW:\",f1_score(y_test_ww, y_pred_ww, average='macro'))\n",
    "print(\"f1 Avg Micro WW:\",f1_score(y_test_ww, y_pred_ww, average='micro'))\n",
    "print(\"f1 Avg Weighted WW:\",f1_score(y_test_ww, y_pred_ww, average='weighted'))\n",
    "print(\"f1 Avg None WW:\",f1_score(y_test_ww, y_pred_ww, average=None))"
   ]
  },
  {
   "cell_type": "markdown",
   "metadata": {},
   "source": [
    "CONCLUSIÓN: Para los dos tipos de vino la incidencia de las penalidades es mucho mas evidente que la incidencia de C, con el mismo C y con penalidad l1 quedaban 4 variables (para ambos moelos) mientras que con penalidad l2 dejo todas las variables. Es interesante ver que el C afecta de cierta medida la cantidad de variables a dejar, es primordial revisar que tipo de penalidad es la adecuada para el modelo."
   ]
  },
  {
   "cell_type": "markdown",
   "metadata": {},
   "source": [
    "# Regularization"
   ]
  },
  {
   "cell_type": "markdown",
   "metadata": {},
   "source": [
    "# Exercise 6.6\n",
    "\n",
    "\n",
    "* Train a linear regression to predict wine quality (Continous)\n",
    "\n",
    "* Analyze the coefficients\n",
    "\n",
    "* Evaluate the RMSE"
   ]
  },
  {
   "cell_type": "code",
   "execution_count": 109,
   "metadata": {},
   "outputs": [],
   "source": [
    "from sklearn.metrics import mean_squared_error, r2_score\n",
    "from sklearn.linear_model import SGDRegressor\n",
    "from sklearn import metrics\n",
    "from sklearn.linear_model import LinearRegression"
   ]
  },
  {
   "cell_type": "code",
   "execution_count": 110,
   "metadata": {},
   "outputs": [],
   "source": [
    "data_r = pd.read_csv('https://github.com/albahnsen/PracticalMachineLearningClass/raw/master/datasets/Wine_data_red.csv')\n",
    "data_w = pd.read_csv('https://github.com/albahnsen/PracticalMachineLearningClass/raw/master/datasets/Wine_data_white.csv')"
   ]
  },
  {
   "cell_type": "code",
   "execution_count": 111,
   "metadata": {},
   "outputs": [
    {
     "data": {
      "text/html": [
       "<div>\n",
       "<style scoped>\n",
       "    .dataframe tbody tr th:only-of-type {\n",
       "        vertical-align: middle;\n",
       "    }\n",
       "\n",
       "    .dataframe tbody tr th {\n",
       "        vertical-align: top;\n",
       "    }\n",
       "\n",
       "    .dataframe thead th {\n",
       "        text-align: right;\n",
       "    }\n",
       "</style>\n",
       "<table border=\"1\" class=\"dataframe\">\n",
       "  <thead>\n",
       "    <tr style=\"text-align: right;\">\n",
       "      <th></th>\n",
       "      <th>fixed acidity</th>\n",
       "      <th>volatile acidity</th>\n",
       "      <th>citric acid</th>\n",
       "      <th>residual sugar</th>\n",
       "      <th>chlorides</th>\n",
       "      <th>free sulfur dioxide</th>\n",
       "      <th>total sulfur dioxide</th>\n",
       "      <th>density</th>\n",
       "      <th>pH</th>\n",
       "      <th>sulphates</th>\n",
       "      <th>alcohol</th>\n",
       "      <th>quality</th>\n",
       "      <th>type</th>\n",
       "    </tr>\n",
       "  </thead>\n",
       "  <tbody>\n",
       "    <tr>\n",
       "      <th>0</th>\n",
       "      <td>7.0</td>\n",
       "      <td>0.27</td>\n",
       "      <td>0.36</td>\n",
       "      <td>20.7</td>\n",
       "      <td>0.045</td>\n",
       "      <td>45.0</td>\n",
       "      <td>170.0</td>\n",
       "      <td>1.0010</td>\n",
       "      <td>3.00</td>\n",
       "      <td>0.45</td>\n",
       "      <td>8.8</td>\n",
       "      <td>6</td>\n",
       "      <td>white</td>\n",
       "    </tr>\n",
       "    <tr>\n",
       "      <th>1</th>\n",
       "      <td>6.3</td>\n",
       "      <td>0.30</td>\n",
       "      <td>0.34</td>\n",
       "      <td>1.6</td>\n",
       "      <td>0.049</td>\n",
       "      <td>14.0</td>\n",
       "      <td>132.0</td>\n",
       "      <td>0.9940</td>\n",
       "      <td>3.30</td>\n",
       "      <td>0.49</td>\n",
       "      <td>9.5</td>\n",
       "      <td>6</td>\n",
       "      <td>white</td>\n",
       "    </tr>\n",
       "    <tr>\n",
       "      <th>2</th>\n",
       "      <td>8.1</td>\n",
       "      <td>0.28</td>\n",
       "      <td>0.40</td>\n",
       "      <td>6.9</td>\n",
       "      <td>0.050</td>\n",
       "      <td>30.0</td>\n",
       "      <td>97.0</td>\n",
       "      <td>0.9951</td>\n",
       "      <td>3.26</td>\n",
       "      <td>0.44</td>\n",
       "      <td>10.1</td>\n",
       "      <td>6</td>\n",
       "      <td>white</td>\n",
       "    </tr>\n",
       "    <tr>\n",
       "      <th>3</th>\n",
       "      <td>7.2</td>\n",
       "      <td>0.23</td>\n",
       "      <td>0.32</td>\n",
       "      <td>8.5</td>\n",
       "      <td>0.058</td>\n",
       "      <td>47.0</td>\n",
       "      <td>186.0</td>\n",
       "      <td>0.9956</td>\n",
       "      <td>3.19</td>\n",
       "      <td>0.40</td>\n",
       "      <td>9.9</td>\n",
       "      <td>6</td>\n",
       "      <td>white</td>\n",
       "    </tr>\n",
       "    <tr>\n",
       "      <th>4</th>\n",
       "      <td>7.2</td>\n",
       "      <td>0.23</td>\n",
       "      <td>0.32</td>\n",
       "      <td>8.5</td>\n",
       "      <td>0.058</td>\n",
       "      <td>47.0</td>\n",
       "      <td>186.0</td>\n",
       "      <td>0.9956</td>\n",
       "      <td>3.19</td>\n",
       "      <td>0.40</td>\n",
       "      <td>9.9</td>\n",
       "      <td>6</td>\n",
       "      <td>white</td>\n",
       "    </tr>\n",
       "  </tbody>\n",
       "</table>\n",
       "</div>"
      ],
      "text/plain": [
       "   fixed acidity  volatile acidity  citric acid  residual sugar  chlorides  \\\n",
       "0            7.0              0.27         0.36            20.7      0.045   \n",
       "1            6.3              0.30         0.34             1.6      0.049   \n",
       "2            8.1              0.28         0.40             6.9      0.050   \n",
       "3            7.2              0.23         0.32             8.5      0.058   \n",
       "4            7.2              0.23         0.32             8.5      0.058   \n",
       "\n",
       "   free sulfur dioxide  total sulfur dioxide  density    pH  sulphates  \\\n",
       "0                 45.0                 170.0   1.0010  3.00       0.45   \n",
       "1                 14.0                 132.0   0.9940  3.30       0.49   \n",
       "2                 30.0                  97.0   0.9951  3.26       0.44   \n",
       "3                 47.0                 186.0   0.9956  3.19       0.40   \n",
       "4                 47.0                 186.0   0.9956  3.19       0.40   \n",
       "\n",
       "   alcohol  quality   type  \n",
       "0      8.8        6  white  \n",
       "1      9.5        6  white  \n",
       "2     10.1        6  white  \n",
       "3      9.9        6  white  \n",
       "4      9.9        6  white  "
      ]
     },
     "execution_count": 111,
     "metadata": {},
     "output_type": "execute_result"
    }
   ],
   "source": [
    "data = data_w.assign(type = 'white')\n",
    "data = data.append(data_r.assign(type = 'red'), ignore_index=True)\n",
    "data.head()"
   ]
  },
  {
   "cell_type": "code",
   "execution_count": 112,
   "metadata": {},
   "outputs": [],
   "source": [
    "data_N6 = data[['type']]"
   ]
  },
  {
   "cell_type": "code",
   "execution_count": 113,
   "metadata": {},
   "outputs": [
    {
     "data": {
      "text/html": [
       "<div>\n",
       "<style scoped>\n",
       "    .dataframe tbody tr th:only-of-type {\n",
       "        vertical-align: middle;\n",
       "    }\n",
       "\n",
       "    .dataframe tbody tr th {\n",
       "        vertical-align: top;\n",
       "    }\n",
       "\n",
       "    .dataframe thead th {\n",
       "        text-align: right;\n",
       "    }\n",
       "</style>\n",
       "<table border=\"1\" class=\"dataframe\">\n",
       "  <thead>\n",
       "    <tr style=\"text-align: right;\">\n",
       "      <th></th>\n",
       "      <th>type</th>\n",
       "      <th>fixed acidity_1</th>\n",
       "      <th>volatile acidity_1</th>\n",
       "      <th>citric acid_1</th>\n",
       "      <th>residual sugar_1</th>\n",
       "      <th>chlorides_1</th>\n",
       "      <th>free sulfur dioxide_1</th>\n",
       "      <th>total sulfur dioxide_1</th>\n",
       "      <th>density_1</th>\n",
       "      <th>pH_1</th>\n",
       "      <th>sulphates_1</th>\n",
       "      <th>alcohol_1</th>\n",
       "      <th>quality_1</th>\n",
       "    </tr>\n",
       "  </thead>\n",
       "  <tbody>\n",
       "    <tr>\n",
       "      <th>0</th>\n",
       "      <td>white</td>\n",
       "      <td>-0.166089</td>\n",
       "      <td>-0.423183</td>\n",
       "      <td>0.284686</td>\n",
       "      <td>3.206929</td>\n",
       "      <td>-0.314975</td>\n",
       "      <td>0.815565</td>\n",
       "      <td>0.959976</td>\n",
       "      <td>2.102214</td>\n",
       "      <td>-1.359049</td>\n",
       "      <td>-0.546178</td>\n",
       "      <td>-1.418558</td>\n",
       "      <td>0.207999</td>\n",
       "    </tr>\n",
       "    <tr>\n",
       "      <th>1</th>\n",
       "      <td>white</td>\n",
       "      <td>-0.706073</td>\n",
       "      <td>-0.240949</td>\n",
       "      <td>0.147046</td>\n",
       "      <td>-0.807837</td>\n",
       "      <td>-0.200790</td>\n",
       "      <td>-0.931107</td>\n",
       "      <td>0.287618</td>\n",
       "      <td>-0.232332</td>\n",
       "      <td>0.506915</td>\n",
       "      <td>-0.277351</td>\n",
       "      <td>-0.831615</td>\n",
       "      <td>0.207999</td>\n",
       "    </tr>\n",
       "    <tr>\n",
       "      <th>2</th>\n",
       "      <td>white</td>\n",
       "      <td>0.682458</td>\n",
       "      <td>-0.362438</td>\n",
       "      <td>0.559966</td>\n",
       "      <td>0.306208</td>\n",
       "      <td>-0.172244</td>\n",
       "      <td>-0.029599</td>\n",
       "      <td>-0.331660</td>\n",
       "      <td>0.134525</td>\n",
       "      <td>0.258120</td>\n",
       "      <td>-0.613385</td>\n",
       "      <td>-0.328521</td>\n",
       "      <td>0.207999</td>\n",
       "    </tr>\n",
       "    <tr>\n",
       "      <th>3</th>\n",
       "      <td>white</td>\n",
       "      <td>-0.011808</td>\n",
       "      <td>-0.666161</td>\n",
       "      <td>0.009406</td>\n",
       "      <td>0.642523</td>\n",
       "      <td>0.056126</td>\n",
       "      <td>0.928254</td>\n",
       "      <td>1.243074</td>\n",
       "      <td>0.301278</td>\n",
       "      <td>-0.177272</td>\n",
       "      <td>-0.882212</td>\n",
       "      <td>-0.496219</td>\n",
       "      <td>0.207999</td>\n",
       "    </tr>\n",
       "    <tr>\n",
       "      <th>4</th>\n",
       "      <td>white</td>\n",
       "      <td>-0.011808</td>\n",
       "      <td>-0.666161</td>\n",
       "      <td>0.009406</td>\n",
       "      <td>0.642523</td>\n",
       "      <td>0.056126</td>\n",
       "      <td>0.928254</td>\n",
       "      <td>1.243074</td>\n",
       "      <td>0.301278</td>\n",
       "      <td>-0.177272</td>\n",
       "      <td>-0.882212</td>\n",
       "      <td>-0.496219</td>\n",
       "      <td>0.207999</td>\n",
       "    </tr>\n",
       "  </tbody>\n",
       "</table>\n",
       "</div>"
      ],
      "text/plain": [
       "    type  fixed acidity_1  volatile acidity_1  citric acid_1  \\\n",
       "0  white        -0.166089           -0.423183       0.284686   \n",
       "1  white        -0.706073           -0.240949       0.147046   \n",
       "2  white         0.682458           -0.362438       0.559966   \n",
       "3  white        -0.011808           -0.666161       0.009406   \n",
       "4  white        -0.011808           -0.666161       0.009406   \n",
       "\n",
       "   residual sugar_1  chlorides_1  free sulfur dioxide_1  \\\n",
       "0          3.206929    -0.314975               0.815565   \n",
       "1         -0.807837    -0.200790              -0.931107   \n",
       "2          0.306208    -0.172244              -0.029599   \n",
       "3          0.642523     0.056126               0.928254   \n",
       "4          0.642523     0.056126               0.928254   \n",
       "\n",
       "   total sulfur dioxide_1  density_1      pH_1  sulphates_1  alcohol_1  \\\n",
       "0                0.959976   2.102214 -1.359049    -0.546178  -1.418558   \n",
       "1                0.287618  -0.232332  0.506915    -0.277351  -0.831615   \n",
       "2               -0.331660   0.134525  0.258120    -0.613385  -0.328521   \n",
       "3                1.243074   0.301278 -0.177272    -0.882212  -0.496219   \n",
       "4                1.243074   0.301278 -0.177272    -0.882212  -0.496219   \n",
       "\n",
       "   quality_1  \n",
       "0   0.207999  \n",
       "1   0.207999  \n",
       "2   0.207999  \n",
       "3   0.207999  \n",
       "4   0.207999  "
      ]
     },
     "execution_count": 113,
     "metadata": {},
     "output_type": "execute_result"
    }
   ],
   "source": [
    "var=list(data)\n",
    "var.remove(\"type\")\n",
    "for i in range(0,len(var)): \n",
    "    data_N6[var[i]+\"_1\"] = (data[var[i]]-data[var[i]].mean())/(data[var[i]].std(ddof=0)) \n",
    "data_N6.head()"
   ]
  },
  {
   "cell_type": "code",
   "execution_count": 114,
   "metadata": {},
   "outputs": [],
   "source": [
    "data_NR6=data_N6[(data_N2[\"type\"]=='red')]\n",
    "data_NW6=data_N6[(data_N2[\"type\"]=='white')]\n",
    "\n",
    "data_NR6_2=data_NR6.drop(\"type\",axis=1)\n",
    "data_NW6_2=data_NW6.drop(\"type\",axis=1)\n",
    "\n",
    "y_r = data_NR6_2[\"quality_1\"].values\n",
    "X_r = data_NR6_2[['fixed acidity_1', 'volatile acidity_1','citric acid_1','residual sugar_1','chlorides_1','free sulfur dioxide_1','total sulfur dioxide_1','density_1','pH_1','sulphates_1','alcohol_1']].values\n",
    "\n",
    "y_w = data_NW6_2[\"quality_1\"].values\n",
    "X_w = data_NW6_2[['fixed acidity_1', 'volatile acidity_1','citric acid_1','residual sugar_1','chlorides_1','free sulfur dioxide_1','total sulfur dioxide_1','density_1','pH_1','sulphates_1','alcohol_1']].values"
   ]
  },
  {
   "cell_type": "code",
   "execution_count": 115,
   "metadata": {},
   "outputs": [],
   "source": [
    "validation_size = 0.30\n",
    "seed = 7\n",
    "X_train_rw, X_test_rw= train_test_split(X_r,test_size=validation_size, random_state=seed)\n",
    "y_train_rw, y_test_rw = train_test_split(y_r,test_size=validation_size, random_state=seed)"
   ]
  },
  {
   "cell_type": "code",
   "execution_count": 116,
   "metadata": {},
   "outputs": [],
   "source": [
    "validation_size = 0.30\n",
    "seed = 8\n",
    "X_train_ww, X_test_ww= train_test_split(X_w,test_size=validation_size, random_state=seed)\n",
    "y_train_ww, y_test_ww = train_test_split(y_w,test_size=validation_size, random_state=seed)"
   ]
  },
  {
   "cell_type": "code",
   "execution_count": 117,
   "metadata": {},
   "outputs": [],
   "source": [
    "lm_rw=LinearRegression()\n",
    "lm_ww=LinearRegression()"
   ]
  },
  {
   "cell_type": "code",
   "execution_count": 118,
   "metadata": {},
   "outputs": [
    {
     "data": {
      "text/plain": [
       "LinearRegression(copy_X=True, fit_intercept=True, n_jobs=1, normalize=False)"
      ]
     },
     "execution_count": 118,
     "metadata": {},
     "output_type": "execute_result"
    }
   ],
   "source": [
    "lm_rw.fit(X_train_rw, y_train_rw)\n",
    "lm_ww.fit(X_train_ww, y_train_ww)"
   ]
  },
  {
   "cell_type": "code",
   "execution_count": 119,
   "metadata": {},
   "outputs": [],
   "source": [
    "x3=data_NR6_2.drop(\"quality_1\",axis=1)"
   ]
  },
  {
   "cell_type": "code",
   "execution_count": 120,
   "metadata": {},
   "outputs": [
    {
     "name": "stdout",
     "output_type": "stream",
     "text": [
      "Coeficientes Estimados Vinos Rojos\n"
     ]
    },
    {
     "data": {
      "text/html": [
       "<div>\n",
       "<style scoped>\n",
       "    .dataframe tbody tr th:only-of-type {\n",
       "        vertical-align: middle;\n",
       "    }\n",
       "\n",
       "    .dataframe tbody tr th {\n",
       "        vertical-align: top;\n",
       "    }\n",
       "\n",
       "    .dataframe thead th {\n",
       "        text-align: right;\n",
       "    }\n",
       "</style>\n",
       "<table border=\"1\" class=\"dataframe\">\n",
       "  <thead>\n",
       "    <tr style=\"text-align: right;\">\n",
       "      <th></th>\n",
       "      <th>Variables</th>\n",
       "      <th>Coeficientes_Estimados</th>\n",
       "    </tr>\n",
       "  </thead>\n",
       "  <tbody>\n",
       "    <tr>\n",
       "      <th>0</th>\n",
       "      <td>fixed acidity_1</td>\n",
       "      <td>0.071316</td>\n",
       "    </tr>\n",
       "    <tr>\n",
       "      <th>1</th>\n",
       "      <td>volatile acidity_1</td>\n",
       "      <td>-0.225628</td>\n",
       "    </tr>\n",
       "    <tr>\n",
       "      <th>2</th>\n",
       "      <td>citric acid_1</td>\n",
       "      <td>-0.064091</td>\n",
       "    </tr>\n",
       "    <tr>\n",
       "      <th>3</th>\n",
       "      <td>residual sugar_1</td>\n",
       "      <td>0.104086</td>\n",
       "    </tr>\n",
       "    <tr>\n",
       "      <th>4</th>\n",
       "      <td>chlorides_1</td>\n",
       "      <td>-0.056724</td>\n",
       "    </tr>\n",
       "    <tr>\n",
       "      <th>5</th>\n",
       "      <td>free sulfur dioxide_1</td>\n",
       "      <td>0.077883</td>\n",
       "    </tr>\n",
       "    <tr>\n",
       "      <th>6</th>\n",
       "      <td>total sulfur dioxide_1</td>\n",
       "      <td>-0.199427</td>\n",
       "    </tr>\n",
       "    <tr>\n",
       "      <th>7</th>\n",
       "      <td>density_1</td>\n",
       "      <td>-0.099834</td>\n",
       "    </tr>\n",
       "    <tr>\n",
       "      <th>8</th>\n",
       "      <td>pH_1</td>\n",
       "      <td>-0.090825</td>\n",
       "    </tr>\n",
       "    <tr>\n",
       "      <th>9</th>\n",
       "      <td>sulphates_1</td>\n",
       "      <td>0.129358</td>\n",
       "    </tr>\n",
       "    <tr>\n",
       "      <th>10</th>\n",
       "      <td>alcohol_1</td>\n",
       "      <td>0.399471</td>\n",
       "    </tr>\n",
       "    <tr>\n",
       "      <th>11</th>\n",
       "      <td>Intercepto</td>\n",
       "      <td>-0.055180</td>\n",
       "    </tr>\n",
       "  </tbody>\n",
       "</table>\n",
       "</div>"
      ],
      "text/plain": [
       "                 Variables  Coeficientes_Estimados\n",
       "0          fixed acidity_1                0.071316\n",
       "1       volatile acidity_1               -0.225628\n",
       "2            citric acid_1               -0.064091\n",
       "3         residual sugar_1                0.104086\n",
       "4              chlorides_1               -0.056724\n",
       "5    free sulfur dioxide_1                0.077883\n",
       "6   total sulfur dioxide_1               -0.199427\n",
       "7                density_1               -0.099834\n",
       "8                     pH_1               -0.090825\n",
       "9              sulphates_1                0.129358\n",
       "10               alcohol_1                0.399471\n",
       "11              Intercepto               -0.055180"
      ]
     },
     "execution_count": 120,
     "metadata": {},
     "output_type": "execute_result"
    }
   ],
   "source": [
    "result_rw=pd.DataFrame({\"Variables\":x3.columns,\"Coeficientes_Estimados\":lm_rw.coef_})\n",
    "result_rw.loc[len(result_rw)]=[\"Intercepto\",lm_rw.intercept_]\n",
    "print(\"Coeficientes Estimados Vinos Rojos\")\n",
    "result_rw"
   ]
  },
  {
   "cell_type": "markdown",
   "metadata": {},
   "source": [
    "Para los vinos rojos las variables que mas impactan en la calidad del vino son el alcohol y la acidez"
   ]
  },
  {
   "cell_type": "code",
   "execution_count": 121,
   "metadata": {},
   "outputs": [
    {
     "name": "stdout",
     "output_type": "stream",
     "text": [
      "Coeficientes Estimados Vinos Blancos\n"
     ]
    },
    {
     "data": {
      "text/html": [
       "<div>\n",
       "<style scoped>\n",
       "    .dataframe tbody tr th:only-of-type {\n",
       "        vertical-align: middle;\n",
       "    }\n",
       "\n",
       "    .dataframe tbody tr th {\n",
       "        vertical-align: top;\n",
       "    }\n",
       "\n",
       "    .dataframe thead th {\n",
       "        text-align: right;\n",
       "    }\n",
       "</style>\n",
       "<table border=\"1\" class=\"dataframe\">\n",
       "  <thead>\n",
       "    <tr style=\"text-align: right;\">\n",
       "      <th></th>\n",
       "      <th>Variables</th>\n",
       "      <th>Coeficientes_Estimados</th>\n",
       "    </tr>\n",
       "  </thead>\n",
       "  <tbody>\n",
       "    <tr>\n",
       "      <th>0</th>\n",
       "      <td>fixed acidity_1</td>\n",
       "      <td>0.162301</td>\n",
       "    </tr>\n",
       "    <tr>\n",
       "      <th>1</th>\n",
       "      <td>volatile acidity_1</td>\n",
       "      <td>-0.353241</td>\n",
       "    </tr>\n",
       "    <tr>\n",
       "      <th>2</th>\n",
       "      <td>citric acid_1</td>\n",
       "      <td>0.002612</td>\n",
       "    </tr>\n",
       "    <tr>\n",
       "      <th>3</th>\n",
       "      <td>residual sugar_1</td>\n",
       "      <td>0.528768</td>\n",
       "    </tr>\n",
       "    <tr>\n",
       "      <th>4</th>\n",
       "      <td>chlorides_1</td>\n",
       "      <td>-0.005499</td>\n",
       "    </tr>\n",
       "    <tr>\n",
       "      <th>5</th>\n",
       "      <td>free sulfur dioxide_1</td>\n",
       "      <td>0.079631</td>\n",
       "    </tr>\n",
       "    <tr>\n",
       "      <th>6</th>\n",
       "      <td>total sulfur dioxide_1</td>\n",
       "      <td>0.011639</td>\n",
       "    </tr>\n",
       "    <tr>\n",
       "      <th>7</th>\n",
       "      <td>density_1</td>\n",
       "      <td>-0.714809</td>\n",
       "    </tr>\n",
       "    <tr>\n",
       "      <th>8</th>\n",
       "      <td>pH_1</td>\n",
       "      <td>0.169781</td>\n",
       "    </tr>\n",
       "    <tr>\n",
       "      <th>9</th>\n",
       "      <td>sulphates_1</td>\n",
       "      <td>0.119537</td>\n",
       "    </tr>\n",
       "    <tr>\n",
       "      <th>10</th>\n",
       "      <td>alcohol_1</td>\n",
       "      <td>0.159369</td>\n",
       "    </tr>\n",
       "    <tr>\n",
       "      <th>11</th>\n",
       "      <td>Intercepto</td>\n",
       "      <td>-0.247560</td>\n",
       "    </tr>\n",
       "  </tbody>\n",
       "</table>\n",
       "</div>"
      ],
      "text/plain": [
       "                 Variables  Coeficientes_Estimados\n",
       "0          fixed acidity_1                0.162301\n",
       "1       volatile acidity_1               -0.353241\n",
       "2            citric acid_1                0.002612\n",
       "3         residual sugar_1                0.528768\n",
       "4              chlorides_1               -0.005499\n",
       "5    free sulfur dioxide_1                0.079631\n",
       "6   total sulfur dioxide_1                0.011639\n",
       "7                density_1               -0.714809\n",
       "8                     pH_1                0.169781\n",
       "9              sulphates_1                0.119537\n",
       "10               alcohol_1                0.159369\n",
       "11              Intercepto               -0.247560"
      ]
     },
     "execution_count": 121,
     "metadata": {},
     "output_type": "execute_result"
    }
   ],
   "source": [
    "result_ww=pd.DataFrame({\"Variables\":x3.columns,\"Coeficientes_Estimados\":lm_ww.coef_})\n",
    "result_ww.loc[len(result_ww)]=[\"Intercepto\",lm_ww.intercept_]\n",
    "print(\"Coeficientes Estimados Vinos Blancos\")\n",
    "result_ww"
   ]
  },
  {
   "cell_type": "markdown",
   "metadata": {},
   "source": [
    "Para los vinos blancos las variables que mas impactan en la calidad del vino son: el azucar residual y la densidad. Esto significa que segun el tipo de vino las propiedades mas importantes son difierentes."
   ]
  },
  {
   "cell_type": "code",
   "execution_count": 122,
   "metadata": {},
   "outputs": [],
   "source": [
    "y_pred_rw=lm_rw.predict(X_test_rw)\n",
    "y_pred_ww=lm_ww.predict(X_test_ww)"
   ]
  },
  {
   "cell_type": "code",
   "execution_count": 123,
   "metadata": {},
   "outputs": [
    {
     "name": "stdout",
     "output_type": "stream",
     "text": [
      "RMSE RW: 0.7493721842860801\n",
      "RMSE WW: 0.8602813759403796\n"
     ]
    }
   ],
   "source": [
    "print(\"RMSE RW:\",np.sqrt(metrics.mean_squared_error(y_test_rw, y_pred_rw)))\n",
    "print(\"RMSE WW:\",np.sqrt(metrics.mean_squared_error(y_test_ww, y_pred_ww)))"
   ]
  },
  {
   "cell_type": "markdown",
   "metadata": {},
   "source": [
    "# Exercise 6.7\n",
    "\n",
    "* Estimate a ridge regression with alpha equals 0.1 and 1.\n",
    "* Compare the coefficients with the linear regression\n",
    "* Evaluate the RMSE"
   ]
  },
  {
   "cell_type": "code",
   "execution_count": 124,
   "metadata": {},
   "outputs": [
    {
     "name": "stdout",
     "output_type": "stream",
     "text": [
      "RMSE RW: 0.7452638987255246\n",
      "RMSE WW: 0.8599941688694003\n"
     ]
    }
   ],
   "source": [
    "from sklearn.linear_model import Ridge\n",
    "ridgereg_rw = Ridge(alpha=0.1, normalize=True)\n",
    "ridgereg_ww = Ridge(alpha=0.1, normalize=True)\n",
    "\n",
    "ridgereg_rw.fit(X_train_rw, y_train_rw)\n",
    "ridgereg_ww.fit(X_train_ww, y_train_ww)\n",
    "\n",
    "y_pred_rw= ridgereg_rw.predict(X_test_rw)\n",
    "y_pred_ww= ridgereg_ww.predict(X_test_ww)\n",
    "\n",
    "print(\"RMSE RW:\",np.sqrt(metrics.mean_squared_error(y_test_rw, y_pred_rw)))\n",
    "print(\"RMSE WW:\",np.sqrt(metrics.mean_squared_error(y_test_ww, y_pred_ww)))"
   ]
  },
  {
   "cell_type": "code",
   "execution_count": 125,
   "metadata": {},
   "outputs": [
    {
     "name": "stdout",
     "output_type": "stream",
     "text": [
      "Coeficientes Estimados Vinos Rojos alpha=0.1\n"
     ]
    },
    {
     "data": {
      "text/html": [
       "<div>\n",
       "<style scoped>\n",
       "    .dataframe tbody tr th:only-of-type {\n",
       "        vertical-align: middle;\n",
       "    }\n",
       "\n",
       "    .dataframe tbody tr th {\n",
       "        vertical-align: top;\n",
       "    }\n",
       "\n",
       "    .dataframe thead th {\n",
       "        text-align: right;\n",
       "    }\n",
       "</style>\n",
       "<table border=\"1\" class=\"dataframe\">\n",
       "  <thead>\n",
       "    <tr style=\"text-align: right;\">\n",
       "      <th></th>\n",
       "      <th>Variables</th>\n",
       "      <th>Coeficientes_Estimados</th>\n",
       "    </tr>\n",
       "  </thead>\n",
       "  <tbody>\n",
       "    <tr>\n",
       "      <th>0</th>\n",
       "      <td>fixed acidity_1</td>\n",
       "      <td>0.062419</td>\n",
       "    </tr>\n",
       "    <tr>\n",
       "      <th>1</th>\n",
       "      <td>volatile acidity_1</td>\n",
       "      <td>-0.194754</td>\n",
       "    </tr>\n",
       "    <tr>\n",
       "      <th>2</th>\n",
       "      <td>citric acid_1</td>\n",
       "      <td>-0.021862</td>\n",
       "    </tr>\n",
       "    <tr>\n",
       "      <th>3</th>\n",
       "      <td>residual sugar_1</td>\n",
       "      <td>0.107864</td>\n",
       "    </tr>\n",
       "    <tr>\n",
       "      <th>4</th>\n",
       "      <td>chlorides_1</td>\n",
       "      <td>-0.058983</td>\n",
       "    </tr>\n",
       "    <tr>\n",
       "      <th>5</th>\n",
       "      <td>free sulfur dioxide_1</td>\n",
       "      <td>0.060086</td>\n",
       "    </tr>\n",
       "    <tr>\n",
       "      <th>6</th>\n",
       "      <td>total sulfur dioxide_1</td>\n",
       "      <td>-0.187254</td>\n",
       "    </tr>\n",
       "    <tr>\n",
       "      <th>7</th>\n",
       "      <td>density_1</td>\n",
       "      <td>-0.130921</td>\n",
       "    </tr>\n",
       "    <tr>\n",
       "      <th>8</th>\n",
       "      <td>pH_1</td>\n",
       "      <td>-0.065295</td>\n",
       "    </tr>\n",
       "    <tr>\n",
       "      <th>9</th>\n",
       "      <td>sulphates_1</td>\n",
       "      <td>0.123224</td>\n",
       "    </tr>\n",
       "    <tr>\n",
       "      <th>10</th>\n",
       "      <td>alcohol_1</td>\n",
       "      <td>0.348265</td>\n",
       "    </tr>\n",
       "    <tr>\n",
       "      <th>11</th>\n",
       "      <td>Intercepto</td>\n",
       "      <td>-0.056182</td>\n",
       "    </tr>\n",
       "  </tbody>\n",
       "</table>\n",
       "</div>"
      ],
      "text/plain": [
       "                 Variables  Coeficientes_Estimados\n",
       "0          fixed acidity_1                0.062419\n",
       "1       volatile acidity_1               -0.194754\n",
       "2            citric acid_1               -0.021862\n",
       "3         residual sugar_1                0.107864\n",
       "4              chlorides_1               -0.058983\n",
       "5    free sulfur dioxide_1                0.060086\n",
       "6   total sulfur dioxide_1               -0.187254\n",
       "7                density_1               -0.130921\n",
       "8                     pH_1               -0.065295\n",
       "9              sulphates_1                0.123224\n",
       "10               alcohol_1                0.348265\n",
       "11              Intercepto               -0.056182"
      ]
     },
     "execution_count": 125,
     "metadata": {},
     "output_type": "execute_result"
    }
   ],
   "source": [
    "result_rw=pd.DataFrame({\"Variables\":x3.columns,\"Coeficientes_Estimados\":ridgereg_rw.coef_})\n",
    "result_rw.loc[len(result_rw)]=[\"Intercepto\",ridgereg_rw.intercept_]\n",
    "print(\"Coeficientes Estimados Vinos Rojos alpha=0.1\")\n",
    "result_rw"
   ]
  },
  {
   "cell_type": "code",
   "execution_count": 126,
   "metadata": {},
   "outputs": [
    {
     "name": "stdout",
     "output_type": "stream",
     "text": [
      "Coeficientes Estimados Vinos Blancos alpha = 0.1\n"
     ]
    },
    {
     "data": {
      "text/html": [
       "<div>\n",
       "<style scoped>\n",
       "    .dataframe tbody tr th:only-of-type {\n",
       "        vertical-align: middle;\n",
       "    }\n",
       "\n",
       "    .dataframe tbody tr th {\n",
       "        vertical-align: top;\n",
       "    }\n",
       "\n",
       "    .dataframe thead th {\n",
       "        text-align: right;\n",
       "    }\n",
       "</style>\n",
       "<table border=\"1\" class=\"dataframe\">\n",
       "  <thead>\n",
       "    <tr style=\"text-align: right;\">\n",
       "      <th></th>\n",
       "      <th>Variables</th>\n",
       "      <th>Coeficientes_Estimados</th>\n",
       "    </tr>\n",
       "  </thead>\n",
       "  <tbody>\n",
       "    <tr>\n",
       "      <th>0</th>\n",
       "      <td>fixed acidity_1</td>\n",
       "      <td>-0.026207</td>\n",
       "    </tr>\n",
       "    <tr>\n",
       "      <th>1</th>\n",
       "      <td>volatile acidity_1</td>\n",
       "      <td>-0.317153</td>\n",
       "    </tr>\n",
       "    <tr>\n",
       "      <th>2</th>\n",
       "      <td>citric acid_1</td>\n",
       "      <td>0.004017</td>\n",
       "    </tr>\n",
       "    <tr>\n",
       "      <th>3</th>\n",
       "      <td>residual sugar_1</td>\n",
       "      <td>0.181052</td>\n",
       "    </tr>\n",
       "    <tr>\n",
       "      <th>4</th>\n",
       "      <td>chlorides_1</td>\n",
       "      <td>-0.060570</td>\n",
       "    </tr>\n",
       "    <tr>\n",
       "      <th>5</th>\n",
       "      <td>free sulfur dioxide_1</td>\n",
       "      <td>0.093984</td>\n",
       "    </tr>\n",
       "    <tr>\n",
       "      <th>6</th>\n",
       "      <td>total sulfur dioxide_1</td>\n",
       "      <td>-0.037827</td>\n",
       "    </tr>\n",
       "    <tr>\n",
       "      <th>7</th>\n",
       "      <td>density_1</td>\n",
       "      <td>-0.182394</td>\n",
       "    </tr>\n",
       "    <tr>\n",
       "      <th>8</th>\n",
       "      <td>pH_1</td>\n",
       "      <td>0.066188</td>\n",
       "    </tr>\n",
       "    <tr>\n",
       "      <th>9</th>\n",
       "      <td>sulphates_1</td>\n",
       "      <td>0.075046</td>\n",
       "    </tr>\n",
       "    <tr>\n",
       "      <th>10</th>\n",
       "      <td>alcohol_1</td>\n",
       "      <td>0.337038</td>\n",
       "    </tr>\n",
       "    <tr>\n",
       "      <th>11</th>\n",
       "      <td>Intercepto</td>\n",
       "      <td>-0.133564</td>\n",
       "    </tr>\n",
       "  </tbody>\n",
       "</table>\n",
       "</div>"
      ],
      "text/plain": [
       "                 Variables  Coeficientes_Estimados\n",
       "0          fixed acidity_1               -0.026207\n",
       "1       volatile acidity_1               -0.317153\n",
       "2            citric acid_1                0.004017\n",
       "3         residual sugar_1                0.181052\n",
       "4              chlorides_1               -0.060570\n",
       "5    free sulfur dioxide_1                0.093984\n",
       "6   total sulfur dioxide_1               -0.037827\n",
       "7                density_1               -0.182394\n",
       "8                     pH_1                0.066188\n",
       "9              sulphates_1                0.075046\n",
       "10               alcohol_1                0.337038\n",
       "11              Intercepto               -0.133564"
      ]
     },
     "execution_count": 126,
     "metadata": {},
     "output_type": "execute_result"
    }
   ],
   "source": [
    "result_rw=pd.DataFrame({\"Variables\":x3.columns,\"Coeficientes_Estimados\":ridgereg_ww.coef_})\n",
    "result_rw.loc[len(result_rw)]=[\"Intercepto\",ridgereg_ww.intercept_]\n",
    "print(\"Coeficientes Estimados Vinos Blancos alpha = 0.1\")\n",
    "result_rw"
   ]
  },
  {
   "cell_type": "markdown",
   "metadata": {},
   "source": [
    "Para los vinos rojos tanto la regresion lineal como la ridge seleccionan las mismas variables dandole mayores coeficientes, pero la magnitud es diferente, se hace evidente que la regresion ridge disminuye el impacto de la acidez volatil y el alcohol en la calidad del vino."
   ]
  },
  {
   "cell_type": "code",
   "execution_count": 127,
   "metadata": {},
   "outputs": [
    {
     "name": "stdout",
     "output_type": "stream",
     "text": [
      "RMSE RW: 0.7671369844044262\n",
      "RMSE WW: 0.902661279376848\n"
     ]
    }
   ],
   "source": [
    "ridgereg_rw = Ridge(alpha=1, normalize=True)\n",
    "ridgereg_ww = Ridge(alpha=1, normalize=True)\n",
    "\n",
    "ridgereg_rw.fit(X_train_rw, y_train_rw)\n",
    "ridgereg_ww.fit(X_train_ww, y_train_ww)\n",
    "\n",
    "y_pred_rw= ridgereg_rw.predict(X_test_rw)\n",
    "y_pred_ww= ridgereg_ww.predict(X_test_ww)\n",
    "\n",
    "print(\"RMSE RW:\",np.sqrt(metrics.mean_squared_error(y_test_rw, y_pred_rw)))\n",
    "print(\"RMSE WW:\",np.sqrt(metrics.mean_squared_error(y_test_ww, y_pred_ww)))"
   ]
  },
  {
   "cell_type": "code",
   "execution_count": 128,
   "metadata": {},
   "outputs": [
    {
     "name": "stdout",
     "output_type": "stream",
     "text": [
      "Coeficientes Estimados Vinos Rojos alpha=1\n"
     ]
    },
    {
     "data": {
      "text/html": [
       "<div>\n",
       "<style scoped>\n",
       "    .dataframe tbody tr th:only-of-type {\n",
       "        vertical-align: middle;\n",
       "    }\n",
       "\n",
       "    .dataframe tbody tr th {\n",
       "        vertical-align: top;\n",
       "    }\n",
       "\n",
       "    .dataframe thead th {\n",
       "        text-align: right;\n",
       "    }\n",
       "</style>\n",
       "<table border=\"1\" class=\"dataframe\">\n",
       "  <thead>\n",
       "    <tr style=\"text-align: right;\">\n",
       "      <th></th>\n",
       "      <th>Variables</th>\n",
       "      <th>Coeficientes_Estimados</th>\n",
       "    </tr>\n",
       "  </thead>\n",
       "  <tbody>\n",
       "    <tr>\n",
       "      <th>0</th>\n",
       "      <td>fixed acidity_1</td>\n",
       "      <td>0.029422</td>\n",
       "    </tr>\n",
       "    <tr>\n",
       "      <th>1</th>\n",
       "      <td>volatile acidity_1</td>\n",
       "      <td>-0.119696</td>\n",
       "    </tr>\n",
       "    <tr>\n",
       "      <th>2</th>\n",
       "      <td>citric acid_1</td>\n",
       "      <td>0.031051</td>\n",
       "    </tr>\n",
       "    <tr>\n",
       "      <th>3</th>\n",
       "      <td>residual sugar_1</td>\n",
       "      <td>0.045933</td>\n",
       "    </tr>\n",
       "    <tr>\n",
       "      <th>4</th>\n",
       "      <td>chlorides_1</td>\n",
       "      <td>-0.039814</td>\n",
       "    </tr>\n",
       "    <tr>\n",
       "      <th>5</th>\n",
       "      <td>free sulfur dioxide_1</td>\n",
       "      <td>0.004615</td>\n",
       "    </tr>\n",
       "    <tr>\n",
       "      <th>6</th>\n",
       "      <td>total sulfur dioxide_1</td>\n",
       "      <td>-0.107776</td>\n",
       "    </tr>\n",
       "    <tr>\n",
       "      <th>7</th>\n",
       "      <td>density_1</td>\n",
       "      <td>-0.108619</td>\n",
       "    </tr>\n",
       "    <tr>\n",
       "      <th>8</th>\n",
       "      <td>pH_1</td>\n",
       "      <td>-0.022074</td>\n",
       "    </tr>\n",
       "    <tr>\n",
       "      <th>9</th>\n",
       "      <td>sulphates_1</td>\n",
       "      <td>0.074835</td>\n",
       "    </tr>\n",
       "    <tr>\n",
       "      <th>10</th>\n",
       "      <td>alcohol_1</td>\n",
       "      <td>0.203960</td>\n",
       "    </tr>\n",
       "    <tr>\n",
       "      <th>11</th>\n",
       "      <td>Intercepto</td>\n",
       "      <td>-0.111943</td>\n",
       "    </tr>\n",
       "  </tbody>\n",
       "</table>\n",
       "</div>"
      ],
      "text/plain": [
       "                 Variables  Coeficientes_Estimados\n",
       "0          fixed acidity_1                0.029422\n",
       "1       volatile acidity_1               -0.119696\n",
       "2            citric acid_1                0.031051\n",
       "3         residual sugar_1                0.045933\n",
       "4              chlorides_1               -0.039814\n",
       "5    free sulfur dioxide_1                0.004615\n",
       "6   total sulfur dioxide_1               -0.107776\n",
       "7                density_1               -0.108619\n",
       "8                     pH_1               -0.022074\n",
       "9              sulphates_1                0.074835\n",
       "10               alcohol_1                0.203960\n",
       "11              Intercepto               -0.111943"
      ]
     },
     "execution_count": 128,
     "metadata": {},
     "output_type": "execute_result"
    }
   ],
   "source": [
    "result_ww=pd.DataFrame({\"Variables\":x3.columns,\"Coeficientes_Estimados\":ridgereg_rw.coef_})\n",
    "result_ww.loc[len(result_ww)]=[\"Intercepto\",ridgereg_rw.intercept_]\n",
    "print(\"Coeficientes Estimados Vinos Rojos alpha=1\")\n",
    "result_ww"
   ]
  },
  {
   "cell_type": "code",
   "execution_count": 129,
   "metadata": {},
   "outputs": [
    {
     "name": "stdout",
     "output_type": "stream",
     "text": [
      "Coeficientes Estimados Vinos Blancos alpha=1\n"
     ]
    },
    {
     "data": {
      "text/html": [
       "<div>\n",
       "<style scoped>\n",
       "    .dataframe tbody tr th:only-of-type {\n",
       "        vertical-align: middle;\n",
       "    }\n",
       "\n",
       "    .dataframe tbody tr th {\n",
       "        vertical-align: top;\n",
       "    }\n",
       "\n",
       "    .dataframe thead th {\n",
       "        text-align: right;\n",
       "    }\n",
       "</style>\n",
       "<table border=\"1\" class=\"dataframe\">\n",
       "  <thead>\n",
       "    <tr style=\"text-align: right;\">\n",
       "      <th></th>\n",
       "      <th>Variables</th>\n",
       "      <th>Coeficientes_Estimados</th>\n",
       "    </tr>\n",
       "  </thead>\n",
       "  <tbody>\n",
       "    <tr>\n",
       "      <th>0</th>\n",
       "      <td>fixed acidity_1</td>\n",
       "      <td>-0.047600</td>\n",
       "    </tr>\n",
       "    <tr>\n",
       "      <th>1</th>\n",
       "      <td>volatile acidity_1</td>\n",
       "      <td>-0.161647</td>\n",
       "    </tr>\n",
       "    <tr>\n",
       "      <th>2</th>\n",
       "      <td>citric acid_1</td>\n",
       "      <td>0.006394</td>\n",
       "    </tr>\n",
       "    <tr>\n",
       "      <th>3</th>\n",
       "      <td>residual sugar_1</td>\n",
       "      <td>0.030357</td>\n",
       "    </tr>\n",
       "    <tr>\n",
       "      <th>4</th>\n",
       "      <td>chlorides_1</td>\n",
       "      <td>-0.091403</td>\n",
       "    </tr>\n",
       "    <tr>\n",
       "      <th>5</th>\n",
       "      <td>free sulfur dioxide_1</td>\n",
       "      <td>0.048169</td>\n",
       "    </tr>\n",
       "    <tr>\n",
       "      <th>6</th>\n",
       "      <td>total sulfur dioxide_1</td>\n",
       "      <td>-0.044526</td>\n",
       "    </tr>\n",
       "    <tr>\n",
       "      <th>7</th>\n",
       "      <td>density_1</td>\n",
       "      <td>-0.090660</td>\n",
       "    </tr>\n",
       "    <tr>\n",
       "      <th>8</th>\n",
       "      <td>pH_1</td>\n",
       "      <td>0.034547</td>\n",
       "    </tr>\n",
       "    <tr>\n",
       "      <th>9</th>\n",
       "      <td>sulphates_1</td>\n",
       "      <td>0.038497</td>\n",
       "    </tr>\n",
       "    <tr>\n",
       "      <th>10</th>\n",
       "      <td>alcohol_1</td>\n",
       "      <td>0.173192</td>\n",
       "    </tr>\n",
       "    <tr>\n",
       "      <th>11</th>\n",
       "      <td>Intercepto</td>\n",
       "      <td>-0.038119</td>\n",
       "    </tr>\n",
       "  </tbody>\n",
       "</table>\n",
       "</div>"
      ],
      "text/plain": [
       "                 Variables  Coeficientes_Estimados\n",
       "0          fixed acidity_1               -0.047600\n",
       "1       volatile acidity_1               -0.161647\n",
       "2            citric acid_1                0.006394\n",
       "3         residual sugar_1                0.030357\n",
       "4              chlorides_1               -0.091403\n",
       "5    free sulfur dioxide_1                0.048169\n",
       "6   total sulfur dioxide_1               -0.044526\n",
       "7                density_1               -0.090660\n",
       "8                     pH_1                0.034547\n",
       "9              sulphates_1                0.038497\n",
       "10               alcohol_1                0.173192\n",
       "11              Intercepto               -0.038119"
      ]
     },
     "execution_count": 129,
     "metadata": {},
     "output_type": "execute_result"
    }
   ],
   "source": [
    "result_ww=pd.DataFrame({\"Variables\":x3.columns,\"Coeficientes_Estimados\":ridgereg_ww.coef_})\n",
    "result_ww.loc[len(result_ww)]=[\"Intercepto\",ridgereg_ww.intercept_]\n",
    "print(\"Coeficientes Estimados Vinos Blancos alpha=1\")\n",
    "result_ww"
   ]
  },
  {
   "cell_type": "markdown",
   "metadata": {},
   "source": [
    "A diferencia de los vinos rojos, los vinos blancos tienen un comportamiento diferente pues en la regresion lineal los coeficientes con mayor magnitud estan en la acidez volatil y el alcohol, en cambio en la regresion lineal las variables con mas peso son el alcohol, la acidez volatil, la densidad y el dioxido de sulfuro. "
   ]
  },
  {
   "cell_type": "markdown",
   "metadata": {},
   "source": [
    "El variar el alpha hizo que la magnitud de los coeficientes variara, pero aun asi las variables mas importantes siguen siendo las mismas."
   ]
  },
  {
   "cell_type": "markdown",
   "metadata": {},
   "source": [
    "# Exercise 6.8\n",
    "\n",
    "* Estimate a lasso regression with alpha equals 0.01, 0.1 and 1.\n",
    "* Compare the coefficients with the linear regression\n",
    "* Evaluate the RMSE"
   ]
  },
  {
   "cell_type": "code",
   "execution_count": 130,
   "metadata": {},
   "outputs": [
    {
     "name": "stdout",
     "output_type": "stream",
     "text": [
      "RMSE RW: 0.8666842182556884\n",
      "RMSE WW: 1.009511790345014\n"
     ]
    }
   ],
   "source": [
    "from sklearn.linear_model import Lasso\n",
    "lassoreg_rw = Lasso(alpha=0.01, normalize=True)\n",
    "lassoreg_ww = Lasso(alpha=0.01, normalize=True)\n",
    "\n",
    "lassoreg_rw.fit(X_train_rw, y_train_rw)\n",
    "lassoreg_ww.fit(X_train_ww, y_train_ww)\n",
    "\n",
    "y_pred_rw= lassoreg_rw.predict(X_test_rw)\n",
    "y_pred_ww= lassoreg_ww.predict(X_test_ww)\n",
    "\n",
    "print(\"RMSE RW:\",np.sqrt(metrics.mean_squared_error(y_test_rw, y_pred_rw)))\n",
    "print(\"RMSE WW:\",np.sqrt(metrics.mean_squared_error(y_test_ww, y_pred_ww)))\n"
   ]
  },
  {
   "cell_type": "code",
   "execution_count": 131,
   "metadata": {},
   "outputs": [
    {
     "name": "stdout",
     "output_type": "stream",
     "text": [
      "Coeficientes Estimados Vinos Rojos alpha=0.01\n"
     ]
    },
    {
     "data": {
      "text/html": [
       "<div>\n",
       "<style scoped>\n",
       "    .dataframe tbody tr th:only-of-type {\n",
       "        vertical-align: middle;\n",
       "    }\n",
       "\n",
       "    .dataframe tbody tr th {\n",
       "        vertical-align: top;\n",
       "    }\n",
       "\n",
       "    .dataframe thead th {\n",
       "        text-align: right;\n",
       "    }\n",
       "</style>\n",
       "<table border=\"1\" class=\"dataframe\">\n",
       "  <thead>\n",
       "    <tr style=\"text-align: right;\">\n",
       "      <th></th>\n",
       "      <th>Variables</th>\n",
       "      <th>Coeficientes_Estimados</th>\n",
       "    </tr>\n",
       "  </thead>\n",
       "  <tbody>\n",
       "    <tr>\n",
       "      <th>0</th>\n",
       "      <td>fixed acidity_1</td>\n",
       "      <td>0.000000</td>\n",
       "    </tr>\n",
       "    <tr>\n",
       "      <th>1</th>\n",
       "      <td>volatile acidity_1</td>\n",
       "      <td>-0.002895</td>\n",
       "    </tr>\n",
       "    <tr>\n",
       "      <th>2</th>\n",
       "      <td>citric acid_1</td>\n",
       "      <td>0.000000</td>\n",
       "    </tr>\n",
       "    <tr>\n",
       "      <th>3</th>\n",
       "      <td>residual sugar_1</td>\n",
       "      <td>0.000000</td>\n",
       "    </tr>\n",
       "    <tr>\n",
       "      <th>4</th>\n",
       "      <td>chlorides_1</td>\n",
       "      <td>-0.000000</td>\n",
       "    </tr>\n",
       "    <tr>\n",
       "      <th>5</th>\n",
       "      <td>free sulfur dioxide_1</td>\n",
       "      <td>-0.000000</td>\n",
       "    </tr>\n",
       "    <tr>\n",
       "      <th>6</th>\n",
       "      <td>total sulfur dioxide_1</td>\n",
       "      <td>-0.000000</td>\n",
       "    </tr>\n",
       "    <tr>\n",
       "      <th>7</th>\n",
       "      <td>density_1</td>\n",
       "      <td>-0.000000</td>\n",
       "    </tr>\n",
       "    <tr>\n",
       "      <th>8</th>\n",
       "      <td>pH_1</td>\n",
       "      <td>-0.000000</td>\n",
       "    </tr>\n",
       "    <tr>\n",
       "      <th>9</th>\n",
       "      <td>sulphates_1</td>\n",
       "      <td>0.000000</td>\n",
       "    </tr>\n",
       "    <tr>\n",
       "      <th>10</th>\n",
       "      <td>alcohol_1</td>\n",
       "      <td>0.136087</td>\n",
       "    </tr>\n",
       "    <tr>\n",
       "      <th>12</th>\n",
       "      <td>Intercepto</td>\n",
       "      <td>-0.202272</td>\n",
       "    </tr>\n",
       "  </tbody>\n",
       "</table>\n",
       "</div>"
      ],
      "text/plain": [
       "                 Variables  Coeficientes_Estimados\n",
       "0          fixed acidity_1                0.000000\n",
       "1       volatile acidity_1               -0.002895\n",
       "2            citric acid_1                0.000000\n",
       "3         residual sugar_1                0.000000\n",
       "4              chlorides_1               -0.000000\n",
       "5    free sulfur dioxide_1               -0.000000\n",
       "6   total sulfur dioxide_1               -0.000000\n",
       "7                density_1               -0.000000\n",
       "8                     pH_1               -0.000000\n",
       "9              sulphates_1                0.000000\n",
       "10               alcohol_1                0.136087\n",
       "12              Intercepto               -0.202272"
      ]
     },
     "execution_count": 131,
     "metadata": {},
     "output_type": "execute_result"
    }
   ],
   "source": [
    "result_rw=pd.DataFrame({\"Variables\":x3.columns,\"Coeficientes_Estimados\":lassoreg_rw.coef_})\n",
    "result_rw.loc[len(result_ww)]=[\"Intercepto\",lassoreg_rw.intercept_]\n",
    "print(\"Coeficientes Estimados Vinos Rojos alpha=0.01\")\n",
    "result_rw"
   ]
  },
  {
   "cell_type": "code",
   "execution_count": 132,
   "metadata": {},
   "outputs": [
    {
     "name": "stdout",
     "output_type": "stream",
     "text": [
      "Coeficientes Estimados Vinos Blancos alpha=0.01\n"
     ]
    },
    {
     "data": {
      "text/html": [
       "<div>\n",
       "<style scoped>\n",
       "    .dataframe tbody tr th:only-of-type {\n",
       "        vertical-align: middle;\n",
       "    }\n",
       "\n",
       "    .dataframe tbody tr th {\n",
       "        vertical-align: top;\n",
       "    }\n",
       "\n",
       "    .dataframe thead th {\n",
       "        text-align: right;\n",
       "    }\n",
       "</style>\n",
       "<table border=\"1\" class=\"dataframe\">\n",
       "  <thead>\n",
       "    <tr style=\"text-align: right;\">\n",
       "      <th></th>\n",
       "      <th>Variables</th>\n",
       "      <th>Coeficientes_Estimados</th>\n",
       "    </tr>\n",
       "  </thead>\n",
       "  <tbody>\n",
       "    <tr>\n",
       "      <th>0</th>\n",
       "      <td>fixed acidity_1</td>\n",
       "      <td>-0.000000</td>\n",
       "    </tr>\n",
       "    <tr>\n",
       "      <th>1</th>\n",
       "      <td>volatile acidity_1</td>\n",
       "      <td>-0.000000</td>\n",
       "    </tr>\n",
       "    <tr>\n",
       "      <th>2</th>\n",
       "      <td>citric acid_1</td>\n",
       "      <td>-0.000000</td>\n",
       "    </tr>\n",
       "    <tr>\n",
       "      <th>3</th>\n",
       "      <td>residual sugar_1</td>\n",
       "      <td>-0.000000</td>\n",
       "    </tr>\n",
       "    <tr>\n",
       "      <th>4</th>\n",
       "      <td>chlorides_1</td>\n",
       "      <td>-0.000000</td>\n",
       "    </tr>\n",
       "    <tr>\n",
       "      <th>5</th>\n",
       "      <td>free sulfur dioxide_1</td>\n",
       "      <td>0.000000</td>\n",
       "    </tr>\n",
       "    <tr>\n",
       "      <th>6</th>\n",
       "      <td>total sulfur dioxide_1</td>\n",
       "      <td>-0.000000</td>\n",
       "    </tr>\n",
       "    <tr>\n",
       "      <th>7</th>\n",
       "      <td>density_1</td>\n",
       "      <td>-0.000000</td>\n",
       "    </tr>\n",
       "    <tr>\n",
       "      <th>8</th>\n",
       "      <td>pH_1</td>\n",
       "      <td>0.000000</td>\n",
       "    </tr>\n",
       "    <tr>\n",
       "      <th>9</th>\n",
       "      <td>sulphates_1</td>\n",
       "      <td>0.000000</td>\n",
       "    </tr>\n",
       "    <tr>\n",
       "      <th>10</th>\n",
       "      <td>alcohol_1</td>\n",
       "      <td>0.000000</td>\n",
       "    </tr>\n",
       "    <tr>\n",
       "      <th>11</th>\n",
       "      <td>Intercepto</td>\n",
       "      <td>0.069356</td>\n",
       "    </tr>\n",
       "  </tbody>\n",
       "</table>\n",
       "</div>"
      ],
      "text/plain": [
       "                 Variables  Coeficientes_Estimados\n",
       "0          fixed acidity_1               -0.000000\n",
       "1       volatile acidity_1               -0.000000\n",
       "2            citric acid_1               -0.000000\n",
       "3         residual sugar_1               -0.000000\n",
       "4              chlorides_1               -0.000000\n",
       "5    free sulfur dioxide_1                0.000000\n",
       "6   total sulfur dioxide_1               -0.000000\n",
       "7                density_1               -0.000000\n",
       "8                     pH_1                0.000000\n",
       "9              sulphates_1                0.000000\n",
       "10               alcohol_1                0.000000\n",
       "11              Intercepto                0.069356"
      ]
     },
     "execution_count": 132,
     "metadata": {},
     "output_type": "execute_result"
    }
   ],
   "source": [
    "result_ww=pd.DataFrame({\"Variables\":x3.columns,\"Coeficientes_Estimados\":lassoreg_ww.coef_})\n",
    "result_ww.loc[len(result_ww)]=[\"Intercepto\",lassoreg_ww.intercept_]\n",
    "print(\"Coeficientes Estimados Vinos Blancos alpha=0.01\")\n",
    "result_ww"
   ]
  },
  {
   "cell_type": "code",
   "execution_count": 133,
   "metadata": {},
   "outputs": [
    {
     "name": "stdout",
     "output_type": "stream",
     "text": [
      "RMSE RW: 0.9134821237216612\n",
      "RMSE WW: 1.009511790345014\n"
     ]
    }
   ],
   "source": [
    "lassoreg_rw = Lasso(alpha=0.1, normalize=True)\n",
    "lassoreg_ww = Lasso(alpha=0.1, normalize=True)\n",
    "\n",
    "lassoreg_rw.fit(X_train_rw, y_train_rw)\n",
    "lassoreg_ww.fit(X_train_ww, y_train_ww)\n",
    "\n",
    "y_pred_rw= lassoreg_rw.predict(X_test_rw)\n",
    "y_pred_ww= lassoreg_ww.predict(X_test_ww)\n",
    "\n",
    "print(\"RMSE RW:\",np.sqrt(metrics.mean_squared_error(y_test_rw, y_pred_rw)))\n",
    "print(\"RMSE WW:\",np.sqrt(metrics.mean_squared_error(y_test_ww, y_pred_ww)))"
   ]
  },
  {
   "cell_type": "code",
   "execution_count": 134,
   "metadata": {},
   "outputs": [
    {
     "name": "stdout",
     "output_type": "stream",
     "text": [
      "Coeficientes Estimados Vinos Rojos alpha=0.1\n"
     ]
    },
    {
     "data": {
      "text/html": [
       "<div>\n",
       "<style scoped>\n",
       "    .dataframe tbody tr th:only-of-type {\n",
       "        vertical-align: middle;\n",
       "    }\n",
       "\n",
       "    .dataframe tbody tr th {\n",
       "        vertical-align: top;\n",
       "    }\n",
       "\n",
       "    .dataframe thead th {\n",
       "        text-align: right;\n",
       "    }\n",
       "</style>\n",
       "<table border=\"1\" class=\"dataframe\">\n",
       "  <thead>\n",
       "    <tr style=\"text-align: right;\">\n",
       "      <th></th>\n",
       "      <th>Variables</th>\n",
       "      <th>Coeficientes_Estimados</th>\n",
       "    </tr>\n",
       "  </thead>\n",
       "  <tbody>\n",
       "    <tr>\n",
       "      <th>0</th>\n",
       "      <td>fixed acidity_1</td>\n",
       "      <td>0.000000</td>\n",
       "    </tr>\n",
       "    <tr>\n",
       "      <th>1</th>\n",
       "      <td>volatile acidity_1</td>\n",
       "      <td>-0.000000</td>\n",
       "    </tr>\n",
       "    <tr>\n",
       "      <th>2</th>\n",
       "      <td>citric acid_1</td>\n",
       "      <td>0.000000</td>\n",
       "    </tr>\n",
       "    <tr>\n",
       "      <th>3</th>\n",
       "      <td>residual sugar_1</td>\n",
       "      <td>0.000000</td>\n",
       "    </tr>\n",
       "    <tr>\n",
       "      <th>4</th>\n",
       "      <td>chlorides_1</td>\n",
       "      <td>-0.000000</td>\n",
       "    </tr>\n",
       "    <tr>\n",
       "      <th>5</th>\n",
       "      <td>free sulfur dioxide_1</td>\n",
       "      <td>-0.000000</td>\n",
       "    </tr>\n",
       "    <tr>\n",
       "      <th>6</th>\n",
       "      <td>total sulfur dioxide_1</td>\n",
       "      <td>-0.000000</td>\n",
       "    </tr>\n",
       "    <tr>\n",
       "      <th>7</th>\n",
       "      <td>density_1</td>\n",
       "      <td>-0.000000</td>\n",
       "    </tr>\n",
       "    <tr>\n",
       "      <th>8</th>\n",
       "      <td>pH_1</td>\n",
       "      <td>-0.000000</td>\n",
       "    </tr>\n",
       "    <tr>\n",
       "      <th>9</th>\n",
       "      <td>sulphates_1</td>\n",
       "      <td>0.000000</td>\n",
       "    </tr>\n",
       "    <tr>\n",
       "      <th>10</th>\n",
       "      <td>alcohol_1</td>\n",
       "      <td>0.000000</td>\n",
       "    </tr>\n",
       "    <tr>\n",
       "      <th>12</th>\n",
       "      <td>Intercepto</td>\n",
       "      <td>-0.215705</td>\n",
       "    </tr>\n",
       "  </tbody>\n",
       "</table>\n",
       "</div>"
      ],
      "text/plain": [
       "                 Variables  Coeficientes_Estimados\n",
       "0          fixed acidity_1                0.000000\n",
       "1       volatile acidity_1               -0.000000\n",
       "2            citric acid_1                0.000000\n",
       "3         residual sugar_1                0.000000\n",
       "4              chlorides_1               -0.000000\n",
       "5    free sulfur dioxide_1               -0.000000\n",
       "6   total sulfur dioxide_1               -0.000000\n",
       "7                density_1               -0.000000\n",
       "8                     pH_1               -0.000000\n",
       "9              sulphates_1                0.000000\n",
       "10               alcohol_1                0.000000\n",
       "12              Intercepto               -0.215705"
      ]
     },
     "execution_count": 134,
     "metadata": {},
     "output_type": "execute_result"
    }
   ],
   "source": [
    "result_rw=pd.DataFrame({\"Variables\":x3.columns,\"Coeficientes_Estimados\":lassoreg_rw.coef_})\n",
    "result_rw.loc[len(result_ww)]=[\"Intercepto\",lassoreg_rw.intercept_]\n",
    "print(\"Coeficientes Estimados Vinos Rojos alpha=0.1\")\n",
    "result_rw"
   ]
  },
  {
   "cell_type": "code",
   "execution_count": 135,
   "metadata": {},
   "outputs": [
    {
     "name": "stdout",
     "output_type": "stream",
     "text": [
      "Coeficientes Estimados Vinos Blancos alpha=0.1\n"
     ]
    },
    {
     "data": {
      "text/html": [
       "<div>\n",
       "<style scoped>\n",
       "    .dataframe tbody tr th:only-of-type {\n",
       "        vertical-align: middle;\n",
       "    }\n",
       "\n",
       "    .dataframe tbody tr th {\n",
       "        vertical-align: top;\n",
       "    }\n",
       "\n",
       "    .dataframe thead th {\n",
       "        text-align: right;\n",
       "    }\n",
       "</style>\n",
       "<table border=\"1\" class=\"dataframe\">\n",
       "  <thead>\n",
       "    <tr style=\"text-align: right;\">\n",
       "      <th></th>\n",
       "      <th>Variables</th>\n",
       "      <th>Coeficientes_Estimados</th>\n",
       "    </tr>\n",
       "  </thead>\n",
       "  <tbody>\n",
       "    <tr>\n",
       "      <th>0</th>\n",
       "      <td>fixed acidity_1</td>\n",
       "      <td>-0.000000</td>\n",
       "    </tr>\n",
       "    <tr>\n",
       "      <th>1</th>\n",
       "      <td>volatile acidity_1</td>\n",
       "      <td>-0.000000</td>\n",
       "    </tr>\n",
       "    <tr>\n",
       "      <th>2</th>\n",
       "      <td>citric acid_1</td>\n",
       "      <td>-0.000000</td>\n",
       "    </tr>\n",
       "    <tr>\n",
       "      <th>3</th>\n",
       "      <td>residual sugar_1</td>\n",
       "      <td>-0.000000</td>\n",
       "    </tr>\n",
       "    <tr>\n",
       "      <th>4</th>\n",
       "      <td>chlorides_1</td>\n",
       "      <td>-0.000000</td>\n",
       "    </tr>\n",
       "    <tr>\n",
       "      <th>5</th>\n",
       "      <td>free sulfur dioxide_1</td>\n",
       "      <td>0.000000</td>\n",
       "    </tr>\n",
       "    <tr>\n",
       "      <th>6</th>\n",
       "      <td>total sulfur dioxide_1</td>\n",
       "      <td>-0.000000</td>\n",
       "    </tr>\n",
       "    <tr>\n",
       "      <th>7</th>\n",
       "      <td>density_1</td>\n",
       "      <td>-0.000000</td>\n",
       "    </tr>\n",
       "    <tr>\n",
       "      <th>8</th>\n",
       "      <td>pH_1</td>\n",
       "      <td>0.000000</td>\n",
       "    </tr>\n",
       "    <tr>\n",
       "      <th>9</th>\n",
       "      <td>sulphates_1</td>\n",
       "      <td>0.000000</td>\n",
       "    </tr>\n",
       "    <tr>\n",
       "      <th>10</th>\n",
       "      <td>alcohol_1</td>\n",
       "      <td>0.000000</td>\n",
       "    </tr>\n",
       "    <tr>\n",
       "      <th>11</th>\n",
       "      <td>Intercepto</td>\n",
       "      <td>0.069356</td>\n",
       "    </tr>\n",
       "  </tbody>\n",
       "</table>\n",
       "</div>"
      ],
      "text/plain": [
       "                 Variables  Coeficientes_Estimados\n",
       "0          fixed acidity_1               -0.000000\n",
       "1       volatile acidity_1               -0.000000\n",
       "2            citric acid_1               -0.000000\n",
       "3         residual sugar_1               -0.000000\n",
       "4              chlorides_1               -0.000000\n",
       "5    free sulfur dioxide_1                0.000000\n",
       "6   total sulfur dioxide_1               -0.000000\n",
       "7                density_1               -0.000000\n",
       "8                     pH_1                0.000000\n",
       "9              sulphates_1                0.000000\n",
       "10               alcohol_1                0.000000\n",
       "11              Intercepto                0.069356"
      ]
     },
     "execution_count": 135,
     "metadata": {},
     "output_type": "execute_result"
    }
   ],
   "source": [
    "result_ww=pd.DataFrame({\"Variables\":x3.columns,\"Coeficientes_Estimados\":lassoreg_ww.coef_})\n",
    "result_ww.loc[len(result_ww)]=[\"Intercepto\",lassoreg_ww.intercept_]\n",
    "print(\"Coeficientes Estimados Vinos Blancos alpha=0.1\")\n",
    "result_ww"
   ]
  },
  {
   "cell_type": "code",
   "execution_count": 136,
   "metadata": {},
   "outputs": [
    {
     "name": "stdout",
     "output_type": "stream",
     "text": [
      "RMSE RW: 0.9134821237216612\n",
      "RMSE WW: 1.009511790345014\n"
     ]
    }
   ],
   "source": [
    "from sklearn.linear_model import Lasso\n",
    "lassoreg_rw = Lasso(alpha=1, normalize=True)\n",
    "lassoreg_ww = Lasso(alpha=1, normalize=True)\n",
    "\n",
    "lassoreg_rw.fit(X_train_rw, y_train_rw)\n",
    "lassoreg_ww.fit(X_train_ww, y_train_ww)\n",
    "\n",
    "y_pred_rw= lassoreg_rw.predict(X_test_rw)\n",
    "y_pred_ww= lassoreg_ww.predict(X_test_ww)\n",
    "\n",
    "print(\"RMSE RW:\",np.sqrt(metrics.mean_squared_error(y_test_rw, y_pred_rw)))\n",
    "print(\"RMSE WW:\",np.sqrt(metrics.mean_squared_error(y_test_ww, y_pred_ww)))"
   ]
  },
  {
   "cell_type": "code",
   "execution_count": 137,
   "metadata": {},
   "outputs": [
    {
     "name": "stdout",
     "output_type": "stream",
     "text": [
      "Coeficientes Estimados Vinos Rojos alpha=1\n"
     ]
    },
    {
     "data": {
      "text/html": [
       "<div>\n",
       "<style scoped>\n",
       "    .dataframe tbody tr th:only-of-type {\n",
       "        vertical-align: middle;\n",
       "    }\n",
       "\n",
       "    .dataframe tbody tr th {\n",
       "        vertical-align: top;\n",
       "    }\n",
       "\n",
       "    .dataframe thead th {\n",
       "        text-align: right;\n",
       "    }\n",
       "</style>\n",
       "<table border=\"1\" class=\"dataframe\">\n",
       "  <thead>\n",
       "    <tr style=\"text-align: right;\">\n",
       "      <th></th>\n",
       "      <th>Variables</th>\n",
       "      <th>Coeficientes_Estimados</th>\n",
       "    </tr>\n",
       "  </thead>\n",
       "  <tbody>\n",
       "    <tr>\n",
       "      <th>0</th>\n",
       "      <td>fixed acidity_1</td>\n",
       "      <td>0.000000</td>\n",
       "    </tr>\n",
       "    <tr>\n",
       "      <th>1</th>\n",
       "      <td>volatile acidity_1</td>\n",
       "      <td>-0.000000</td>\n",
       "    </tr>\n",
       "    <tr>\n",
       "      <th>2</th>\n",
       "      <td>citric acid_1</td>\n",
       "      <td>0.000000</td>\n",
       "    </tr>\n",
       "    <tr>\n",
       "      <th>3</th>\n",
       "      <td>residual sugar_1</td>\n",
       "      <td>0.000000</td>\n",
       "    </tr>\n",
       "    <tr>\n",
       "      <th>4</th>\n",
       "      <td>chlorides_1</td>\n",
       "      <td>-0.000000</td>\n",
       "    </tr>\n",
       "    <tr>\n",
       "      <th>5</th>\n",
       "      <td>free sulfur dioxide_1</td>\n",
       "      <td>-0.000000</td>\n",
       "    </tr>\n",
       "    <tr>\n",
       "      <th>6</th>\n",
       "      <td>total sulfur dioxide_1</td>\n",
       "      <td>-0.000000</td>\n",
       "    </tr>\n",
       "    <tr>\n",
       "      <th>7</th>\n",
       "      <td>density_1</td>\n",
       "      <td>-0.000000</td>\n",
       "    </tr>\n",
       "    <tr>\n",
       "      <th>8</th>\n",
       "      <td>pH_1</td>\n",
       "      <td>-0.000000</td>\n",
       "    </tr>\n",
       "    <tr>\n",
       "      <th>9</th>\n",
       "      <td>sulphates_1</td>\n",
       "      <td>0.000000</td>\n",
       "    </tr>\n",
       "    <tr>\n",
       "      <th>10</th>\n",
       "      <td>alcohol_1</td>\n",
       "      <td>0.000000</td>\n",
       "    </tr>\n",
       "    <tr>\n",
       "      <th>12</th>\n",
       "      <td>Intercepto</td>\n",
       "      <td>-0.215705</td>\n",
       "    </tr>\n",
       "  </tbody>\n",
       "</table>\n",
       "</div>"
      ],
      "text/plain": [
       "                 Variables  Coeficientes_Estimados\n",
       "0          fixed acidity_1                0.000000\n",
       "1       volatile acidity_1               -0.000000\n",
       "2            citric acid_1                0.000000\n",
       "3         residual sugar_1                0.000000\n",
       "4              chlorides_1               -0.000000\n",
       "5    free sulfur dioxide_1               -0.000000\n",
       "6   total sulfur dioxide_1               -0.000000\n",
       "7                density_1               -0.000000\n",
       "8                     pH_1               -0.000000\n",
       "9              sulphates_1                0.000000\n",
       "10               alcohol_1                0.000000\n",
       "12              Intercepto               -0.215705"
      ]
     },
     "execution_count": 137,
     "metadata": {},
     "output_type": "execute_result"
    }
   ],
   "source": [
    "result_rw=pd.DataFrame({\"Variables\":x3.columns,\"Coeficientes_Estimados\":lassoreg_rw.coef_})\n",
    "result_rw.loc[len(result_ww)]=[\"Intercepto\",lassoreg_rw.intercept_]\n",
    "print(\"Coeficientes Estimados Vinos Rojos alpha=1\")\n",
    "result_rw"
   ]
  },
  {
   "cell_type": "code",
   "execution_count": 138,
   "metadata": {},
   "outputs": [
    {
     "name": "stdout",
     "output_type": "stream",
     "text": [
      "Coeficientes Estimados Vinos Blancos alpha=1\n"
     ]
    },
    {
     "data": {
      "text/html": [
       "<div>\n",
       "<style scoped>\n",
       "    .dataframe tbody tr th:only-of-type {\n",
       "        vertical-align: middle;\n",
       "    }\n",
       "\n",
       "    .dataframe tbody tr th {\n",
       "        vertical-align: top;\n",
       "    }\n",
       "\n",
       "    .dataframe thead th {\n",
       "        text-align: right;\n",
       "    }\n",
       "</style>\n",
       "<table border=\"1\" class=\"dataframe\">\n",
       "  <thead>\n",
       "    <tr style=\"text-align: right;\">\n",
       "      <th></th>\n",
       "      <th>Variables</th>\n",
       "      <th>Coeficientes_Estimados</th>\n",
       "    </tr>\n",
       "  </thead>\n",
       "  <tbody>\n",
       "    <tr>\n",
       "      <th>0</th>\n",
       "      <td>fixed acidity_1</td>\n",
       "      <td>-0.000000</td>\n",
       "    </tr>\n",
       "    <tr>\n",
       "      <th>1</th>\n",
       "      <td>volatile acidity_1</td>\n",
       "      <td>-0.000000</td>\n",
       "    </tr>\n",
       "    <tr>\n",
       "      <th>2</th>\n",
       "      <td>citric acid_1</td>\n",
       "      <td>-0.000000</td>\n",
       "    </tr>\n",
       "    <tr>\n",
       "      <th>3</th>\n",
       "      <td>residual sugar_1</td>\n",
       "      <td>-0.000000</td>\n",
       "    </tr>\n",
       "    <tr>\n",
       "      <th>4</th>\n",
       "      <td>chlorides_1</td>\n",
       "      <td>-0.000000</td>\n",
       "    </tr>\n",
       "    <tr>\n",
       "      <th>5</th>\n",
       "      <td>free sulfur dioxide_1</td>\n",
       "      <td>0.000000</td>\n",
       "    </tr>\n",
       "    <tr>\n",
       "      <th>6</th>\n",
       "      <td>total sulfur dioxide_1</td>\n",
       "      <td>-0.000000</td>\n",
       "    </tr>\n",
       "    <tr>\n",
       "      <th>7</th>\n",
       "      <td>density_1</td>\n",
       "      <td>-0.000000</td>\n",
       "    </tr>\n",
       "    <tr>\n",
       "      <th>8</th>\n",
       "      <td>pH_1</td>\n",
       "      <td>0.000000</td>\n",
       "    </tr>\n",
       "    <tr>\n",
       "      <th>9</th>\n",
       "      <td>sulphates_1</td>\n",
       "      <td>0.000000</td>\n",
       "    </tr>\n",
       "    <tr>\n",
       "      <th>10</th>\n",
       "      <td>alcohol_1</td>\n",
       "      <td>0.000000</td>\n",
       "    </tr>\n",
       "    <tr>\n",
       "      <th>11</th>\n",
       "      <td>Intercepto</td>\n",
       "      <td>0.069356</td>\n",
       "    </tr>\n",
       "  </tbody>\n",
       "</table>\n",
       "</div>"
      ],
      "text/plain": [
       "                 Variables  Coeficientes_Estimados\n",
       "0          fixed acidity_1               -0.000000\n",
       "1       volatile acidity_1               -0.000000\n",
       "2            citric acid_1               -0.000000\n",
       "3         residual sugar_1               -0.000000\n",
       "4              chlorides_1               -0.000000\n",
       "5    free sulfur dioxide_1                0.000000\n",
       "6   total sulfur dioxide_1               -0.000000\n",
       "7                density_1               -0.000000\n",
       "8                     pH_1                0.000000\n",
       "9              sulphates_1                0.000000\n",
       "10               alcohol_1                0.000000\n",
       "11              Intercepto                0.069356"
      ]
     },
     "execution_count": 138,
     "metadata": {},
     "output_type": "execute_result"
    }
   ],
   "source": [
    "result_ww=pd.DataFrame({\"Variables\":x3.columns,\"Coeficientes_Estimados\":lassoreg_ww.coef_})\n",
    "result_ww.loc[len(result_ww)]=[\"Intercepto\",lassoreg_ww.intercept_]\n",
    "print(\"Coeficientes Estimados Vinos Blancos alpha=1\")\n",
    "result_ww"
   ]
  },
  {
   "cell_type": "markdown",
   "metadata": {},
   "source": [
    "# Exercise 6.9\n",
    "\n",
    "* Create a binary target\n",
    "\n",
    "* Train a logistic regression to predict wine quality (binary)\n",
    "\n",
    "* Analyze the coefficients\n",
    "\n",
    "* Evaluate the f1score"
   ]
  },
  {
   "cell_type": "markdown",
   "metadata": {
    "collapsed": true
   },
   "source": [
    "Se desarrollo en el punto 6.5 donde se hizo un modelo logit"
   ]
  },
  {
   "cell_type": "markdown",
   "metadata": {},
   "source": [
    "# Exercise 6.10\n",
    "\n",
    "* Estimate a regularized logistic regression using:\n",
    "* C = 0.01, 0.1 & 1.0\n",
    "* penalty = ['l1, 'l2']\n",
    "* Compare the coefficients and the f1score"
   ]
  },
  {
   "cell_type": "markdown",
   "metadata": {
    "collapsed": true
   },
   "source": [
    "Se desarrollo en el punto 6.5 donde se hizo un modelo logit"
   ]
  },
  {
   "cell_type": "code",
   "execution_count": null,
   "metadata": {},
   "outputs": [],
   "source": []
  }
 ],
 "metadata": {
  "kernelspec": {
   "display_name": "Python 3",
   "language": "python",
   "name": "python3"
  },
  "language_info": {
   "codemirror_mode": {
    "name": "ipython",
    "version": 3
   },
   "file_extension": ".py",
   "mimetype": "text/x-python",
   "name": "python",
   "nbconvert_exporter": "python",
   "pygments_lexer": "ipython3",
   "version": "3.6.5"
  }
 },
 "nbformat": 4,
 "nbformat_minor": 1
}
