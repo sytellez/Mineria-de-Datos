{
 "cells": [
  {
   "cell_type": "markdown",
   "metadata": {
    "colab_type": "text",
    "id": "ahY7t3ohAMXM"
   },
   "source": [
    "# Project 2 - Movie Genre Classification\n",
    "## Classify a movie genre based on its plot.\n",
    "Hazel Vanesa Jaime Huerfano - Sandra Yessell Tellez Moreno"
   ]
  },
  {
   "cell_type": "markdown",
   "metadata": {
    "colab_type": "text",
    "id": "h73GuLWhAMXO"
   },
   "source": [
    "## Contenido"
   ]
  },
  {
   "cell_type": "markdown",
   "metadata": {
    "colab_type": "text",
    "id": "A_2WsZ83AMXP"
   },
   "source": [
    "- **Intro** \n",
    "Exploración visual de los datos\n",
    "- **Preprocesamiento**\n",
    "Veremos varias tecnicas de limpieza y homogenización\n",
    "- **Modelos**\n",
    "- **API**"
   ]
  },
  {
   "cell_type": "markdown",
   "metadata": {
    "colab_type": "text",
    "id": "Bs1OLuSSAMXQ"
   },
   "source": [
    "## Intro"
   ]
  },
  {
   "cell_type": "markdown",
   "metadata": {
    "colab_type": "text",
    "id": "njuz94UZAMXR"
   },
   "source": [
    "### Librerías"
   ]
  },
  {
   "cell_type": "code",
   "execution_count": 89,
   "metadata": {
    "colab": {
     "base_uri": "https://localhost:8080/",
     "height": 85
    },
    "colab_type": "code",
    "executionInfo": {
     "elapsed": 693,
     "status": "ok",
     "timestamp": 1555911047337,
     "user": {
      "displayName": "vanesa jaime",
      "photoUrl": "https://lh3.googleusercontent.com/-WSrrLDTddS8/AAAAAAAAAAI/AAAAAAAALbc/ptT0Y14Ywd8/s64/photo.jpg",
      "userId": "16013122765061519022"
     },
     "user_tz": 300
    },
    "id": "73ckcnNKAMXS",
    "outputId": "58f3cc5b-7428-4eb9-eb9c-d2036212aae8"
   },
   "outputs": [
    {
     "name": "stdout",
     "output_type": "stream",
     "text": [
      "[nltk_data] Downloading package wordnet to /root/nltk_data...\n",
      "[nltk_data]   Package wordnet is already up-to-date!\n",
      "[nltk_data] Downloading package stopwords to /root/nltk_data...\n",
      "[nltk_data]   Package stopwords is already up-to-date!\n"
     ]
    }
   ],
   "source": [
    "import pandas as pd\n",
    "import os\n",
    "import numpy as np\n",
    "from sklearn.feature_extraction.text import CountVectorizer, TfidfVectorizer, TfidfTransformer\n",
    "from sklearn.preprocessing import MultiLabelBinarizer\n",
    "from sklearn.multiclass import OneVsRestClassifier\n",
    "from sklearn.ensemble import RandomForestRegressor, RandomForestClassifier\n",
    "from sklearn import metrics\n",
    "from sklearn.model_selection import train_test_split\n",
    "import itertools\n",
    "import re, string\n",
    "from sklearn.feature_extraction.text import TfidfTransformer\n",
    "from nltk.stem import WordNetLemmatizer\n",
    "wordnet_lemmatizer = WordNetLemmatizer()\n",
    "import nltk\n",
    "nltk.download('wordnet')\n",
    "nltk.download('stopwords')\n",
    "import string\n",
    "from scipy import sparse\n",
    "import seaborn as sns\n",
    "from nltk.stem.snowball import SnowballStemmer\n",
    "from nltk.stem.lancaster import LancasterStemmer"
   ]
  },
  {
   "cell_type": "code",
   "execution_count": 90,
   "metadata": {
    "colab": {
     "base_uri": "https://localhost:8080/",
     "height": 204
    },
    "colab_type": "code",
    "executionInfo": {
     "elapsed": 1162,
     "status": "ok",
     "timestamp": 1555911048405,
     "user": {
      "displayName": "vanesa jaime",
      "photoUrl": "https://lh3.googleusercontent.com/-WSrrLDTddS8/AAAAAAAAAAI/AAAAAAAALbc/ptT0Y14Ywd8/s64/photo.jpg",
      "userId": "16013122765061519022"
     },
     "user_tz": 300
    },
    "id": "sCYr0jAaAMXZ",
    "outputId": "8edcf9f2-348c-4585-fcb7-0e1212641d11"
   },
   "outputs": [
    {
     "data": {
      "text/html": [
       "<div>\n",
       "<style scoped>\n",
       "    .dataframe tbody tr th:only-of-type {\n",
       "        vertical-align: middle;\n",
       "    }\n",
       "\n",
       "    .dataframe tbody tr th {\n",
       "        vertical-align: top;\n",
       "    }\n",
       "\n",
       "    .dataframe thead th {\n",
       "        text-align: right;\n",
       "    }\n",
       "</style>\n",
       "<table border=\"1\" class=\"dataframe\">\n",
       "  <thead>\n",
       "    <tr style=\"text-align: right;\">\n",
       "      <th></th>\n",
       "      <th>year</th>\n",
       "      <th>title</th>\n",
       "      <th>plot</th>\n",
       "    </tr>\n",
       "  </thead>\n",
       "  <tbody>\n",
       "    <tr>\n",
       "      <th>1</th>\n",
       "      <td>1999</td>\n",
       "      <td>Message in a Bottle</td>\n",
       "      <td>who meets by fate ,  shall be sealed by fate ....</td>\n",
       "    </tr>\n",
       "    <tr>\n",
       "      <th>4</th>\n",
       "      <td>1978</td>\n",
       "      <td>Midnight Express</td>\n",
       "      <td>the true story of billy hayes ,  an american c...</td>\n",
       "    </tr>\n",
       "    <tr>\n",
       "      <th>5</th>\n",
       "      <td>1996</td>\n",
       "      <td>Primal Fear</td>\n",
       "      <td>martin vail left the chicago da ' s office to ...</td>\n",
       "    </tr>\n",
       "    <tr>\n",
       "      <th>6</th>\n",
       "      <td>1950</td>\n",
       "      <td>Crisis</td>\n",
       "      <td>husband and wife americans dr .  eugene and mr...</td>\n",
       "    </tr>\n",
       "    <tr>\n",
       "      <th>7</th>\n",
       "      <td>1959</td>\n",
       "      <td>The Tingler</td>\n",
       "      <td>the coroner and scientist dr .  warren chapin ...</td>\n",
       "    </tr>\n",
       "  </tbody>\n",
       "</table>\n",
       "</div>"
      ],
      "text/plain": [
       "   year                title  \\\n",
       "1  1999  Message in a Bottle   \n",
       "4  1978     Midnight Express   \n",
       "5  1996          Primal Fear   \n",
       "6  1950               Crisis   \n",
       "7  1959          The Tingler   \n",
       "\n",
       "                                                plot  \n",
       "1  who meets by fate ,  shall be sealed by fate ....  \n",
       "4  the true story of billy hayes ,  an american c...  \n",
       "5  martin vail left the chicago da ' s office to ...  \n",
       "6  husband and wife americans dr .  eugene and mr...  \n",
       "7  the coroner and scientist dr .  warren chapin ...  "
      ]
     },
     "execution_count": 90,
     "metadata": {
      "tags": []
     },
     "output_type": "execute_result"
    }
   ],
   "source": [
    "dataTesting = pd.read_csv('https://github.com/albahnsen/PracticalMachineLearningClass/raw/master/datasets/dataTesting.zip', encoding='UTF-8', index_col=0)\n",
    "dataTesting.head()"
   ]
  },
  {
   "cell_type": "code",
   "execution_count": 91,
   "metadata": {
    "colab": {
     "base_uri": "https://localhost:8080/",
     "height": 153
    },
    "colab_type": "code",
    "executionInfo": {
     "elapsed": 484,
     "status": "ok",
     "timestamp": 1555911048709,
     "user": {
      "displayName": "vanesa jaime",
      "photoUrl": "https://lh3.googleusercontent.com/-WSrrLDTddS8/AAAAAAAAAAI/AAAAAAAALbc/ptT0Y14Ywd8/s64/photo.jpg",
      "userId": "16013122765061519022"
     },
     "user_tz": 300
    },
    "id": "a9lKimgVAMXd",
    "outputId": "8dca9f58-6938-43b1-c44a-c1bb3f0bcb48"
   },
   "outputs": [
    {
     "name": "stdout",
     "output_type": "stream",
     "text": [
      "<class 'pandas.core.frame.DataFrame'>\n",
      "Int64Index: 3383 entries, 1 to 11275\n",
      "Data columns (total 3 columns):\n",
      "year     3383 non-null int64\n",
      "title    3383 non-null object\n",
      "plot     3383 non-null object\n",
      "dtypes: int64(1), object(2)\n",
      "memory usage: 105.7+ KB\n"
     ]
    }
   ],
   "source": [
    "dataTesting.info()"
   ]
  },
  {
   "cell_type": "code",
   "execution_count": 92,
   "metadata": {
    "colab": {
     "base_uri": "https://localhost:8080/",
     "height": 204
    },
    "colab_type": "code",
    "executionInfo": {
     "elapsed": 1233,
     "status": "ok",
     "timestamp": 1555911050359,
     "user": {
      "displayName": "vanesa jaime",
      "photoUrl": "https://lh3.googleusercontent.com/-WSrrLDTddS8/AAAAAAAAAAI/AAAAAAAALbc/ptT0Y14Ywd8/s64/photo.jpg",
      "userId": "16013122765061519022"
     },
     "user_tz": 300
    },
    "id": "ifOZMhQhAMXi",
    "outputId": "c7416d3f-90f6-42fc-db1b-72feabc9ddf8"
   },
   "outputs": [
    {
     "data": {
      "text/html": [
       "<div>\n",
       "<style scoped>\n",
       "    .dataframe tbody tr th:only-of-type {\n",
       "        vertical-align: middle;\n",
       "    }\n",
       "\n",
       "    .dataframe tbody tr th {\n",
       "        vertical-align: top;\n",
       "    }\n",
       "\n",
       "    .dataframe thead th {\n",
       "        text-align: right;\n",
       "    }\n",
       "</style>\n",
       "<table border=\"1\" class=\"dataframe\">\n",
       "  <thead>\n",
       "    <tr style=\"text-align: right;\">\n",
       "      <th></th>\n",
       "      <th>year</th>\n",
       "      <th>title</th>\n",
       "      <th>plot</th>\n",
       "      <th>genres</th>\n",
       "      <th>rating</th>\n",
       "    </tr>\n",
       "  </thead>\n",
       "  <tbody>\n",
       "    <tr>\n",
       "      <th>0</th>\n",
       "      <td>1995</td>\n",
       "      <td>Major Payne</td>\n",
       "      <td>major benson winifred payne is being discharge...</td>\n",
       "      <td>['Adventure', 'Comedy', 'Family']</td>\n",
       "      <td>6.1</td>\n",
       "    </tr>\n",
       "    <tr>\n",
       "      <th>2</th>\n",
       "      <td>2008</td>\n",
       "      <td>Outlander</td>\n",
       "      <td>in  N  ad ,  in the iron age ,  a spacecraft c...</td>\n",
       "      <td>['Action', 'Adventure', 'Sci-Fi']</td>\n",
       "      <td>6.3</td>\n",
       "    </tr>\n",
       "    <tr>\n",
       "      <th>3</th>\n",
       "      <td>2011</td>\n",
       "      <td>Mission: Impossible - Ghost Protocol</td>\n",
       "      <td>imf agent ethan hunt ,  who ' s been out for s...</td>\n",
       "      <td>['Action', 'Adventure', 'Thriller']</td>\n",
       "      <td>7.4</td>\n",
       "    </tr>\n",
       "    <tr>\n",
       "      <th>8</th>\n",
       "      <td>2001</td>\n",
       "      <td>Mockingbird Don't Sing</td>\n",
       "      <td>on november  N  ,   N  on the cbs evening news...</td>\n",
       "      <td>['Biography', 'Drama']</td>\n",
       "      <td>6.5</td>\n",
       "    </tr>\n",
       "    <tr>\n",
       "      <th>10</th>\n",
       "      <td>2011</td>\n",
       "      <td>Snow Flower and the Secret Fan</td>\n",
       "      <td>in  N th - century china ,  seven year old gir...</td>\n",
       "      <td>['Drama', 'History']</td>\n",
       "      <td>6.1</td>\n",
       "    </tr>\n",
       "  </tbody>\n",
       "</table>\n",
       "</div>"
      ],
      "text/plain": [
       "    year                                 title  \\\n",
       "0   1995                           Major Payne   \n",
       "2   2008                             Outlander   \n",
       "3   2011  Mission: Impossible - Ghost Protocol   \n",
       "8   2001                Mockingbird Don't Sing   \n",
       "10  2011        Snow Flower and the Secret Fan   \n",
       "\n",
       "                                                 plot  \\\n",
       "0   major benson winifred payne is being discharge...   \n",
       "2   in  N  ad ,  in the iron age ,  a spacecraft c...   \n",
       "3   imf agent ethan hunt ,  who ' s been out for s...   \n",
       "8   on november  N  ,   N  on the cbs evening news...   \n",
       "10  in  N th - century china ,  seven year old gir...   \n",
       "\n",
       "                                 genres  rating  \n",
       "0     ['Adventure', 'Comedy', 'Family']     6.1  \n",
       "2     ['Action', 'Adventure', 'Sci-Fi']     6.3  \n",
       "3   ['Action', 'Adventure', 'Thriller']     7.4  \n",
       "8                ['Biography', 'Drama']     6.5  \n",
       "10                 ['Drama', 'History']     6.1  "
      ]
     },
     "execution_count": 92,
     "metadata": {
      "tags": []
     },
     "output_type": "execute_result"
    }
   ],
   "source": [
    "dataTraining = pd.read_csv('https://github.com/albahnsen/PracticalMachineLearningClass/raw/master/datasets/dataTraining.zip', encoding='UTF-8', index_col=0)\n",
    "dataTraining=dataTraining.sort_index()\n",
    "dataTraining.head()"
   ]
  },
  {
   "cell_type": "code",
   "execution_count": 93,
   "metadata": {
    "colab": {
     "base_uri": "https://localhost:8080/",
     "height": 187
    },
    "colab_type": "code",
    "executionInfo": {
     "elapsed": 820,
     "status": "ok",
     "timestamp": 1555911051023,
     "user": {
      "displayName": "vanesa jaime",
      "photoUrl": "https://lh3.googleusercontent.com/-WSrrLDTddS8/AAAAAAAAAAI/AAAAAAAALbc/ptT0Y14Ywd8/s64/photo.jpg",
      "userId": "16013122765061519022"
     },
     "user_tz": 300
    },
    "id": "qfp2KAPEAMXo",
    "outputId": "385f98c6-8297-4244-a455-f3142ddf82c8",
    "scrolled": true
   },
   "outputs": [
    {
     "name": "stdout",
     "output_type": "stream",
     "text": [
      "<class 'pandas.core.frame.DataFrame'>\n",
      "Int64Index: 7895 entries, 0 to 11277\n",
      "Data columns (total 5 columns):\n",
      "year      7895 non-null int64\n",
      "title     7895 non-null object\n",
      "plot      7895 non-null object\n",
      "genres    7895 non-null object\n",
      "rating    7895 non-null float64\n",
      "dtypes: float64(1), int64(1), object(3)\n",
      "memory usage: 370.1+ KB\n"
     ]
    }
   ],
   "source": [
    "dataTraining.info()"
   ]
  },
  {
   "cell_type": "code",
   "execution_count": 0,
   "metadata": {
    "colab": {},
    "colab_type": "code",
    "id": "6N7OLQK5AMXs"
   },
   "outputs": [],
   "source": [
    "#Eliminamos las comillas simples del texto en la columna generos\n",
    "dataTraining['genres'] = dataTraining['genres'].map(lambda x: eval(x))\n",
    "#Trannsformamos los generos de lista a a una matriz binaria indicando si el genero está (1) en dicha observación o no (0)\n",
    "le = MultiLabelBinarizer()\n",
    "y_genres = le.fit_transform(dataTraining['genres'])"
   ]
  },
  {
   "cell_type": "code",
   "execution_count": 95,
   "metadata": {
    "colab": {
     "base_uri": "https://localhost:8080/",
     "height": 136
    },
    "colab_type": "code",
    "executionInfo": {
     "elapsed": 586,
     "status": "ok",
     "timestamp": 1555911052556,
     "user": {
      "displayName": "vanesa jaime",
      "photoUrl": "https://lh3.googleusercontent.com/-WSrrLDTddS8/AAAAAAAAAAI/AAAAAAAALbc/ptT0Y14Ywd8/s64/photo.jpg",
      "userId": "16013122765061519022"
     },
     "user_tz": 300
    },
    "id": "-s4YStbMAMXv",
    "outputId": "253c2abf-f9fb-4f20-c6f8-f12301f5746a"
   },
   "outputs": [
    {
     "data": {
      "text/plain": [
       "array([[0, 1, 0, ..., 0, 0, 0],\n",
       "       [1, 1, 0, ..., 0, 0, 0],\n",
       "       [1, 1, 0, ..., 1, 0, 0],\n",
       "       ...,\n",
       "       [0, 0, 0, ..., 0, 0, 0],\n",
       "       [1, 0, 0, ..., 1, 0, 0],\n",
       "       [0, 1, 1, ..., 0, 0, 1]])"
      ]
     },
     "execution_count": 95,
     "metadata": {
      "tags": []
     },
     "output_type": "execute_result"
    }
   ],
   "source": [
    "y_genres"
   ]
  },
  {
   "cell_type": "code",
   "execution_count": 96,
   "metadata": {
    "colab": {
     "base_uri": "https://localhost:8080/",
     "height": 119
    },
    "colab_type": "code",
    "executionInfo": {
     "elapsed": 722,
     "status": "ok",
     "timestamp": 1555911053640,
     "user": {
      "displayName": "vanesa jaime",
      "photoUrl": "https://lh3.googleusercontent.com/-WSrrLDTddS8/AAAAAAAAAAI/AAAAAAAALbc/ptT0Y14Ywd8/s64/photo.jpg",
      "userId": "16013122765061519022"
     },
     "user_tz": 300
    },
    "id": "a2w1b7gfAMXz",
    "outputId": "35a40795-b9ea-4bb0-b9c5-91abb46d8a4b"
   },
   "outputs": [
    {
     "name": "stdout",
     "output_type": "stream",
     "text": [
      "24\n"
     ]
    },
    {
     "data": {
      "text/plain": [
       "array(['Action', 'Adventure', 'Animation', 'Biography', 'Comedy', 'Crime',\n",
       "       'Documentary', 'Drama', 'Family', 'Fantasy', 'Film-Noir',\n",
       "       'History', 'Horror', 'Music', 'Musical', 'Mystery', 'News',\n",
       "       'Romance', 'Sci-Fi', 'Short', 'Sport', 'Thriller', 'War',\n",
       "       'Western'], dtype=object)"
      ]
     },
     "execution_count": 96,
     "metadata": {
      "tags": []
     },
     "output_type": "execute_result"
    }
   ],
   "source": [
    "#Obtenemos los nombre de la matriz y_genres\n",
    "cols = le.classes_\n",
    "print(len(cols))\n",
    "cols"
   ]
  },
  {
   "cell_type": "code",
   "execution_count": 0,
   "metadata": {
    "colab": {},
    "colab_type": "code",
    "id": "gYvkxCcVAMX3"
   },
   "outputs": [],
   "source": [
    "#Obtenemos el index del df y lo ponemos en una lista\n",
    "obs=dataTraining.index.tolist()"
   ]
  },
  {
   "cell_type": "code",
   "execution_count": 98,
   "metadata": {
    "colab": {
     "base_uri": "https://localhost:8080/",
     "height": 34
    },
    "colab_type": "code",
    "executionInfo": {
     "elapsed": 1594,
     "status": "ok",
     "timestamp": 1555911056011,
     "user": {
      "displayName": "vanesa jaime",
      "photoUrl": "https://lh3.googleusercontent.com/-WSrrLDTddS8/AAAAAAAAAAI/AAAAAAAALbc/ptT0Y14Ywd8/s64/photo.jpg",
      "userId": "16013122765061519022"
     },
     "user_tz": 300
    },
    "id": "TdMOsGV9AMX6",
    "outputId": "8b65bc03-dc76-4f35-b9aa-2e8bfdd9bbdf"
   },
   "outputs": [
    {
     "name": "stdout",
     "output_type": "stream",
     "text": [
      "Observaciones 7895\n"
     ]
    }
   ],
   "source": [
    "#Ponemos en un dataframe los generos, con el fin de poder hacer algunas descriptivas\n",
    "generos = pd.DataFrame.from_records(y_genres, columns=cols,index=obs)\n",
    "print(\"Observaciones\",len(generos))"
   ]
  },
  {
   "cell_type": "code",
   "execution_count": 0,
   "metadata": {
    "colab": {},
    "colab_type": "code",
    "id": "5mQ2GWkZAMX-"
   },
   "outputs": [],
   "source": [
    "result = pd.concat([generos, dataTraining['year']], axis=1, join_axes=[generos.index])"
   ]
  },
  {
   "cell_type": "code",
   "execution_count": 0,
   "metadata": {
    "colab": {},
    "colab_type": "code",
    "id": "Jsw3Ov1pAMYJ"
   },
   "outputs": [],
   "source": [
    "#Cambiamos la estructura del data frame anterior\n",
    "generos = pd.DataFrame(generos.sum(axis=0), columns=['cant'])\n",
    "generos=generos.sort_values(by='cant', ascending=False)"
   ]
  },
  {
   "cell_type": "code",
   "execution_count": 101,
   "metadata": {
    "colab": {
     "base_uri": "https://localhost:8080/",
     "height": 593
    },
    "colab_type": "code",
    "executionInfo": {
     "elapsed": 1701,
     "status": "ok",
     "timestamp": 1555911057888,
     "user": {
      "displayName": "vanesa jaime",
      "photoUrl": "https://lh3.googleusercontent.com/-WSrrLDTddS8/AAAAAAAAAAI/AAAAAAAALbc/ptT0Y14Ywd8/s64/photo.jpg",
      "userId": "16013122765061519022"
     },
     "user_tz": 300
    },
    "id": "-CAStcUvAMYU",
    "outputId": "14e40238-c180-4319-f67a-a073acf3011f"
   },
   "outputs": [
    {
     "data": {
      "text/plain": [
       "0    AxesSubplot(0.125,0.125;0.775x0.755)\n",
       "dtype: object"
      ]
     },
     "execution_count": 101,
     "metadata": {
      "tags": []
     },
     "output_type": "execute_result"
    },
    {
     "data": {
      "image/png": "[encoded data removed]",
      "text/plain": [
       "<Figure size 1440x504 with 1 Axes>"
      ]
     },
     "metadata": {
      "tags": []
     },
     "output_type": "display_data"
    }
   ],
   "source": [
    "pd.Series(generos.plot(kind = \"bar\",color='salmon',figsize=(20,7),fontsize=20))"
   ]
  },
  {
   "cell_type": "code",
   "execution_count": 0,
   "metadata": {
    "colab": {},
    "colab_type": "code",
    "id": "LVQifxg5AMYa"
   },
   "outputs": [],
   "source": [
    "a=(pd.pivot_table(dataTraining,index=[\"year\"],values=[\"rating\"],aggfunc=len)).sort_values(by='rating', ascending=False)\n",
    "a=a[:40]"
   ]
  },
  {
   "cell_type": "code",
   "execution_count": 103,
   "metadata": {
    "colab": {
     "base_uri": "https://localhost:8080/",
     "height": 522
    },
    "colab_type": "code",
    "executionInfo": {
     "elapsed": 1476,
     "status": "ok",
     "timestamp": 1555911059297,
     "user": {
      "displayName": "vanesa jaime",
      "photoUrl": "https://lh3.googleusercontent.com/-WSrrLDTddS8/AAAAAAAAAAI/AAAAAAAALbc/ptT0Y14Ywd8/s64/photo.jpg",
      "userId": "16013122765061519022"
     },
     "user_tz": 300
    },
    "id": "baBj8-zfAMYd",
    "outputId": "253dc54a-2162-4e9c-e41b-26ed9cc80d6b"
   },
   "outputs": [
    {
     "data": {
      "text/plain": [
       "0    AxesSubplot(0.125,0.125;0.775x0.755)\n",
       "dtype: object"
      ]
     },
     "execution_count": 103,
     "metadata": {
      "tags": []
     },
     "output_type": "execute_result"
    },
    {
     "data": {
      "image/png": "[encoded data removed]",
      "text/plain": [
       "<Figure size 1440x504 with 1 Axes>"
      ]
     },
     "metadata": {
      "tags": []
     },
     "output_type": "display_data"
    }
   ],
   "source": [
    "pd.Series((a).plot(kind=\"bar\",color=\"skyblue\",figsize=(20,7),fontsize=20))"
   ]
  },
  {
   "cell_type": "markdown",
   "metadata": {
    "colab_type": "text",
    "id": "qoImvPUBAMYj"
   },
   "source": [
    "## Preprocesamiento"
   ]
  },
  {
   "cell_type": "code",
   "execution_count": 0,
   "metadata": {
    "colab": {},
    "colab_type": "code",
    "id": "sxK8qrj7AMYk"
   },
   "outputs": [],
   "source": [
    "#Unimos el titulo con la descripción\n",
    "dataTraining['plot'] = dataTraining['title'] + ' ' + dataTraining['plot']"
   ]
  },
  {
   "cell_type": "code",
   "execution_count": 0,
   "metadata": {
    "colab": {},
    "colab_type": "code",
    "id": "ogoAjUBPAMYo"
   },
   "outputs": [],
   "source": [
    "dataTesting['plot'] = dataTesting['title'] + ' ' + dataTesting['plot']"
   ]
  },
  {
   "cell_type": "code",
   "execution_count": 106,
   "metadata": {
    "colab": {
     "base_uri": "https://localhost:8080/",
     "height": 34
    },
    "colab_type": "code",
    "executionInfo": {
     "elapsed": 1192,
     "status": "ok",
     "timestamp": 1555911061533,
     "user": {
      "displayName": "vanesa jaime",
      "photoUrl": "https://lh3.googleusercontent.com/-WSrrLDTddS8/AAAAAAAAAAI/AAAAAAAALbc/ptT0Y14Ywd8/s64/photo.jpg",
      "userId": "16013122765061519022"
     },
     "user_tz": 300
    },
    "id": "is-0Mly-AMYv",
    "outputId": "f268b1dc-3fbb-434a-88e4-fc1d52057aac"
   },
   "outputs": [
    {
     "data": {
      "text/plain": [
       "'!\"#$%&\\'()*+,-./:;<=>?@[\\\\]^_`{|}~'"
      ]
     },
     "execution_count": 106,
     "metadata": {
      "tags": []
     },
     "output_type": "execute_result"
    }
   ],
   "source": [
    "string.punctuation"
   ]
  },
  {
   "cell_type": "code",
   "execution_count": 0,
   "metadata": {
    "colab": {},
    "colab_type": "code",
    "id": "K3CNWcBoAMY1"
   },
   "outputs": [],
   "source": [
    "#Funcion Remover puntuacion\n",
    "def puntuacion(texto):\n",
    "    texto1=\"\".join([char for char in texto if char not in string.punctuation])\n",
    "    return texto1"
   ]
  },
  {
   "cell_type": "code",
   "execution_count": 0,
   "metadata": {
    "colab": {},
    "colab_type": "code",
    "id": "uPDaArMZAMY5"
   },
   "outputs": [],
   "source": [
    "#Funcion Remover numeros\n",
    "def numeracion(texto):\n",
    "    texto1=\"\".join([char for char in texto if not char.isdigit()])\n",
    "    return texto1"
   ]
  },
  {
   "cell_type": "code",
   "execution_count": 0,
   "metadata": {
    "colab": {},
    "colab_type": "code",
    "id": "1WX8_pGyAMY9"
   },
   "outputs": [],
   "source": [
    "#Contar puntuacion\n",
    "def cuenta_puntuacion(texto):\n",
    "    cuenta=sum([1 for char in texto if char in string.punctuation])\n",
    "    return cuenta"
   ]
  },
  {
   "cell_type": "code",
   "execution_count": 0,
   "metadata": {
    "colab": {},
    "colab_type": "code",
    "id": "zrVZnNa9AMZA"
   },
   "outputs": [],
   "source": [
    "dataTraining['cuenta_p']=dataTraining['plot'].apply(lambda x: cuenta_puntuacion(x))\n",
    "dataTraining['cuenta_p_title']=dataTraining['title'].apply(lambda x: cuenta_puntuacion(x))\n",
    "dataTraining['plot']=dataTraining['plot'].apply(lambda x: puntuacion(x))\n",
    "dataTraining['plot'] = dataTraining['plot'].apply(lambda x: x.replace(\" N \", ''))\n",
    "dataTraining['plot'] = dataTraining['plot'].apply(lambda x: x.lower())\n",
    "dataTraining['plot']=dataTraining['plot'].apply(lambda x: numeracion(x))\n",
    "dataTraining['largo']=dataTraining['plot'].apply(lambda x: len(x) - x.count(\" \"))\n",
    "dataTraining['largo_t']=dataTraining['title'].apply(lambda x: len(x) - x.count(\" \"))"
   ]
  },
  {
   "cell_type": "code",
   "execution_count": 0,
   "metadata": {
    "colab": {},
    "colab_type": "code",
    "id": "mraLaS0-AMZH"
   },
   "outputs": [],
   "source": [
    "dataTesting['cuenta_p']=dataTesting['plot'].apply(lambda x: cuenta_puntuacion(x))\n",
    "dataTesting['cuenta_p_title']=dataTesting['title'].apply(lambda x: cuenta_puntuacion(x))\n",
    "dataTesting['plot']=dataTesting['plot'].apply(lambda x: puntuacion(x))\n",
    "dataTesting['plot'] = dataTesting['plot'].apply(lambda x: x.replace(\" N \", ''))\n",
    "dataTesting['plot'] = dataTesting['plot'].apply(lambda x: x.lower())\n",
    "dataTesting['plot']=dataTesting['plot'].apply(lambda x: numeracion(x))\n",
    "dataTesting['largo']=dataTesting['plot'].apply(lambda x: len(x) - x.count(\" \"))\n",
    "dataTesting['largo_t']=dataTesting['title'].apply(lambda x: len(x) - x.count(\" \"))"
   ]
  },
  {
   "cell_type": "code",
   "execution_count": 0,
   "metadata": {
    "colab": {},
    "colab_type": "code",
    "id": "AZavLDZ2AMZW"
   },
   "outputs": [],
   "source": [
    "def tokenize(text):\n",
    "    tokens=re.split('\\W+',text)\n",
    "    return tokens"
   ]
  },
  {
   "cell_type": "code",
   "execution_count": 113,
   "metadata": {
    "colab": {
     "base_uri": "https://localhost:8080/",
     "height": 34
    },
    "colab_type": "code",
    "executionInfo": {
     "elapsed": 2015,
     "status": "ok",
     "timestamp": 1555911072735,
     "user": {
      "displayName": "vanesa jaime",
      "photoUrl": "https://lh3.googleusercontent.com/-WSrrLDTddS8/AAAAAAAAAAI/AAAAAAAALbc/ptT0Y14Ywd8/s64/photo.jpg",
      "userId": "16013122765061519022"
     },
     "user_tz": 300
    },
    "id": "vervLEvwYBAB",
    "outputId": "5e4f96f3-7e29-4512-fef1-4ca03aca04f2"
   },
   "outputs": [
    {
     "name": "stdout",
     "output_type": "stream",
     "text": [
      "Corpus 39757\n"
     ]
    }
   ],
   "source": [
    "plots = dataTraining['plot'].str.cat(sep=' ')\n",
    "tokens = tokenize(plots)\n",
    "vocabulary = set(tokens)\n",
    "print(\"Corpus\",len(vocabulary))\n",
    "frequency_dist = nltk.FreqDist(tokens)"
   ]
  },
  {
   "cell_type": "code",
   "execution_count": 0,
   "metadata": {
    "colab": {},
    "colab_type": "code",
    "id": "xOSOQP7Nzf2J"
   },
   "outputs": [],
   "source": [
    "b=pd.DataFrame.from_dict(frequency_dist, orient='index', columns=['Cant'])\n",
    "b=b.sort_values(by='Cant', ascending=False)\n",
    "b=b[:30]"
   ]
  },
  {
   "cell_type": "code",
   "execution_count": 115,
   "metadata": {
    "colab": {
     "base_uri": "https://localhost:8080/",
     "height": 510
    },
    "colab_type": "code",
    "executionInfo": {
     "elapsed": 998,
     "status": "ok",
     "timestamp": 1555911074664,
     "user": {
      "displayName": "vanesa jaime",
      "photoUrl": "https://lh3.googleusercontent.com/-WSrrLDTddS8/AAAAAAAAAAI/AAAAAAAALbc/ptT0Y14Ywd8/s64/photo.jpg",
      "userId": "16013122765061519022"
     },
     "user_tz": 300
    },
    "id": "eUi89VG7zf2M",
    "outputId": "c7a0935e-7a63-4b9e-9ec1-b786326472d3"
   },
   "outputs": [
    {
     "data": {
      "text/plain": [
       "0    AxesSubplot(0.125,0.125;0.775x0.755)\n",
       "dtype: object"
      ]
     },
     "execution_count": 115,
     "metadata": {
      "tags": []
     },
     "output_type": "execute_result"
    },
    {
     "data": {
      "image/png": "[encoded data removed]",
      "text/plain": [
       "<Figure size 1440x504 with 1 Axes>"
      ]
     },
     "metadata": {
      "tags": []
     },
     "output_type": "display_data"
    }
   ],
   "source": [
    "pd.Series((b).plot(kind=\"bar\",color=\"k\",figsize=(20,7),fontsize=20))"
   ]
  },
  {
   "cell_type": "code",
   "execution_count": 116,
   "metadata": {
    "colab": {
     "base_uri": "https://localhost:8080/",
     "height": 34
    },
    "colab_type": "code",
    "executionInfo": {
     "elapsed": 1645,
     "status": "ok",
     "timestamp": 1555911077677,
     "user": {
      "displayName": "vanesa jaime",
      "photoUrl": "https://lh3.googleusercontent.com/-WSrrLDTddS8/AAAAAAAAAAI/AAAAAAAALbc/ptT0Y14Ywd8/s64/photo.jpg",
      "userId": "16013122765061519022"
     },
     "user_tz": 300
    },
    "id": "vGiCI5-szf2S",
    "outputId": "b5dd9d9e-2141-404d-8b69-115ff9c30526"
   },
   "outputs": [
    {
     "name": "stdout",
     "output_type": "stream",
     "text": [
      "Corpus 39607\n"
     ]
    }
   ],
   "source": [
    "from nltk.corpus import stopwords\n",
    "stop_words = set(stopwords.words('english'))\n",
    "tokens = [w for w in tokens if not w in stop_words]\n",
    "vocabulary = set(tokens)\n",
    "print(\"Corpus\",len(vocabulary))\n",
    "frequency_dist = nltk.FreqDist(tokens)"
   ]
  },
  {
   "cell_type": "code",
   "execution_count": 0,
   "metadata": {
    "colab": {},
    "colab_type": "code",
    "id": "etX1UHUpzf2X"
   },
   "outputs": [],
   "source": [
    "c=pd.DataFrame.from_dict(frequency_dist, orient='index', columns=['Cant'])\n",
    "c=c.sort_values(by='Cant', ascending=False)\n",
    "c=c[:30]"
   ]
  },
  {
   "cell_type": "code",
   "execution_count": 118,
   "metadata": {
    "colab": {
     "base_uri": "https://localhost:8080/",
     "height": 529
    },
    "colab_type": "code",
    "executionInfo": {
     "elapsed": 1246,
     "status": "ok",
     "timestamp": 1555911082735,
     "user": {
      "displayName": "vanesa jaime",
      "photoUrl": "https://lh3.googleusercontent.com/-WSrrLDTddS8/AAAAAAAAAAI/AAAAAAAALbc/ptT0Y14Ywd8/s64/photo.jpg",
      "userId": "16013122765061519022"
     },
     "user_tz": 300
    },
    "id": "DkYFc-iuzf2a",
    "outputId": "2640b3aa-aa3a-4ccc-b65d-780a45ae45a4"
   },
   "outputs": [
    {
     "data": {
      "text/plain": [
       "0    AxesSubplot(0.125,0.125;0.775x0.755)\n",
       "dtype: object"
      ]
     },
     "execution_count": 118,
     "metadata": {
      "tags": []
     },
     "output_type": "execute_result"
    },
    {
     "data": {
      "image/png": "[encoded data removed]",
      "text/plain": [
       "<Figure size 1440x504 with 1 Axes>"
      ]
     },
     "metadata": {
      "tags": []
     },
     "output_type": "display_data"
    }
   ],
   "source": [
    "pd.Series((c).plot(kind=\"bar\",color=\"k\",figsize=(20,7),fontsize=20))"
   ]
  },
  {
   "cell_type": "code",
   "execution_count": 0,
   "metadata": {
    "colab": {},
    "colab_type": "code",
    "id": "SE1CORoMb1oq"
   },
   "outputs": [],
   "source": [
    "stopwords_per=['the','to','s']"
   ]
  },
  {
   "cell_type": "code",
   "execution_count": 0,
   "metadata": {
    "colab": {},
    "colab_type": "code",
    "id": "dPH3JYJKAMZZ"
   },
   "outputs": [],
   "source": [
    "dataTraining['plot_tokens']=dataTraining['plot'].apply(lambda x: tokenize(x))"
   ]
  },
  {
   "cell_type": "code",
   "execution_count": 0,
   "metadata": {
    "colab": {},
    "colab_type": "code",
    "id": "mtJusGwIAMZg"
   },
   "outputs": [],
   "source": [
    "dataTesting['plot_tokens']=dataTesting['plot'].apply(lambda x: tokenize(x))"
   ]
  },
  {
   "cell_type": "code",
   "execution_count": 0,
   "metadata": {
    "colab": {},
    "colab_type": "code",
    "id": "XFjUXLy4AMZm"
   },
   "outputs": [],
   "source": [
    "def remove_stopwords(texto):\n",
    "    texto1=[word for word in texto if word not in stopwords_per]\n",
    "    return texto1"
   ]
  },
  {
   "cell_type": "code",
   "execution_count": 0,
   "metadata": {
    "colab": {},
    "colab_type": "code",
    "id": "KTAt4dLjAMZo"
   },
   "outputs": [],
   "source": [
    "dataTesting['plot_tokens_ww']=dataTesting['plot_tokens'].apply(lambda x: remove_stopwords(x))"
   ]
  },
  {
   "cell_type": "code",
   "execution_count": 0,
   "metadata": {
    "colab": {},
    "colab_type": "code",
    "id": "wblV1yeKAMZr"
   },
   "outputs": [],
   "source": [
    "dataTraining['plot_tokens_ww']=dataTraining['plot_tokens'].apply(lambda x: remove_stopwords(x))"
   ]
  },
  {
   "cell_type": "code",
   "execution_count": 0,
   "metadata": {
    "colab": {},
    "colab_type": "code",
    "id": "0h-jJvg-AMZv"
   },
   "outputs": [],
   "source": [
    "ps = nltk.PorterStemmer()\n",
    "stemmer = SnowballStemmer('english')\n",
    "lanca_stemmer = LancasterStemmer()\n",
    "wnl = nltk.WordNetLemmatizer()"
   ]
  },
  {
   "cell_type": "code",
   "execution_count": 0,
   "metadata": {
    "colab": {},
    "colab_type": "code",
    "id": "iMjSJpsRAMZ1"
   },
   "outputs": [],
   "source": [
    "def stemming_snowball(texto):\n",
    "    texto1=[stemmer.stem(word) for word in texto]\n",
    "    return texto1"
   ]
  },
  {
   "cell_type": "code",
   "execution_count": 0,
   "metadata": {
    "colab": {},
    "colab_type": "code",
    "id": "4CCkbZZCzf3U"
   },
   "outputs": [],
   "source": [
    "def stemming_lancaster(texto):\n",
    "    texto1=[lanca_stemmer.stem(word) for word in texto]\n",
    "    return texto1"
   ]
  },
  {
   "cell_type": "code",
   "execution_count": 0,
   "metadata": {
    "colab": {},
    "colab_type": "code",
    "id": "nhdbYoCNAMZ-"
   },
   "outputs": [],
   "source": [
    "def stemming(texto):\n",
    "    texto1=[ps.stem(word) for word in texto]\n",
    "    return texto1"
   ]
  },
  {
   "cell_type": "code",
   "execution_count": 0,
   "metadata": {
    "colab": {},
    "colab_type": "code",
    "id": "qEnEnUfyAMaD"
   },
   "outputs": [],
   "source": [
    "def lemmatizing(texto):\n",
    "    texto1=[wnl.lemmatize(word) for word in texto]\n",
    "    return texto1"
   ]
  },
  {
   "cell_type": "code",
   "execution_count": 0,
   "metadata": {
    "colab": {},
    "colab_type": "code",
    "id": "vCTgOm0KAMaJ"
   },
   "outputs": [],
   "source": [
    "dataTraining['plot_lemming']=dataTraining['plot_tokens_ww'].apply(lambda x: lemmatizing(x))\n",
    "dataTraining['plot_stemmed']=dataTraining['plot_tokens_ww'].apply(lambda x: stemming(x))\n",
    "dataTraining['plot_stemmed_snow']=dataTraining['plot_tokens_ww'].apply(lambda x: stemming_snowball(x))\n",
    "dataTraining['plot_stemmed_lancaster']=dataTraining['plot_tokens_ww'].apply(lambda x: stemming_lancaster(x))"
   ]
  },
  {
   "cell_type": "code",
   "execution_count": 131,
   "metadata": {
    "colab": {
     "base_uri": "https://localhost:8080/",
     "height": 581
    },
    "colab_type": "code",
    "executionInfo": {
     "elapsed": 45067,
     "status": "ok",
     "timestamp": 1555911168931,
     "user": {
      "displayName": "vanesa jaime",
      "photoUrl": "https://lh3.googleusercontent.com/-WSrrLDTddS8/AAAAAAAAAAI/AAAAAAAALbc/ptT0Y14Ywd8/s64/photo.jpg",
      "userId": "16013122765061519022"
     },
     "user_tz": 300
    },
    "id": "YEk1_-xV_IMf",
    "outputId": "c46f66a8-b9fd-42e0-89f8-bf49dabbb703"
   },
   "outputs": [
    {
     "data": {
      "text/html": [
       "<div>\n",
       "<style scoped>\n",
       "    .dataframe tbody tr th:only-of-type {\n",
       "        vertical-align: middle;\n",
       "    }\n",
       "\n",
       "    .dataframe tbody tr th {\n",
       "        vertical-align: top;\n",
       "    }\n",
       "\n",
       "    .dataframe thead th {\n",
       "        text-align: right;\n",
       "    }\n",
       "</style>\n",
       "<table border=\"1\" class=\"dataframe\">\n",
       "  <thead>\n",
       "    <tr style=\"text-align: right;\">\n",
       "      <th></th>\n",
       "      <th>year</th>\n",
       "      <th>title</th>\n",
       "      <th>plot</th>\n",
       "      <th>genres</th>\n",
       "      <th>rating</th>\n",
       "      <th>cuenta_p</th>\n",
       "      <th>cuenta_p_title</th>\n",
       "      <th>largo</th>\n",
       "      <th>largo_t</th>\n",
       "      <th>plot_tokens</th>\n",
       "      <th>plot_tokens_ww</th>\n",
       "      <th>plot_lemming</th>\n",
       "      <th>plot_stemmed</th>\n",
       "      <th>plot_stemmed_snow</th>\n",
       "      <th>plot_stemmed_lancaster</th>\n",
       "    </tr>\n",
       "  </thead>\n",
       "  <tbody>\n",
       "    <tr>\n",
       "      <th>0</th>\n",
       "      <td>1995</td>\n",
       "      <td>Major Payne</td>\n",
       "      <td>major payne major benson winifred payne is bei...</td>\n",
       "      <td>[Adventure, Comedy, Family]</td>\n",
       "      <td>6.1</td>\n",
       "      <td>18</td>\n",
       "      <td>0</td>\n",
       "      <td>499</td>\n",
       "      <td>10</td>\n",
       "      <td>[major, payne, major, benson, winifred, payne,...</td>\n",
       "      <td>[major, payne, major, benson, winifred, payne,...</td>\n",
       "      <td>[major, payne, major, benson, winifred, payne,...</td>\n",
       "      <td>[major, payn, major, benson, winifr, payn, is,...</td>\n",
       "      <td>[major, payn, major, benson, winifr, payn, is,...</td>\n",
       "      <td>[maj, payn, maj, benson, winifr, payn, is, bei...</td>\n",
       "    </tr>\n",
       "    <tr>\n",
       "      <th>2</th>\n",
       "      <td>2008</td>\n",
       "      <td>Outlander</td>\n",
       "      <td>outlander in  ad   in the iron age   a spacecr...</td>\n",
       "      <td>[Action, Adventure, Sci-Fi]</td>\n",
       "      <td>6.3</td>\n",
       "      <td>15</td>\n",
       "      <td>0</td>\n",
       "      <td>385</td>\n",
       "      <td>9</td>\n",
       "      <td>[outlander, in, ad, in, the, iron, age, a, spa...</td>\n",
       "      <td>[outlander, in, ad, in, iron, age, a, spacecra...</td>\n",
       "      <td>[outlander, in, ad, in, iron, age, a, spacecra...</td>\n",
       "      <td>[outland, in, ad, in, iron, age, a, spacecraft...</td>\n",
       "      <td>[outland, in, ad, in, iron, age, a, spacecraft...</td>\n",
       "      <td>[outland, in, ad, in, iron, ag, a, spacecraft,...</td>\n",
       "    </tr>\n",
       "    <tr>\n",
       "      <th>3</th>\n",
       "      <td>2011</td>\n",
       "      <td>Mission: Impossible - Ghost Protocol</td>\n",
       "      <td>mission impossible  ghost protocol imf agent e...</td>\n",
       "      <td>[Action, Adventure, Thriller]</td>\n",
       "      <td>7.4</td>\n",
       "      <td>30</td>\n",
       "      <td>2</td>\n",
       "      <td>982</td>\n",
       "      <td>32</td>\n",
       "      <td>[mission, impossible, ghost, protocol, imf, ag...</td>\n",
       "      <td>[mission, impossible, ghost, protocol, imf, ag...</td>\n",
       "      <td>[mission, impossible, ghost, protocol, imf, ag...</td>\n",
       "      <td>[mission, imposs, ghost, protocol, imf, agent,...</td>\n",
       "      <td>[mission, imposs, ghost, protocol, imf, agent,...</td>\n",
       "      <td>[miss, imposs, ghost, protocol, imf, ag, eth, ...</td>\n",
       "    </tr>\n",
       "    <tr>\n",
       "      <th>8</th>\n",
       "      <td>2001</td>\n",
       "      <td>Mockingbird Don't Sing</td>\n",
       "      <td>mockingbird dont sing on november     on the c...</td>\n",
       "      <td>[Biography, Drama]</td>\n",
       "      <td>6.5</td>\n",
       "      <td>27</td>\n",
       "      <td>1</td>\n",
       "      <td>824</td>\n",
       "      <td>20</td>\n",
       "      <td>[mockingbird, dont, sing, on, november, on, th...</td>\n",
       "      <td>[mockingbird, dont, sing, on, november, on, cb...</td>\n",
       "      <td>[mockingbird, dont, sing, on, november, on, cb...</td>\n",
       "      <td>[mockingbird, dont, sing, on, novemb, on, cb, ...</td>\n",
       "      <td>[mockingbird, dont, sing, on, novemb, on, cbs,...</td>\n",
       "      <td>[mockingbird, dont, sing, on, novemb, on, cbs,...</td>\n",
       "    </tr>\n",
       "    <tr>\n",
       "      <th>10</th>\n",
       "      <td>2011</td>\n",
       "      <td>Snow Flower and the Secret Fan</td>\n",
       "      <td>snow flower and the secret fan in th  century ...</td>\n",
       "      <td>[Drama, History]</td>\n",
       "      <td>6.1</td>\n",
       "      <td>22</td>\n",
       "      <td>0</td>\n",
       "      <td>625</td>\n",
       "      <td>25</td>\n",
       "      <td>[snow, flower, and, the, secret, fan, in, th, ...</td>\n",
       "      <td>[snow, flower, and, secret, fan, in, th, centu...</td>\n",
       "      <td>[snow, flower, and, secret, fan, in, th, centu...</td>\n",
       "      <td>[snow, flower, and, secret, fan, in, th, centu...</td>\n",
       "      <td>[snow, flower, and, secret, fan, in, th, centu...</td>\n",
       "      <td>[snow, flow, and, secret, fan, in, th, century...</td>\n",
       "    </tr>\n",
       "  </tbody>\n",
       "</table>\n",
       "</div>"
      ],
      "text/plain": [
       "    year                                 title  \\\n",
       "0   1995                           Major Payne   \n",
       "2   2008                             Outlander   \n",
       "3   2011  Mission: Impossible - Ghost Protocol   \n",
       "8   2001                Mockingbird Don't Sing   \n",
       "10  2011        Snow Flower and the Secret Fan   \n",
       "\n",
       "                                                 plot  \\\n",
       "0   major payne major benson winifred payne is bei...   \n",
       "2   outlander in  ad   in the iron age   a spacecr...   \n",
       "3   mission impossible  ghost protocol imf agent e...   \n",
       "8   mockingbird dont sing on november     on the c...   \n",
       "10  snow flower and the secret fan in th  century ...   \n",
       "\n",
       "                           genres  rating  cuenta_p  cuenta_p_title  largo  \\\n",
       "0     [Adventure, Comedy, Family]     6.1        18               0    499   \n",
       "2     [Action, Adventure, Sci-Fi]     6.3        15               0    385   \n",
       "3   [Action, Adventure, Thriller]     7.4        30               2    982   \n",
       "8              [Biography, Drama]     6.5        27               1    824   \n",
       "10               [Drama, History]     6.1        22               0    625   \n",
       "\n",
       "    largo_t                                        plot_tokens  \\\n",
       "0        10  [major, payne, major, benson, winifred, payne,...   \n",
       "2         9  [outlander, in, ad, in, the, iron, age, a, spa...   \n",
       "3        32  [mission, impossible, ghost, protocol, imf, ag...   \n",
       "8        20  [mockingbird, dont, sing, on, november, on, th...   \n",
       "10       25  [snow, flower, and, the, secret, fan, in, th, ...   \n",
       "\n",
       "                                       plot_tokens_ww  \\\n",
       "0   [major, payne, major, benson, winifred, payne,...   \n",
       "2   [outlander, in, ad, in, iron, age, a, spacecra...   \n",
       "3   [mission, impossible, ghost, protocol, imf, ag...   \n",
       "8   [mockingbird, dont, sing, on, november, on, cb...   \n",
       "10  [snow, flower, and, secret, fan, in, th, centu...   \n",
       "\n",
       "                                         plot_lemming  \\\n",
       "0   [major, payne, major, benson, winifred, payne,...   \n",
       "2   [outlander, in, ad, in, iron, age, a, spacecra...   \n",
       "3   [mission, impossible, ghost, protocol, imf, ag...   \n",
       "8   [mockingbird, dont, sing, on, november, on, cb...   \n",
       "10  [snow, flower, and, secret, fan, in, th, centu...   \n",
       "\n",
       "                                         plot_stemmed  \\\n",
       "0   [major, payn, major, benson, winifr, payn, is,...   \n",
       "2   [outland, in, ad, in, iron, age, a, spacecraft...   \n",
       "3   [mission, imposs, ghost, protocol, imf, agent,...   \n",
       "8   [mockingbird, dont, sing, on, novemb, on, cb, ...   \n",
       "10  [snow, flower, and, secret, fan, in, th, centu...   \n",
       "\n",
       "                                    plot_stemmed_snow  \\\n",
       "0   [major, payn, major, benson, winifr, payn, is,...   \n",
       "2   [outland, in, ad, in, iron, age, a, spacecraft...   \n",
       "3   [mission, imposs, ghost, protocol, imf, agent,...   \n",
       "8   [mockingbird, dont, sing, on, novemb, on, cbs,...   \n",
       "10  [snow, flower, and, secret, fan, in, th, centu...   \n",
       "\n",
       "                               plot_stemmed_lancaster  \n",
       "0   [maj, payn, maj, benson, winifr, payn, is, bei...  \n",
       "2   [outland, in, ad, in, iron, ag, a, spacecraft,...  \n",
       "3   [miss, imposs, ghost, protocol, imf, ag, eth, ...  \n",
       "8   [mockingbird, dont, sing, on, novemb, on, cbs,...  \n",
       "10  [snow, flow, and, secret, fan, in, th, century...  "
      ]
     },
     "execution_count": 131,
     "metadata": {
      "tags": []
     },
     "output_type": "execute_result"
    }
   ],
   "source": [
    "dataTraining.head()"
   ]
  },
  {
   "cell_type": "code",
   "execution_count": 0,
   "metadata": {
    "colab": {},
    "colab_type": "code",
    "id": "X4i2bD_nAMaT"
   },
   "outputs": [],
   "source": [
    "dataTesting['plot_lemming']=dataTesting['plot_tokens_ww'].apply(lambda x: lemmatizing(x))\n",
    "dataTesting['plot_stemmed']=dataTesting['plot_tokens_ww'].apply(lambda x: stemming(x))\n",
    "dataTesting['plot_stemmed_snow']=dataTesting['plot_tokens_ww'].apply(lambda x: stemming_snowball(x))\n",
    "dataTesting['plot_stemmed_lancaster']=dataTesting['plot_tokens_ww'].apply(lambda x: stemming_lancaster(x))"
   ]
  },
  {
   "cell_type": "code",
   "execution_count": 133,
   "metadata": {
    "colab": {
     "base_uri": "https://localhost:8080/",
     "height": 649
    },
    "colab_type": "code",
    "executionInfo": {
     "elapsed": 18112,
     "status": "ok",
     "timestamp": 1555911222579,
     "user": {
      "displayName": "vanesa jaime",
      "photoUrl": "https://lh3.googleusercontent.com/-WSrrLDTddS8/AAAAAAAAAAI/AAAAAAAALbc/ptT0Y14Ywd8/s64/photo.jpg",
      "userId": "16013122765061519022"
     },
     "user_tz": 300
    },
    "id": "v6mGZ_Y__JBF",
    "outputId": "6c4caefe-7788-4a9d-c8d9-20749cd6f30e"
   },
   "outputs": [
    {
     "data": {
      "text/html": [
       "<div>\n",
       "<style scoped>\n",
       "    .dataframe tbody tr th:only-of-type {\n",
       "        vertical-align: middle;\n",
       "    }\n",
       "\n",
       "    .dataframe tbody tr th {\n",
       "        vertical-align: top;\n",
       "    }\n",
       "\n",
       "    .dataframe thead th {\n",
       "        text-align: right;\n",
       "    }\n",
       "</style>\n",
       "<table border=\"1\" class=\"dataframe\">\n",
       "  <thead>\n",
       "    <tr style=\"text-align: right;\">\n",
       "      <th></th>\n",
       "      <th>year</th>\n",
       "      <th>title</th>\n",
       "      <th>plot</th>\n",
       "      <th>cuenta_p</th>\n",
       "      <th>cuenta_p_title</th>\n",
       "      <th>largo</th>\n",
       "      <th>largo_t</th>\n",
       "      <th>plot_tokens</th>\n",
       "      <th>plot_tokens_ww</th>\n",
       "      <th>plot_lemming</th>\n",
       "      <th>plot_stemmed</th>\n",
       "      <th>plot_stemmed_snow</th>\n",
       "      <th>plot_stemmed_lancaster</th>\n",
       "    </tr>\n",
       "  </thead>\n",
       "  <tbody>\n",
       "    <tr>\n",
       "      <th>1</th>\n",
       "      <td>1999</td>\n",
       "      <td>Message in a Bottle</td>\n",
       "      <td>message in a bottle who meets by fate   shall ...</td>\n",
       "      <td>11</td>\n",
       "      <td>0</td>\n",
       "      <td>366</td>\n",
       "      <td>16</td>\n",
       "      <td>[message, in, a, bottle, who, meets, by, fate,...</td>\n",
       "      <td>[message, in, a, bottle, who, meets, by, fate,...</td>\n",
       "      <td>[message, in, a, bottle, who, meet, by, fate, ...</td>\n",
       "      <td>[messag, in, a, bottl, who, meet, by, fate, sh...</td>\n",
       "      <td>[messag, in, a, bottl, who, meet, by, fate, sh...</td>\n",
       "      <td>[mess, in, a, bottl, who, meet, by, fat, shal,...</td>\n",
       "    </tr>\n",
       "    <tr>\n",
       "      <th>4</th>\n",
       "      <td>1978</td>\n",
       "      <td>Midnight Express</td>\n",
       "      <td>midnight express the true story of billy hayes...</td>\n",
       "      <td>2</td>\n",
       "      <td>0</td>\n",
       "      <td>118</td>\n",
       "      <td>15</td>\n",
       "      <td>[midnight, express, the, true, story, of, bill...</td>\n",
       "      <td>[midnight, express, true, story, of, billy, ha...</td>\n",
       "      <td>[midnight, express, true, story, of, billy, ha...</td>\n",
       "      <td>[midnight, express, true, stori, of, billi, ha...</td>\n",
       "      <td>[midnight, express, true, stori, of, billi, ha...</td>\n",
       "      <td>[midnight, express, tru, story, of, bil, hay, ...</td>\n",
       "    </tr>\n",
       "    <tr>\n",
       "      <th>5</th>\n",
       "      <td>1996</td>\n",
       "      <td>Primal Fear</td>\n",
       "      <td>primal fear martin vail left the chicago da  s...</td>\n",
       "      <td>48</td>\n",
       "      <td>0</td>\n",
       "      <td>1560</td>\n",
       "      <td>10</td>\n",
       "      <td>[primal, fear, martin, vail, left, the, chicag...</td>\n",
       "      <td>[primal, fear, martin, vail, left, chicago, da...</td>\n",
       "      <td>[primal, fear, martin, vail, left, chicago, da...</td>\n",
       "      <td>[primal, fear, martin, vail, left, chicago, da...</td>\n",
       "      <td>[primal, fear, martin, vail, left, chicago, da...</td>\n",
       "      <td>[prim, fear, martin, vail, left, chicago, da, ...</td>\n",
       "    </tr>\n",
       "    <tr>\n",
       "      <th>6</th>\n",
       "      <td>1950</td>\n",
       "      <td>Crisis</td>\n",
       "      <td>crisis husband and wife americans dr   eugene ...</td>\n",
       "      <td>22</td>\n",
       "      <td>0</td>\n",
       "      <td>880</td>\n",
       "      <td>6</td>\n",
       "      <td>[crisis, husband, and, wife, americans, dr, eu...</td>\n",
       "      <td>[crisis, husband, and, wife, americans, dr, eu...</td>\n",
       "      <td>[crisis, husband, and, wife, american, dr, eug...</td>\n",
       "      <td>[crisi, husband, and, wife, american, dr, euge...</td>\n",
       "      <td>[crisi, husband, and, wife, american, dr, euge...</td>\n",
       "      <td>[cris, husband, and, wif, am, dr, eug, and, mr...</td>\n",
       "    </tr>\n",
       "    <tr>\n",
       "      <th>7</th>\n",
       "      <td>1959</td>\n",
       "      <td>The Tingler</td>\n",
       "      <td>the tingler the coroner and scientist dr   war...</td>\n",
       "      <td>29</td>\n",
       "      <td>0</td>\n",
       "      <td>831</td>\n",
       "      <td>10</td>\n",
       "      <td>[the, tingler, the, coroner, and, scientist, d...</td>\n",
       "      <td>[tingler, coroner, and, scientist, dr, warren,...</td>\n",
       "      <td>[tingler, coroner, and, scientist, dr, warren,...</td>\n",
       "      <td>[tingler, coron, and, scientist, dr, warren, c...</td>\n",
       "      <td>[tingler, coron, and, scientist, dr, warren, c...</td>\n",
       "      <td>[tingl, coron, and, sci, dr, war, chapin, is, ...</td>\n",
       "    </tr>\n",
       "  </tbody>\n",
       "</table>\n",
       "</div>"
      ],
      "text/plain": [
       "   year                title  \\\n",
       "1  1999  Message in a Bottle   \n",
       "4  1978     Midnight Express   \n",
       "5  1996          Primal Fear   \n",
       "6  1950               Crisis   \n",
       "7  1959          The Tingler   \n",
       "\n",
       "                                                plot  cuenta_p  \\\n",
       "1  message in a bottle who meets by fate   shall ...        11   \n",
       "4  midnight express the true story of billy hayes...         2   \n",
       "5  primal fear martin vail left the chicago da  s...        48   \n",
       "6  crisis husband and wife americans dr   eugene ...        22   \n",
       "7  the tingler the coroner and scientist dr   war...        29   \n",
       "\n",
       "   cuenta_p_title  largo  largo_t  \\\n",
       "1               0    366       16   \n",
       "4               0    118       15   \n",
       "5               0   1560       10   \n",
       "6               0    880        6   \n",
       "7               0    831       10   \n",
       "\n",
       "                                         plot_tokens  \\\n",
       "1  [message, in, a, bottle, who, meets, by, fate,...   \n",
       "4  [midnight, express, the, true, story, of, bill...   \n",
       "5  [primal, fear, martin, vail, left, the, chicag...   \n",
       "6  [crisis, husband, and, wife, americans, dr, eu...   \n",
       "7  [the, tingler, the, coroner, and, scientist, d...   \n",
       "\n",
       "                                      plot_tokens_ww  \\\n",
       "1  [message, in, a, bottle, who, meets, by, fate,...   \n",
       "4  [midnight, express, true, story, of, billy, ha...   \n",
       "5  [primal, fear, martin, vail, left, chicago, da...   \n",
       "6  [crisis, husband, and, wife, americans, dr, eu...   \n",
       "7  [tingler, coroner, and, scientist, dr, warren,...   \n",
       "\n",
       "                                        plot_lemming  \\\n",
       "1  [message, in, a, bottle, who, meet, by, fate, ...   \n",
       "4  [midnight, express, true, story, of, billy, ha...   \n",
       "5  [primal, fear, martin, vail, left, chicago, da...   \n",
       "6  [crisis, husband, and, wife, american, dr, eug...   \n",
       "7  [tingler, coroner, and, scientist, dr, warren,...   \n",
       "\n",
       "                                        plot_stemmed  \\\n",
       "1  [messag, in, a, bottl, who, meet, by, fate, sh...   \n",
       "4  [midnight, express, true, stori, of, billi, ha...   \n",
       "5  [primal, fear, martin, vail, left, chicago, da...   \n",
       "6  [crisi, husband, and, wife, american, dr, euge...   \n",
       "7  [tingler, coron, and, scientist, dr, warren, c...   \n",
       "\n",
       "                                   plot_stemmed_snow  \\\n",
       "1  [messag, in, a, bottl, who, meet, by, fate, sh...   \n",
       "4  [midnight, express, true, stori, of, billi, ha...   \n",
       "5  [primal, fear, martin, vail, left, chicago, da...   \n",
       "6  [crisi, husband, and, wife, american, dr, euge...   \n",
       "7  [tingler, coron, and, scientist, dr, warren, c...   \n",
       "\n",
       "                              plot_stemmed_lancaster  \n",
       "1  [mess, in, a, bottl, who, meet, by, fat, shal,...  \n",
       "4  [midnight, express, tru, story, of, bil, hay, ...  \n",
       "5  [prim, fear, martin, vail, left, chicago, da, ...  \n",
       "6  [cris, husband, and, wif, am, dr, eug, and, mr...  \n",
       "7  [tingl, coron, and, sci, dr, war, chapin, is, ...  "
      ]
     },
     "execution_count": 133,
     "metadata": {
      "tags": []
     },
     "output_type": "execute_result"
    }
   ],
   "source": [
    "dataTesting.head()"
   ]
  },
  {
   "cell_type": "code",
   "execution_count": 0,
   "metadata": {
    "colab": {},
    "colab_type": "code",
    "id": "rrYtflpTAMad"
   },
   "outputs": [],
   "source": [
    "def texto(texto):\n",
    "    texto1=\" \".join(texto)\n",
    "    return texto1"
   ]
  },
  {
   "cell_type": "code",
   "execution_count": 0,
   "metadata": {
    "colab": {},
    "colab_type": "code",
    "id": "d8k0MfRXAMai"
   },
   "outputs": [],
   "source": [
    "dataTraining['plot1']=dataTraining['plot_tokens_ww'].apply(lambda x: texto(x))\n",
    "dataTraining['plot_lemming']=dataTraining['plot_lemming'].apply(lambda x: texto(x))\n",
    "dataTraining['plot_stemmed']=dataTraining['plot_stemmed'].apply(lambda x: texto(x))\n",
    "dataTraining['plot_stemmed_snow']=dataTraining['plot_stemmed_snow'].apply(lambda x: texto(x))\n",
    "dataTraining['plot_stemmed_lancaster']=dataTraining['plot_stemmed_lancaster'].apply(lambda x: texto(x))"
   ]
  },
  {
   "cell_type": "code",
   "execution_count": 0,
   "metadata": {
    "colab": {},
    "colab_type": "code",
    "id": "UCy_qC1SAMax"
   },
   "outputs": [],
   "source": [
    "dataTesting['plot1']=dataTesting['plot_tokens_ww'].apply(lambda x: texto(x))\n",
    "dataTesting['plot_lemming']=dataTesting['plot_lemming'].apply(lambda x: texto(x))\n",
    "dataTesting['plot_stemmed']=dataTesting['plot_stemmed'].apply(lambda x: texto(x))\n",
    "dataTesting['plot_stemmed_snow']=dataTesting['plot_stemmed_snow'].apply(lambda x: texto(x))\n",
    "dataTesting['plot_stemmed_lancaster']=dataTesting['plot_stemmed_lancaster'].apply(lambda x: texto(x))"
   ]
  },
  {
   "cell_type": "code",
   "execution_count": 137,
   "metadata": {
    "colab": {
     "base_uri": "https://localhost:8080/",
     "height": 615
    },
    "colab_type": "code",
    "executionInfo": {
     "elapsed": 736,
     "status": "ok",
     "timestamp": 1555911235992,
     "user": {
      "displayName": "vanesa jaime",
      "photoUrl": "https://lh3.googleusercontent.com/-WSrrLDTddS8/AAAAAAAAAAI/AAAAAAAALbc/ptT0Y14Ywd8/s64/photo.jpg",
      "userId": "16013122765061519022"
     },
     "user_tz": 300
    },
    "id": "LZiYD-M6AMar",
    "outputId": "303de388-0829-4f45-f03d-12dd00c06933"
   },
   "outputs": [
    {
     "data": {
      "text/html": [
       "<div>\n",
       "<style scoped>\n",
       "    .dataframe tbody tr th:only-of-type {\n",
       "        vertical-align: middle;\n",
       "    }\n",
       "\n",
       "    .dataframe tbody tr th {\n",
       "        vertical-align: top;\n",
       "    }\n",
       "\n",
       "    .dataframe thead th {\n",
       "        text-align: right;\n",
       "    }\n",
       "</style>\n",
       "<table border=\"1\" class=\"dataframe\">\n",
       "  <thead>\n",
       "    <tr style=\"text-align: right;\">\n",
       "      <th></th>\n",
       "      <th>year</th>\n",
       "      <th>title</th>\n",
       "      <th>plot</th>\n",
       "      <th>genres</th>\n",
       "      <th>rating</th>\n",
       "      <th>cuenta_p</th>\n",
       "      <th>cuenta_p_title</th>\n",
       "      <th>largo</th>\n",
       "      <th>largo_t</th>\n",
       "      <th>plot_tokens</th>\n",
       "      <th>plot_tokens_ww</th>\n",
       "      <th>plot_lemming</th>\n",
       "      <th>plot_stemmed</th>\n",
       "      <th>plot_stemmed_snow</th>\n",
       "      <th>plot_stemmed_lancaster</th>\n",
       "      <th>plot1</th>\n",
       "    </tr>\n",
       "  </thead>\n",
       "  <tbody>\n",
       "    <tr>\n",
       "      <th>0</th>\n",
       "      <td>1995</td>\n",
       "      <td>Major Payne</td>\n",
       "      <td>major payne major benson winifred payne is bei...</td>\n",
       "      <td>[Adventure, Comedy, Family]</td>\n",
       "      <td>6.1</td>\n",
       "      <td>18</td>\n",
       "      <td>0</td>\n",
       "      <td>499</td>\n",
       "      <td>10</td>\n",
       "      <td>[major, payne, major, benson, winifred, payne,...</td>\n",
       "      <td>[major, payne, major, benson, winifred, payne,...</td>\n",
       "      <td>major payne major benson winifred payne is bei...</td>\n",
       "      <td>major payn major benson winifr payn is be disc...</td>\n",
       "      <td>major payn major benson winifr payn is be disc...</td>\n",
       "      <td>maj payn maj benson winifr payn is being disch...</td>\n",
       "      <td>major payne major benson winifred payne is bei...</td>\n",
       "    </tr>\n",
       "    <tr>\n",
       "      <th>2</th>\n",
       "      <td>2008</td>\n",
       "      <td>Outlander</td>\n",
       "      <td>outlander in  ad   in the iron age   a spacecr...</td>\n",
       "      <td>[Action, Adventure, Sci-Fi]</td>\n",
       "      <td>6.3</td>\n",
       "      <td>15</td>\n",
       "      <td>0</td>\n",
       "      <td>385</td>\n",
       "      <td>9</td>\n",
       "      <td>[outlander, in, ad, in, the, iron, age, a, spa...</td>\n",
       "      <td>[outlander, in, ad, in, iron, age, a, spacecra...</td>\n",
       "      <td>outlander in ad in iron age a spacecraft crash...</td>\n",
       "      <td>outland in ad in iron age a spacecraft crash i...</td>\n",
       "      <td>outland in ad in iron age a spacecraft crash i...</td>\n",
       "      <td>outland in ad in iron ag a spacecraft crash in...</td>\n",
       "      <td>outlander in ad in iron age a spacecraft crash...</td>\n",
       "    </tr>\n",
       "    <tr>\n",
       "      <th>3</th>\n",
       "      <td>2011</td>\n",
       "      <td>Mission: Impossible - Ghost Protocol</td>\n",
       "      <td>mission impossible  ghost protocol imf agent e...</td>\n",
       "      <td>[Action, Adventure, Thriller]</td>\n",
       "      <td>7.4</td>\n",
       "      <td>30</td>\n",
       "      <td>2</td>\n",
       "      <td>982</td>\n",
       "      <td>32</td>\n",
       "      <td>[mission, impossible, ghost, protocol, imf, ag...</td>\n",
       "      <td>[mission, impossible, ghost, protocol, imf, ag...</td>\n",
       "      <td>mission impossible ghost protocol imf agent et...</td>\n",
       "      <td>mission imposs ghost protocol imf agent ethan ...</td>\n",
       "      <td>mission imposs ghost protocol imf agent ethan ...</td>\n",
       "      <td>miss imposs ghost protocol imf ag eth hunt who...</td>\n",
       "      <td>mission impossible ghost protocol imf agent et...</td>\n",
       "    </tr>\n",
       "    <tr>\n",
       "      <th>8</th>\n",
       "      <td>2001</td>\n",
       "      <td>Mockingbird Don't Sing</td>\n",
       "      <td>mockingbird dont sing on november     on the c...</td>\n",
       "      <td>[Biography, Drama]</td>\n",
       "      <td>6.5</td>\n",
       "      <td>27</td>\n",
       "      <td>1</td>\n",
       "      <td>824</td>\n",
       "      <td>20</td>\n",
       "      <td>[mockingbird, dont, sing, on, november, on, th...</td>\n",
       "      <td>[mockingbird, dont, sing, on, november, on, cb...</td>\n",
       "      <td>mockingbird dont sing on november on cbs eveni...</td>\n",
       "      <td>mockingbird dont sing on novemb on cb even new...</td>\n",
       "      <td>mockingbird dont sing on novemb on cbs even ne...</td>\n",
       "      <td>mockingbird dont sing on novemb on cbs ev new ...</td>\n",
       "      <td>mockingbird dont sing on november on cbs eveni...</td>\n",
       "    </tr>\n",
       "    <tr>\n",
       "      <th>10</th>\n",
       "      <td>2011</td>\n",
       "      <td>Snow Flower and the Secret Fan</td>\n",
       "      <td>snow flower and the secret fan in th  century ...</td>\n",
       "      <td>[Drama, History]</td>\n",
       "      <td>6.1</td>\n",
       "      <td>22</td>\n",
       "      <td>0</td>\n",
       "      <td>625</td>\n",
       "      <td>25</td>\n",
       "      <td>[snow, flower, and, the, secret, fan, in, th, ...</td>\n",
       "      <td>[snow, flower, and, secret, fan, in, th, centu...</td>\n",
       "      <td>snow flower and secret fan in th century china...</td>\n",
       "      <td>snow flower and secret fan in th centuri china...</td>\n",
       "      <td>snow flower and secret fan in th centuri china...</td>\n",
       "      <td>snow flow and secret fan in th century chin se...</td>\n",
       "      <td>snow flower and secret fan in th century china...</td>\n",
       "    </tr>\n",
       "  </tbody>\n",
       "</table>\n",
       "</div>"
      ],
      "text/plain": [
       "    year                                 title  \\\n",
       "0   1995                           Major Payne   \n",
       "2   2008                             Outlander   \n",
       "3   2011  Mission: Impossible - Ghost Protocol   \n",
       "8   2001                Mockingbird Don't Sing   \n",
       "10  2011        Snow Flower and the Secret Fan   \n",
       "\n",
       "                                                 plot  \\\n",
       "0   major payne major benson winifred payne is bei...   \n",
       "2   outlander in  ad   in the iron age   a spacecr...   \n",
       "3   mission impossible  ghost protocol imf agent e...   \n",
       "8   mockingbird dont sing on november     on the c...   \n",
       "10  snow flower and the secret fan in th  century ...   \n",
       "\n",
       "                           genres  rating  cuenta_p  cuenta_p_title  largo  \\\n",
       "0     [Adventure, Comedy, Family]     6.1        18               0    499   \n",
       "2     [Action, Adventure, Sci-Fi]     6.3        15               0    385   \n",
       "3   [Action, Adventure, Thriller]     7.4        30               2    982   \n",
       "8              [Biography, Drama]     6.5        27               1    824   \n",
       "10               [Drama, History]     6.1        22               0    625   \n",
       "\n",
       "    largo_t                                        plot_tokens  \\\n",
       "0        10  [major, payne, major, benson, winifred, payne,...   \n",
       "2         9  [outlander, in, ad, in, the, iron, age, a, spa...   \n",
       "3        32  [mission, impossible, ghost, protocol, imf, ag...   \n",
       "8        20  [mockingbird, dont, sing, on, november, on, th...   \n",
       "10       25  [snow, flower, and, the, secret, fan, in, th, ...   \n",
       "\n",
       "                                       plot_tokens_ww  \\\n",
       "0   [major, payne, major, benson, winifred, payne,...   \n",
       "2   [outlander, in, ad, in, iron, age, a, spacecra...   \n",
       "3   [mission, impossible, ghost, protocol, imf, ag...   \n",
       "8   [mockingbird, dont, sing, on, november, on, cb...   \n",
       "10  [snow, flower, and, secret, fan, in, th, centu...   \n",
       "\n",
       "                                         plot_lemming  \\\n",
       "0   major payne major benson winifred payne is bei...   \n",
       "2   outlander in ad in iron age a spacecraft crash...   \n",
       "3   mission impossible ghost protocol imf agent et...   \n",
       "8   mockingbird dont sing on november on cbs eveni...   \n",
       "10  snow flower and secret fan in th century china...   \n",
       "\n",
       "                                         plot_stemmed  \\\n",
       "0   major payn major benson winifr payn is be disc...   \n",
       "2   outland in ad in iron age a spacecraft crash i...   \n",
       "3   mission imposs ghost protocol imf agent ethan ...   \n",
       "8   mockingbird dont sing on novemb on cb even new...   \n",
       "10  snow flower and secret fan in th centuri china...   \n",
       "\n",
       "                                    plot_stemmed_snow  \\\n",
       "0   major payn major benson winifr payn is be disc...   \n",
       "2   outland in ad in iron age a spacecraft crash i...   \n",
       "3   mission imposs ghost protocol imf agent ethan ...   \n",
       "8   mockingbird dont sing on novemb on cbs even ne...   \n",
       "10  snow flower and secret fan in th centuri china...   \n",
       "\n",
       "                               plot_stemmed_lancaster  \\\n",
       "0   maj payn maj benson winifr payn is being disch...   \n",
       "2   outland in ad in iron ag a spacecraft crash in...   \n",
       "3   miss imposs ghost protocol imf ag eth hunt who...   \n",
       "8   mockingbird dont sing on novemb on cbs ev new ...   \n",
       "10  snow flow and secret fan in th century chin se...   \n",
       "\n",
       "                                                plot1  \n",
       "0   major payne major benson winifred payne is bei...  \n",
       "2   outlander in ad in iron age a spacecraft crash...  \n",
       "3   mission impossible ghost protocol imf agent et...  \n",
       "8   mockingbird dont sing on november on cbs eveni...  \n",
       "10  snow flower and secret fan in th century china...  "
      ]
     },
     "execution_count": 137,
     "metadata": {
      "tags": []
     },
     "output_type": "execute_result"
    }
   ],
   "source": [
    "dataTraining.head()"
   ]
  },
  {
   "cell_type": "code",
   "execution_count": 138,
   "metadata": {
    "colab": {
     "base_uri": "https://localhost:8080/",
     "height": 649
    },
    "colab_type": "code",
    "executionInfo": {
     "elapsed": 400,
     "status": "ok",
     "timestamp": 1555911236287,
     "user": {
      "displayName": "vanesa jaime",
      "photoUrl": "https://lh3.googleusercontent.com/-WSrrLDTddS8/AAAAAAAAAAI/AAAAAAAALbc/ptT0Y14Ywd8/s64/photo.jpg",
      "userId": "16013122765061519022"
     },
     "user_tz": 300
    },
    "id": "Qpq0nAboAMa1",
    "outputId": "75a6101e-cebb-45fa-dd0a-86ad0282c2d4"
   },
   "outputs": [
    {
     "data": {
      "text/html": [
       "<div>\n",
       "<style scoped>\n",
       "    .dataframe tbody tr th:only-of-type {\n",
       "        vertical-align: middle;\n",
       "    }\n",
       "\n",
       "    .dataframe tbody tr th {\n",
       "        vertical-align: top;\n",
       "    }\n",
       "\n",
       "    .dataframe thead th {\n",
       "        text-align: right;\n",
       "    }\n",
       "</style>\n",
       "<table border=\"1\" class=\"dataframe\">\n",
       "  <thead>\n",
       "    <tr style=\"text-align: right;\">\n",
       "      <th></th>\n",
       "      <th>year</th>\n",
       "      <th>title</th>\n",
       "      <th>plot</th>\n",
       "      <th>cuenta_p</th>\n",
       "      <th>cuenta_p_title</th>\n",
       "      <th>largo</th>\n",
       "      <th>largo_t</th>\n",
       "      <th>plot_tokens</th>\n",
       "      <th>plot_tokens_ww</th>\n",
       "      <th>plot_lemming</th>\n",
       "      <th>plot_stemmed</th>\n",
       "      <th>plot_stemmed_snow</th>\n",
       "      <th>plot_stemmed_lancaster</th>\n",
       "      <th>plot1</th>\n",
       "    </tr>\n",
       "  </thead>\n",
       "  <tbody>\n",
       "    <tr>\n",
       "      <th>1</th>\n",
       "      <td>1999</td>\n",
       "      <td>Message in a Bottle</td>\n",
       "      <td>message in a bottle who meets by fate   shall ...</td>\n",
       "      <td>11</td>\n",
       "      <td>0</td>\n",
       "      <td>366</td>\n",
       "      <td>16</td>\n",
       "      <td>[message, in, a, bottle, who, meets, by, fate,...</td>\n",
       "      <td>[message, in, a, bottle, who, meets, by, fate,...</td>\n",
       "      <td>message in a bottle who meet by fate shall be ...</td>\n",
       "      <td>messag in a bottl who meet by fate shall be se...</td>\n",
       "      <td>messag in a bottl who meet by fate shall be se...</td>\n",
       "      <td>mess in a bottl who meet by fat shal be seal b...</td>\n",
       "      <td>message in a bottle who meets by fate shall be...</td>\n",
       "    </tr>\n",
       "    <tr>\n",
       "      <th>4</th>\n",
       "      <td>1978</td>\n",
       "      <td>Midnight Express</td>\n",
       "      <td>midnight express the true story of billy hayes...</td>\n",
       "      <td>2</td>\n",
       "      <td>0</td>\n",
       "      <td>118</td>\n",
       "      <td>15</td>\n",
       "      <td>[midnight, express, the, true, story, of, bill...</td>\n",
       "      <td>[midnight, express, true, story, of, billy, ha...</td>\n",
       "      <td>midnight express true story of billy hayes an ...</td>\n",
       "      <td>midnight express true stori of billi hay an am...</td>\n",
       "      <td>midnight express true stori of billi hay an am...</td>\n",
       "      <td>midnight express tru story of bil hay an am co...</td>\n",
       "      <td>midnight express true story of billy hayes an ...</td>\n",
       "    </tr>\n",
       "    <tr>\n",
       "      <th>5</th>\n",
       "      <td>1996</td>\n",
       "      <td>Primal Fear</td>\n",
       "      <td>primal fear martin vail left the chicago da  s...</td>\n",
       "      <td>48</td>\n",
       "      <td>0</td>\n",
       "      <td>1560</td>\n",
       "      <td>10</td>\n",
       "      <td>[primal, fear, martin, vail, left, the, chicag...</td>\n",
       "      <td>[primal, fear, martin, vail, left, chicago, da...</td>\n",
       "      <td>primal fear martin vail left chicago da office...</td>\n",
       "      <td>primal fear martin vail left chicago da offic ...</td>\n",
       "      <td>primal fear martin vail left chicago da offic ...</td>\n",
       "      <td>prim fear martin vail left chicago da off beco...</td>\n",
       "      <td>primal fear martin vail left chicago da office...</td>\n",
       "    </tr>\n",
       "    <tr>\n",
       "      <th>6</th>\n",
       "      <td>1950</td>\n",
       "      <td>Crisis</td>\n",
       "      <td>crisis husband and wife americans dr   eugene ...</td>\n",
       "      <td>22</td>\n",
       "      <td>0</td>\n",
       "      <td>880</td>\n",
       "      <td>6</td>\n",
       "      <td>[crisis, husband, and, wife, americans, dr, eu...</td>\n",
       "      <td>[crisis, husband, and, wife, americans, dr, eu...</td>\n",
       "      <td>crisis husband and wife american dr eugene and...</td>\n",
       "      <td>crisi husband and wife american dr eugen and m...</td>\n",
       "      <td>crisi husband and wife american dr eugen and m...</td>\n",
       "      <td>cris husband and wif am dr eug and mrs hel fer...</td>\n",
       "      <td>crisis husband and wife americans dr eugene an...</td>\n",
       "    </tr>\n",
       "    <tr>\n",
       "      <th>7</th>\n",
       "      <td>1959</td>\n",
       "      <td>The Tingler</td>\n",
       "      <td>the tingler the coroner and scientist dr   war...</td>\n",
       "      <td>29</td>\n",
       "      <td>0</td>\n",
       "      <td>831</td>\n",
       "      <td>10</td>\n",
       "      <td>[the, tingler, the, coroner, and, scientist, d...</td>\n",
       "      <td>[tingler, coroner, and, scientist, dr, warren,...</td>\n",
       "      <td>tingler coroner and scientist dr warren chapin...</td>\n",
       "      <td>tingler coron and scientist dr warren chapin i...</td>\n",
       "      <td>tingler coron and scientist dr warren chapin i...</td>\n",
       "      <td>tingl coron and sci dr war chapin is research ...</td>\n",
       "      <td>tingler coroner and scientist dr warren chapin...</td>\n",
       "    </tr>\n",
       "  </tbody>\n",
       "</table>\n",
       "</div>"
      ],
      "text/plain": [
       "   year                title  \\\n",
       "1  1999  Message in a Bottle   \n",
       "4  1978     Midnight Express   \n",
       "5  1996          Primal Fear   \n",
       "6  1950               Crisis   \n",
       "7  1959          The Tingler   \n",
       "\n",
       "                                                plot  cuenta_p  \\\n",
       "1  message in a bottle who meets by fate   shall ...        11   \n",
       "4  midnight express the true story of billy hayes...         2   \n",
       "5  primal fear martin vail left the chicago da  s...        48   \n",
       "6  crisis husband and wife americans dr   eugene ...        22   \n",
       "7  the tingler the coroner and scientist dr   war...        29   \n",
       "\n",
       "   cuenta_p_title  largo  largo_t  \\\n",
       "1               0    366       16   \n",
       "4               0    118       15   \n",
       "5               0   1560       10   \n",
       "6               0    880        6   \n",
       "7               0    831       10   \n",
       "\n",
       "                                         plot_tokens  \\\n",
       "1  [message, in, a, bottle, who, meets, by, fate,...   \n",
       "4  [midnight, express, the, true, story, of, bill...   \n",
       "5  [primal, fear, martin, vail, left, the, chicag...   \n",
       "6  [crisis, husband, and, wife, americans, dr, eu...   \n",
       "7  [the, tingler, the, coroner, and, scientist, d...   \n",
       "\n",
       "                                      plot_tokens_ww  \\\n",
       "1  [message, in, a, bottle, who, meets, by, fate,...   \n",
       "4  [midnight, express, true, story, of, billy, ha...   \n",
       "5  [primal, fear, martin, vail, left, chicago, da...   \n",
       "6  [crisis, husband, and, wife, americans, dr, eu...   \n",
       "7  [tingler, coroner, and, scientist, dr, warren,...   \n",
       "\n",
       "                                        plot_lemming  \\\n",
       "1  message in a bottle who meet by fate shall be ...   \n",
       "4  midnight express true story of billy hayes an ...   \n",
       "5  primal fear martin vail left chicago da office...   \n",
       "6  crisis husband and wife american dr eugene and...   \n",
       "7  tingler coroner and scientist dr warren chapin...   \n",
       "\n",
       "                                        plot_stemmed  \\\n",
       "1  messag in a bottl who meet by fate shall be se...   \n",
       "4  midnight express true stori of billi hay an am...   \n",
       "5  primal fear martin vail left chicago da offic ...   \n",
       "6  crisi husband and wife american dr eugen and m...   \n",
       "7  tingler coron and scientist dr warren chapin i...   \n",
       "\n",
       "                                   plot_stemmed_snow  \\\n",
       "1  messag in a bottl who meet by fate shall be se...   \n",
       "4  midnight express true stori of billi hay an am...   \n",
       "5  primal fear martin vail left chicago da offic ...   \n",
       "6  crisi husband and wife american dr eugen and m...   \n",
       "7  tingler coron and scientist dr warren chapin i...   \n",
       "\n",
       "                              plot_stemmed_lancaster  \\\n",
       "1  mess in a bottl who meet by fat shal be seal b...   \n",
       "4  midnight express tru story of bil hay an am co...   \n",
       "5  prim fear martin vail left chicago da off beco...   \n",
       "6  cris husband and wif am dr eug and mrs hel fer...   \n",
       "7  tingl coron and sci dr war chapin is research ...   \n",
       "\n",
       "                                               plot1  \n",
       "1  message in a bottle who meets by fate shall be...  \n",
       "4  midnight express true story of billy hayes an ...  \n",
       "5  primal fear martin vail left chicago da office...  \n",
       "6  crisis husband and wife americans dr eugene an...  \n",
       "7  tingler coroner and scientist dr warren chapin...  "
      ]
     },
     "execution_count": 138,
     "metadata": {
      "tags": []
     },
     "output_type": "execute_result"
    }
   ],
   "source": [
    "dataTesting.head()"
   ]
  },
  {
   "cell_type": "code",
   "execution_count": 0,
   "metadata": {
    "colab": {},
    "colab_type": "code",
    "id": "qYin-uxhAMbA"
   },
   "outputs": [],
   "source": [
    "X = dataTraining['plot1']\n",
    "vect1 = TfidfVectorizer()\n",
    "dtm = vect1.fit_transform(X)\n",
    "dim1=dtm.shape\n",
    "temp=dtm.todense()\n",
    "temp1=np.c_[temp, dataTraining['year']]\n",
    "temp1 = np.c_[temp1, dataTraining['largo']]\n",
    "temp2 = sparse.csr_matrix(temp1)"
   ]
  },
  {
   "cell_type": "markdown",
   "metadata": {
    "colab_type": "text",
    "id": "q2zifVGMzf4f"
   },
   "source": [
    "# Modelos"
   ]
  },
  {
   "cell_type": "code",
   "execution_count": 0,
   "metadata": {
    "colab": {},
    "colab_type": "code",
    "id": "Q4MF6M10AMcE"
   },
   "outputs": [],
   "source": [
    "X_train, X_test, y_train_genres, y_test_genres = train_test_split(temp2, y_genres, test_size=0.33, random_state=42)"
   ]
  },
  {
   "cell_type": "code",
   "execution_count": 0,
   "metadata": {
    "colab": {},
    "colab_type": "code",
    "id": "k25pAmvaAMcI"
   },
   "outputs": [],
   "source": [
    "clf = OneVsRestClassifier(RandomForestClassifier(n_estimators=500,max_depth=10, n_jobs=-1,random_state=42))"
   ]
  },
  {
   "cell_type": "code",
   "execution_count": 54,
   "metadata": {
    "colab": {
     "base_uri": "https://localhost:8080/",
     "height": 136
    },
    "colab_type": "code",
    "executionInfo": {
     "elapsed": 87799,
     "status": "ok",
     "timestamp": 1555909950194,
     "user": {
      "displayName": "vanesa jaime",
      "photoUrl": "https://lh3.googleusercontent.com/-WSrrLDTddS8/AAAAAAAAAAI/AAAAAAAALbc/ptT0Y14Ywd8/s64/photo.jpg",
      "userId": "16013122765061519022"
     },
     "user_tz": 300
    },
    "id": "HS7agYyVAMcM",
    "outputId": "f0b299a2-d258-4177-ffa8-c032ec9ab6cc"
   },
   "outputs": [
    {
     "data": {
      "text/plain": [
       "OneVsRestClassifier(estimator=RandomForestClassifier(bootstrap=True, class_weight=None, criterion='gini',\n",
       "            max_depth=10, max_features='auto', max_leaf_nodes=None,\n",
       "            min_impurity_decrease=0.0, min_impurity_split=None,\n",
       "            min_samples_leaf=1, min_samples_split=2,\n",
       "            min_weight_fraction_leaf=0.0, n_estimators=500, n_jobs=-1,\n",
       "            oob_score=False, random_state=42, verbose=0, warm_start=False),\n",
       "          n_jobs=None)"
      ]
     },
     "execution_count": 54,
     "metadata": {
      "tags": []
     },
     "output_type": "execute_result"
    }
   ],
   "source": [
    "clf.fit(X_train, y_train_genres)"
   ]
  },
  {
   "cell_type": "code",
   "execution_count": 0,
   "metadata": {
    "colab": {},
    "colab_type": "code",
    "id": "s3TDcRBSAMcO"
   },
   "outputs": [],
   "source": [
    "y_pred_genres = clf.predict_proba(X_test)"
   ]
  },
  {
   "cell_type": "code",
   "execution_count": 56,
   "metadata": {
    "colab": {
     "base_uri": "https://localhost:8080/",
     "height": 34
    },
    "colab_type": "code",
    "executionInfo": {
     "elapsed": 946,
     "status": "ok",
     "timestamp": 1555910016512,
     "user": {
      "displayName": "vanesa jaime",
      "photoUrl": "https://lh3.googleusercontent.com/-WSrrLDTddS8/AAAAAAAAAAI/AAAAAAAALbc/ptT0Y14Ywd8/s64/photo.jpg",
      "userId": "16013122765061519022"
     },
     "user_tz": 300
    },
    "id": "1lKwRhb7Av6B",
    "outputId": "2fe3a811-fbe1-4f17-9b5a-29fdb4fd4654"
   },
   "outputs": [
    {
     "data": {
      "text/plain": [
       "0.8494339838605942"
      ]
     },
     "execution_count": 56,
     "metadata": {
      "tags": []
     },
     "output_type": "execute_result"
    }
   ],
   "source": [
    "roc_plot=metrics.roc_auc_score(y_test_genres, y_pred_genres, average='macro')\n",
    "roc_plot"
   ]
  },
  {
   "cell_type": "code",
   "execution_count": 0,
   "metadata": {
    "colab": {},
    "colab_type": "code",
    "id": "TPZUJciqDKKT"
   },
   "outputs": [],
   "source": [
    "X = dataTraining['plot1']\n",
    "vect1 = TfidfVectorizer(stop_words='english')\n",
    "dtm = vect1.fit_transform(X)\n",
    "dim2=dtm.shape\n",
    "temp=dtm.todense()\n",
    "temp1=np.c_[temp, dataTraining['year']]\n",
    "temp1 = np.c_[temp1, dataTraining['largo']]\n",
    "temp2 = sparse.csr_matrix(temp1)"
   ]
  },
  {
   "cell_type": "code",
   "execution_count": 0,
   "metadata": {
    "colab": {},
    "colab_type": "code",
    "id": "F5z-qFMy6jIF"
   },
   "outputs": [],
   "source": [
    "X_train, X_test, y_train_genres, y_test_genres = train_test_split(temp2, y_genres, test_size=0.33, random_state=42)"
   ]
  },
  {
   "cell_type": "code",
   "execution_count": 59,
   "metadata": {
    "colab": {
     "base_uri": "https://localhost:8080/",
     "height": 136
    },
    "colab_type": "code",
    "executionInfo": {
     "elapsed": 81329,
     "status": "ok",
     "timestamp": 1555910113160,
     "user": {
      "displayName": "vanesa jaime",
      "photoUrl": "https://lh3.googleusercontent.com/-WSrrLDTddS8/AAAAAAAAAAI/AAAAAAAALbc/ptT0Y14Ywd8/s64/photo.jpg",
      "userId": "16013122765061519022"
     },
     "user_tz": 300
    },
    "id": "khus4b_132Fo",
    "outputId": "8dbb0b58-e1bf-4d16-985b-f233c518aae1"
   },
   "outputs": [
    {
     "data": {
      "text/plain": [
       "OneVsRestClassifier(estimator=RandomForestClassifier(bootstrap=True, class_weight=None, criterion='gini',\n",
       "            max_depth=10, max_features='auto', max_leaf_nodes=None,\n",
       "            min_impurity_decrease=0.0, min_impurity_split=None,\n",
       "            min_samples_leaf=1, min_samples_split=2,\n",
       "            min_weight_fraction_leaf=0.0, n_estimators=500, n_jobs=-1,\n",
       "            oob_score=False, random_state=42, verbose=0, warm_start=False),\n",
       "          n_jobs=None)"
      ]
     },
     "execution_count": 59,
     "metadata": {
      "tags": []
     },
     "output_type": "execute_result"
    }
   ],
   "source": [
    "clf.fit(X_train, y_train_genres)"
   ]
  },
  {
   "cell_type": "code",
   "execution_count": 0,
   "metadata": {
    "colab": {},
    "colab_type": "code",
    "id": "CtcZGxbW32K4"
   },
   "outputs": [],
   "source": [
    "y_pred_genres = clf.predict_proba(X_test)"
   ]
  },
  {
   "cell_type": "code",
   "execution_count": 61,
   "metadata": {
    "colab": {
     "base_uri": "https://localhost:8080/",
     "height": 34
    },
    "colab_type": "code",
    "executionInfo": {
     "elapsed": 688,
     "status": "ok",
     "timestamp": 1555910190582,
     "user": {
      "displayName": "vanesa jaime",
      "photoUrl": "https://lh3.googleusercontent.com/-WSrrLDTddS8/AAAAAAAAAAI/AAAAAAAALbc/ptT0Y14Ywd8/s64/photo.jpg",
      "userId": "16013122765061519022"
     },
     "user_tz": 300
    },
    "id": "Ll5s65FO32Oq",
    "outputId": "f5583029-ea69-4493-8739-875d3be9bfb1"
   },
   "outputs": [
    {
     "data": {
      "text/plain": [
       "0.8429402955224269"
      ]
     },
     "execution_count": 61,
     "metadata": {
      "tags": []
     },
     "output_type": "execute_result"
    }
   ],
   "source": [
    "roc_plot_sin_stop=metrics.roc_auc_score(y_test_genres, y_pred_genres, average='macro')\n",
    "roc_plot_sin_stop"
   ]
  },
  {
   "cell_type": "code",
   "execution_count": 0,
   "metadata": {
    "colab": {},
    "colab_type": "code",
    "id": "HS1NxhnN32UK"
   },
   "outputs": [],
   "source": [
    "X = dataTraining['plot1']\n",
    "vect1 = TfidfVectorizer(min_df=0.05)\n",
    "dtm = vect1.fit_transform(X)\n",
    "dim3=dtm.shape\n",
    "temp=dtm.todense()\n",
    "temp1=np.c_[temp, dataTraining['year']]\n",
    "temp1 = np.c_[temp1, dataTraining['largo']]\n",
    "temp2 = sparse.csr_matrix(temp1)"
   ]
  },
  {
   "cell_type": "code",
   "execution_count": 0,
   "metadata": {
    "colab": {},
    "colab_type": "code",
    "id": "T6C7dWlJ32YN"
   },
   "outputs": [],
   "source": [
    "X_train, X_test, y_train_genres, y_test_genres = train_test_split(temp2, y_genres, test_size=0.33, random_state=42)"
   ]
  },
  {
   "cell_type": "code",
   "execution_count": 65,
   "metadata": {
    "colab": {
     "base_uri": "https://localhost:8080/",
     "height": 136
    },
    "colab_type": "code",
    "executionInfo": {
     "elapsed": 110211,
     "status": "ok",
     "timestamp": 1555910323016,
     "user": {
      "displayName": "vanesa jaime",
      "photoUrl": "https://lh3.googleusercontent.com/-WSrrLDTddS8/AAAAAAAAAAI/AAAAAAAALbc/ptT0Y14Ywd8/s64/photo.jpg",
      "userId": "16013122765061519022"
     },
     "user_tz": 300
    },
    "id": "SRa8KFxz7AsZ",
    "outputId": "46906d90-827e-49ab-dca8-c7d00a816a1e"
   },
   "outputs": [
    {
     "data": {
      "text/plain": [
       "OneVsRestClassifier(estimator=RandomForestClassifier(bootstrap=True, class_weight=None, criterion='gini',\n",
       "            max_depth=10, max_features='auto', max_leaf_nodes=None,\n",
       "            min_impurity_decrease=0.0, min_impurity_split=None,\n",
       "            min_samples_leaf=1, min_samples_split=2,\n",
       "            min_weight_fraction_leaf=0.0, n_estimators=500, n_jobs=-1,\n",
       "            oob_score=False, random_state=42, verbose=0, warm_start=False),\n",
       "          n_jobs=None)"
      ]
     },
     "execution_count": 65,
     "metadata": {
      "tags": []
     },
     "output_type": "execute_result"
    }
   ],
   "source": [
    "clf.fit(X_train, y_train_genres)"
   ]
  },
  {
   "cell_type": "code",
   "execution_count": 0,
   "metadata": {
    "colab": {},
    "colab_type": "code",
    "id": "lo9EbkgM7A30"
   },
   "outputs": [],
   "source": [
    "y_pred_genres = clf.predict_proba(X_test)"
   ]
  },
  {
   "cell_type": "code",
   "execution_count": 67,
   "metadata": {
    "colab": {
     "base_uri": "https://localhost:8080/",
     "height": 34
    },
    "colab_type": "code",
    "executionInfo": {
     "elapsed": 562,
     "status": "ok",
     "timestamp": 1555910416851,
     "user": {
      "displayName": "vanesa jaime",
      "photoUrl": "https://lh3.googleusercontent.com/-WSrrLDTddS8/AAAAAAAAAAI/AAAAAAAALbc/ptT0Y14Ywd8/s64/photo.jpg",
      "userId": "16013122765061519022"
     },
     "user_tz": 300
    },
    "id": "b0BjzVNn7A1p",
    "outputId": "3dc1c44e-53fb-4f5a-f01a-4c0cd0742c4e"
   },
   "outputs": [
    {
     "data": {
      "text/plain": [
       "0.7411353652836835"
      ]
     },
     "execution_count": 67,
     "metadata": {
      "tags": []
     },
     "output_type": "execute_result"
    }
   ],
   "source": [
    "roc_plot_5=metrics.roc_auc_score(y_test_genres, y_pred_genres, average='macro')\n",
    "roc_plot_5"
   ]
  },
  {
   "cell_type": "code",
   "execution_count": 0,
   "metadata": {
    "colab": {},
    "colab_type": "code",
    "id": "zme5Mhcf7AzP"
   },
   "outputs": [],
   "source": [
    "X = dataTraining['plot_lemming']\n",
    "vect1 = TfidfVectorizer()\n",
    "dtm = vect1.fit_transform(X)\n",
    "dim4=dtm.shape\n",
    "temp=dtm.todense()\n",
    "temp1=np.c_[temp, dataTraining['year']]\n",
    "temp1 = np.c_[temp1, dataTraining['largo']]\n",
    "temp2 = sparse.csr_matrix(temp1)"
   ]
  },
  {
   "cell_type": "code",
   "execution_count": 0,
   "metadata": {
    "colab": {},
    "colab_type": "code",
    "id": "e-zACKRx8DbD"
   },
   "outputs": [],
   "source": [
    "X_train, X_test, y_train_genres, y_test_genres = train_test_split(temp2, y_genres, test_size=0.33, random_state=42)"
   ]
  },
  {
   "cell_type": "code",
   "execution_count": 141,
   "metadata": {
    "colab": {
     "base_uri": "https://localhost:8080/",
     "height": 136
    },
    "colab_type": "code",
    "executionInfo": {
     "elapsed": 86983,
     "status": "ok",
     "timestamp": 1555911349662,
     "user": {
      "displayName": "vanesa jaime",
      "photoUrl": "https://lh3.googleusercontent.com/-WSrrLDTddS8/AAAAAAAAAAI/AAAAAAAALbc/ptT0Y14Ywd8/s64/photo.jpg",
      "userId": "16013122765061519022"
     },
     "user_tz": 300
    },
    "id": "8TnHcnNw8DYs",
    "outputId": "5295d514-a180-4030-d1f6-c93075abe394"
   },
   "outputs": [
    {
     "data": {
      "text/plain": [
       "OneVsRestClassifier(estimator=RandomForestClassifier(bootstrap=True, class_weight=None, criterion='gini',\n",
       "            max_depth=10, max_features='auto', max_leaf_nodes=None,\n",
       "            min_impurity_decrease=0.0, min_impurity_split=None,\n",
       "            min_samples_leaf=1, min_samples_split=2,\n",
       "            min_weight_fraction_leaf=0.0, n_estimators=500, n_jobs=-1,\n",
       "            oob_score=False, random_state=42, verbose=0, warm_start=False),\n",
       "          n_jobs=None)"
      ]
     },
     "execution_count": 141,
     "metadata": {
      "tags": []
     },
     "output_type": "execute_result"
    }
   ],
   "source": [
    "clf.fit(X_train, y_train_genres)"
   ]
  },
  {
   "cell_type": "code",
   "execution_count": 0,
   "metadata": {
    "colab": {},
    "colab_type": "code",
    "id": "ZkJmnT8n8DVx"
   },
   "outputs": [],
   "source": [
    "y_pred_genres = clf.predict_proba(X_test)"
   ]
  },
  {
   "cell_type": "code",
   "execution_count": 143,
   "metadata": {
    "colab": {
     "base_uri": "https://localhost:8080/",
     "height": 34
    },
    "colab_type": "code",
    "executionInfo": {
     "elapsed": 998,
     "status": "ok",
     "timestamp": 1555911383519,
     "user": {
      "displayName": "vanesa jaime",
      "photoUrl": "https://lh3.googleusercontent.com/-WSrrLDTddS8/AAAAAAAAAAI/AAAAAAAALbc/ptT0Y14Ywd8/s64/photo.jpg",
      "userId": "16013122765061519022"
     },
     "user_tz": 300
    },
    "id": "c3ruL-JmBw45",
    "outputId": "dc67353d-9909-443e-e1f1-c07ff3b5c193"
   },
   "outputs": [
    {
     "data": {
      "text/plain": [
       "0.8498669113538554"
      ]
     },
     "execution_count": 143,
     "metadata": {
      "tags": []
     },
     "output_type": "execute_result"
    }
   ],
   "source": [
    "roc_plot_Lemmatizing=metrics.roc_auc_score(y_test_genres, y_pred_genres, average='macro')\n",
    "roc_plot_Lemmatizing"
   ]
  },
  {
   "cell_type": "code",
   "execution_count": 0,
   "metadata": {
    "colab": {},
    "colab_type": "code",
    "id": "jRTk1fIQ8M9i"
   },
   "outputs": [],
   "source": [
    "X = dataTraining['plot_stemmed']\n",
    "vect1 = TfidfVectorizer()\n",
    "dtm = vect1.fit_transform(X)\n",
    "dim5=dtm.shape\n",
    "temp=dtm.todense()\n",
    "temp1=np.c_[temp, dataTraining['year']]\n",
    "temp1 = np.c_[temp1, dataTraining['largo']]\n",
    "temp2 = sparse.csr_matrix(temp1)"
   ]
  },
  {
   "cell_type": "code",
   "execution_count": 0,
   "metadata": {
    "colab": {},
    "colab_type": "code",
    "id": "dKFlIBOk89YJ"
   },
   "outputs": [],
   "source": [
    "X_train, X_test, y_train_genres, y_test_genres = train_test_split(temp2, y_genres, test_size=0.33, random_state=42)"
   ]
  },
  {
   "cell_type": "code",
   "execution_count": 146,
   "metadata": {
    "colab": {
     "base_uri": "https://localhost:8080/",
     "height": 136
    },
    "colab_type": "code",
    "executionInfo": {
     "elapsed": 83897,
     "status": "ok",
     "timestamp": 1555911483154,
     "user": {
      "displayName": "vanesa jaime",
      "photoUrl": "https://lh3.googleusercontent.com/-WSrrLDTddS8/AAAAAAAAAAI/AAAAAAAALbc/ptT0Y14Ywd8/s64/photo.jpg",
      "userId": "16013122765061519022"
     },
     "user_tz": 300
    },
    "id": "6NylgQzT89hT",
    "outputId": "d460844b-870b-4447-c841-466c7d0e345c"
   },
   "outputs": [
    {
     "data": {
      "text/plain": [
       "OneVsRestClassifier(estimator=RandomForestClassifier(bootstrap=True, class_weight=None, criterion='gini',\n",
       "            max_depth=10, max_features='auto', max_leaf_nodes=None,\n",
       "            min_impurity_decrease=0.0, min_impurity_split=None,\n",
       "            min_samples_leaf=1, min_samples_split=2,\n",
       "            min_weight_fraction_leaf=0.0, n_estimators=500, n_jobs=-1,\n",
       "            oob_score=False, random_state=42, verbose=0, warm_start=False),\n",
       "          n_jobs=None)"
      ]
     },
     "execution_count": 146,
     "metadata": {
      "tags": []
     },
     "output_type": "execute_result"
    }
   ],
   "source": [
    "clf.fit(X_train, y_train_genres)"
   ]
  },
  {
   "cell_type": "code",
   "execution_count": 0,
   "metadata": {
    "colab": {},
    "colab_type": "code",
    "id": "d8Kq1SQv8M67"
   },
   "outputs": [],
   "source": [
    "y_pred_genres = clf.predict_proba(X_test)"
   ]
  },
  {
   "cell_type": "code",
   "execution_count": 148,
   "metadata": {
    "colab": {
     "base_uri": "https://localhost:8080/",
     "height": 34
    },
    "colab_type": "code",
    "executionInfo": {
     "elapsed": 848,
     "status": "ok",
     "timestamp": 1555911497266,
     "user": {
      "displayName": "vanesa jaime",
      "photoUrl": "https://lh3.googleusercontent.com/-WSrrLDTddS8/AAAAAAAAAAI/AAAAAAAALbc/ptT0Y14Ywd8/s64/photo.jpg",
      "userId": "16013122765061519022"
     },
     "user_tz": 300
    },
    "id": "a3Wev97MBynR",
    "outputId": "1dfa3553-39ae-4888-9374-e27b9242b353"
   },
   "outputs": [
    {
     "data": {
      "text/plain": [
       "0.8581198595882115"
      ]
     },
     "execution_count": 148,
     "metadata": {
      "tags": []
     },
     "output_type": "execute_result"
    }
   ],
   "source": [
    "roc_plot_Stemmed=metrics.roc_auc_score(y_test_genres, y_pred_genres, average='macro')\n",
    "roc_plot_Stemmed"
   ]
  },
  {
   "cell_type": "code",
   "execution_count": 0,
   "metadata": {
    "colab": {},
    "colab_type": "code",
    "id": "BFkELhQ-9Bmq"
   },
   "outputs": [],
   "source": [
    "X = dataTraining['plot_stemmed_snow']\n",
    "vect1 = TfidfVectorizer()\n",
    "dtm = vect1.fit_transform(X)\n",
    "dim6=dtm.shape\n",
    "temp=dtm.todense()\n",
    "temp1=np.c_[temp, dataTraining['year']]\n",
    "temp1 = np.c_[temp1, dataTraining['largo']]\n",
    "temp2 = sparse.csr_matrix(temp1)"
   ]
  },
  {
   "cell_type": "code",
   "execution_count": 0,
   "metadata": {
    "colab": {},
    "colab_type": "code",
    "id": "rCE8MLqu9e9-"
   },
   "outputs": [],
   "source": [
    "X_train, X_test, y_train_genres, y_test_genres = train_test_split(temp2, y_genres, test_size=0.33, random_state=42)"
   ]
  },
  {
   "cell_type": "code",
   "execution_count": 151,
   "metadata": {
    "colab": {
     "base_uri": "https://localhost:8080/",
     "height": 136
    },
    "colab_type": "code",
    "executionInfo": {
     "elapsed": 86167,
     "status": "ok",
     "timestamp": 1555911594876,
     "user": {
      "displayName": "vanesa jaime",
      "photoUrl": "https://lh3.googleusercontent.com/-WSrrLDTddS8/AAAAAAAAAAI/AAAAAAAALbc/ptT0Y14Ywd8/s64/photo.jpg",
      "userId": "16013122765061519022"
     },
     "user_tz": 300
    },
    "id": "uA2tr8TS9fGD",
    "outputId": "1239cab3-2561-4dd5-fd5c-d831fade0321"
   },
   "outputs": [
    {
     "data": {
      "text/plain": [
       "OneVsRestClassifier(estimator=RandomForestClassifier(bootstrap=True, class_weight=None, criterion='gini',\n",
       "            max_depth=10, max_features='auto', max_leaf_nodes=None,\n",
       "            min_impurity_decrease=0.0, min_impurity_split=None,\n",
       "            min_samples_leaf=1, min_samples_split=2,\n",
       "            min_weight_fraction_leaf=0.0, n_estimators=500, n_jobs=-1,\n",
       "            oob_score=False, random_state=42, verbose=0, warm_start=False),\n",
       "          n_jobs=None)"
      ]
     },
     "execution_count": 151,
     "metadata": {
      "tags": []
     },
     "output_type": "execute_result"
    }
   ],
   "source": [
    "clf.fit(X_train, y_train_genres)"
   ]
  },
  {
   "cell_type": "code",
   "execution_count": 0,
   "metadata": {
    "colab": {},
    "colab_type": "code",
    "id": "CIE-0h4e9e7y"
   },
   "outputs": [],
   "source": [
    "y_pred_genres = clf.predict_proba(X_test)"
   ]
  },
  {
   "cell_type": "code",
   "execution_count": 153,
   "metadata": {
    "colab": {
     "base_uri": "https://localhost:8080/",
     "height": 34
    },
    "colab_type": "code",
    "executionInfo": {
     "elapsed": 639,
     "status": "ok",
     "timestamp": 1555911611381,
     "user": {
      "displayName": "vanesa jaime",
      "photoUrl": "https://lh3.googleusercontent.com/-WSrrLDTddS8/AAAAAAAAAAI/AAAAAAAALbc/ptT0Y14Ywd8/s64/photo.jpg",
      "userId": "16013122765061519022"
     },
     "user_tz": 300
    },
    "id": "xDJrfgndDGj3",
    "outputId": "0a16c86c-7afd-4c5f-b35b-236b8085a548"
   },
   "outputs": [
    {
     "data": {
      "text/plain": [
       "0.8590010034373141"
      ]
     },
     "execution_count": 153,
     "metadata": {
      "tags": []
     },
     "output_type": "execute_result"
    }
   ],
   "source": [
    "roc_plot_Stemmed_Snow=metrics.roc_auc_score(y_test_genres, y_pred_genres, average='macro')\n",
    "roc_plot_Stemmed_Snow"
   ]
  },
  {
   "cell_type": "code",
   "execution_count": 0,
   "metadata": {
    "colab": {},
    "colab_type": "code",
    "id": "LeyHxR4D-Cm7"
   },
   "outputs": [],
   "source": [
    "X = dataTraining['plot_stemmed_lancaster']\n",
    "vect1 = TfidfVectorizer()\n",
    "dtm = vect1.fit_transform(X)\n",
    "dim7=dtm.shape\n",
    "temp=dtm.todense()\n",
    "temp1=np.c_[temp, dataTraining['year']]\n",
    "temp1 = np.c_[temp1, dataTraining['largo']]\n",
    "temp2 = sparse.csr_matrix(temp1)"
   ]
  },
  {
   "cell_type": "code",
   "execution_count": 0,
   "metadata": {
    "colab": {},
    "colab_type": "code",
    "id": "QvmvhMPU-CkU"
   },
   "outputs": [],
   "source": [
    "X_train, X_test, y_train_genres, y_test_genres = train_test_split(temp2, y_genres, test_size=0.33, random_state=42)"
   ]
  },
  {
   "cell_type": "code",
   "execution_count": 156,
   "metadata": {
    "colab": {
     "base_uri": "https://localhost:8080/",
     "height": 136
    },
    "colab_type": "code",
    "executionInfo": {
     "elapsed": 82351,
     "status": "ok",
     "timestamp": 1555911704867,
     "user": {
      "displayName": "vanesa jaime",
      "photoUrl": "https://lh3.googleusercontent.com/-WSrrLDTddS8/AAAAAAAAAAI/AAAAAAAALbc/ptT0Y14Ywd8/s64/photo.jpg",
      "userId": "16013122765061519022"
     },
     "user_tz": 300
    },
    "id": "nsonHya0-ChW",
    "outputId": "a1df36d9-eaee-4e01-ec5a-d6914c71bd81"
   },
   "outputs": [
    {
     "data": {
      "text/plain": [
       "OneVsRestClassifier(estimator=RandomForestClassifier(bootstrap=True, class_weight=None, criterion='gini',\n",
       "            max_depth=10, max_features='auto', max_leaf_nodes=None,\n",
       "            min_impurity_decrease=0.0, min_impurity_split=None,\n",
       "            min_samples_leaf=1, min_samples_split=2,\n",
       "            min_weight_fraction_leaf=0.0, n_estimators=500, n_jobs=-1,\n",
       "            oob_score=False, random_state=42, verbose=0, warm_start=False),\n",
       "          n_jobs=None)"
      ]
     },
     "execution_count": 156,
     "metadata": {
      "tags": []
     },
     "output_type": "execute_result"
    }
   ],
   "source": [
    "clf.fit(X_train, y_train_genres)"
   ]
  },
  {
   "cell_type": "code",
   "execution_count": 0,
   "metadata": {
    "colab": {},
    "colab_type": "code",
    "id": "iQhH5Jp--Cej"
   },
   "outputs": [],
   "source": [
    "y_pred_genres = clf.predict_proba(X_test)"
   ]
  },
  {
   "cell_type": "code",
   "execution_count": 158,
   "metadata": {
    "colab": {
     "base_uri": "https://localhost:8080/",
     "height": 34
    },
    "colab_type": "code",
    "executionInfo": {
     "elapsed": 658,
     "status": "ok",
     "timestamp": 1555911743834,
     "user": {
      "displayName": "vanesa jaime",
      "photoUrl": "https://lh3.googleusercontent.com/-WSrrLDTddS8/AAAAAAAAAAI/AAAAAAAALbc/ptT0Y14Ywd8/s64/photo.jpg",
      "userId": "16013122765061519022"
     },
     "user_tz": 300
    },
    "id": "87iGWwpi-MQm",
    "outputId": "c406fd6c-7ee4-49f9-ef27-94a8285b3d00"
   },
   "outputs": [
    {
     "data": {
      "text/plain": [
       "0.8476116445726669"
      ]
     },
     "execution_count": 158,
     "metadata": {
      "tags": []
     },
     "output_type": "execute_result"
    }
   ],
   "source": [
    "roc_plot_Stemmed_Lancaster=metrics.roc_auc_score(y_test_genres, y_pred_genres, average='macro')\n",
    "roc_plot_Stemmed_Lancaster"
   ]
  },
  {
   "cell_type": "markdown",
   "metadata": {
    "colab_type": "text",
    "id": "LdN9XXkVQMIu"
   },
   "source": [
    "## Sin Lista StopWords"
   ]
  },
  {
   "cell_type": "code",
   "execution_count": 204,
   "metadata": {
    "colab": {
     "base_uri": "https://localhost:8080/",
     "height": 153
    },
    "colab_type": "code",
    "executionInfo": {
     "elapsed": 1344,
     "status": "ok",
     "timestamp": 1555908384554,
     "user": {
      "displayName": "vanesa jaime",
      "photoUrl": "https://lh3.googleusercontent.com/-WSrrLDTddS8/AAAAAAAAAAI/AAAAAAAALbc/ptT0Y14Ywd8/s64/photo.jpg",
      "userId": "16013122765061519022"
     },
     "user_tz": 300
    },
    "id": "fTBZwmqhQQve",
    "outputId": "3f85a68f-cdbd-4b94-8f0e-6e8cbeeb7928"
   },
   "outputs": [
    {
     "name": "stdout",
     "output_type": "stream",
     "text": [
      "Metodo            ROC\n",
      "Plot              0.8535969607350977 (7895, 39726)\n",
      "Sin StopWords     0.8429402955224269 (7895, 39424)\n",
      "<5%               0.7474900144277079 (7895, 218)\n",
      "Lemmatizing       0.8498669113538554 (7895, 35456)\n",
      "Stemmed           0.8581198595882115 (7895, 27876)\n",
      "Stemmed Snowball  0.8590010034373141 (7895, 27636)\n",
      "Stemmed Lancaster 0.8476116445726669 (7895, 23161)\n"
     ]
    }
   ],
   "source": [
    "print(\"Metodo           \",\"ROC\")\n",
    "print(\"Plot             \",roc_plot,dim1)\n",
    "print(\"Sin StopWords    \",roc_plot_sin_stop,dim2)\n",
    "print(\"<5%              \",roc_plot_5,dim3)\n",
    "print(\"Lemmatizing      \",roc_plot_Lemmatizing,dim4)\n",
    "print(\"Stemmed          \",roc_plot_Stemmed,dim5)\n",
    "print(\"Stemmed Snowball \",roc_plot_Stemmed_Snow,dim6)\n",
    "print(\"Stemmed Lancaster\",roc_plot_Stemmed_Lancaster,dim7)"
   ]
  },
  {
   "cell_type": "markdown",
   "metadata": {
    "colab_type": "text",
    "id": "_FLb9L8hOAiS"
   },
   "source": [
    "## Lista Personalizada StopWords Top5"
   ]
  },
  {
   "cell_type": "code",
   "execution_count": 94,
   "metadata": {
    "colab": {
     "base_uri": "https://localhost:8080/",
     "height": 153
    },
    "colab_type": "code",
    "executionInfo": {
     "elapsed": 78706,
     "status": "ok",
     "timestamp": 1555905305488,
     "user": {
      "displayName": "vanesa jaime",
      "photoUrl": "https://lh3.googleusercontent.com/-WSrrLDTddS8/AAAAAAAAAAI/AAAAAAAALbc/ptT0Y14Ywd8/s64/photo.jpg",
      "userId": "16013122765061519022"
     },
     "user_tz": 300
    },
    "id": "9oDsdALrFYgc",
    "outputId": "1cc0fbb4-0e65-42a7-f053-b45ac9414359"
   },
   "outputs": [
    {
     "name": "stdout",
     "output_type": "stream",
     "text": [
      "Metodo            ROC\n",
      "Plot              0.8535969607350977 (7895, 39726)\n",
      "Sin StopWords     0.8429402955224269 (7895, 39424)\n",
      "<5%               0.7474900144277079 (7895, 218)\n",
      "Lemmatizing       0.8495793142877409 (7895, 35455)\n",
      "Stemmed           0.8585042869099547 (7895, 27876)\n",
      "Stemmed Snowball  0.8537603598553632 (7895, 27635)\n",
      "Stemmed Lancaster 0.8465485690535565 (7895, 23161)\n"
     ]
    }
   ],
   "source": [
    "print(\"Metodo           \",\"ROC\")\n",
    "print(\"Plot             \",roc_plot,dim1)\n",
    "print(\"Sin StopWords    \",roc_plot_sin_stop,dim2)\n",
    "print(\"<5%              \",roc_plot_5,dim3)\n",
    "print(\"Lemmatizing      \",roc_plot_Lemmatizing,dim4)\n",
    "print(\"Stemmed          \",roc_plot_Stemmed,dim5)\n",
    "print(\"Stemmed Snowball \",roc_plot_Stemmed_Snow,dim6)\n",
    "print(\"Stemmed Lancaster\",roc_plot_Stemmed_Lancaster,dim7)"
   ]
  },
  {
   "cell_type": "markdown",
   "metadata": {
    "colab_type": "text",
    "id": "cCI794hmOLv2"
   },
   "source": [
    "## Lista Personalizada StopWords Top10"
   ]
  },
  {
   "cell_type": "code",
   "execution_count": 88,
   "metadata": {
    "colab": {
     "base_uri": "https://localhost:8080/",
     "height": 153
    },
    "colab_type": "code",
    "executionInfo": {
     "elapsed": 736,
     "status": "ok",
     "timestamp": 1555910954058,
     "user": {
      "displayName": "vanesa jaime",
      "photoUrl": "https://lh3.googleusercontent.com/-WSrrLDTddS8/AAAAAAAAAAI/AAAAAAAALbc/ptT0Y14Ywd8/s64/photo.jpg",
      "userId": "16013122765061519022"
     },
     "user_tz": 300
    },
    "id": "0ZC4pnrjQLRG",
    "outputId": "e105750f-fc64-4fdb-cfbb-14c6e3ac0786"
   },
   "outputs": [
    {
     "name": "stdout",
     "output_type": "stream",
     "text": [
      "Metodo            ROC\n",
      "Plot              0.8494339838605942 (7895, 39718)\n",
      "Sin StopWords     0.8429402955224269 (7895, 39424)\n",
      "<5%               0.7411353652836835 (7895, 210)\n",
      "Lemmatizing       0.8522694649095159 (7895, 35452)\n",
      "Stemmed           0.8516785451311022 (7895, 27874)\n",
      "Stemmed Snowball  0.8490022925709488 (7895, 27632)\n",
      "Stemmed Lancaster 0.8468969746890572 (7895, 23159)\n"
     ]
    }
   ],
   "source": [
    "print(\"Metodo           \",\"ROC\")\n",
    "print(\"Plot             \",roc_plot,dim1)\n",
    "print(\"Sin StopWords    \",roc_plot_sin_stop,dim2)\n",
    "print(\"<5%              \",roc_plot_5,dim3)\n",
    "print(\"Lemmatizing      \",roc_plot_Lemmatizing,dim4)\n",
    "print(\"Stemmed          \",roc_plot_Stemmed,dim5)\n",
    "print(\"Stemmed Snowball \",roc_plot_Stemmed_Snow,dim6)\n",
    "print(\"Stemmed Lancaster\",roc_plot_Stemmed_Lancaster,dim7)"
   ]
  },
  {
   "cell_type": "code",
   "execution_count": 0,
   "metadata": {
    "colab": {},
    "colab_type": "code",
    "id": "nrzP50mEFR89"
   },
   "outputs": [],
   "source": []
  },
  {
   "cell_type": "code",
   "execution_count": 0,
   "metadata": {
    "colab": {},
    "colab_type": "code",
    "id": "bjYQhV8BFSPB"
   },
   "outputs": [],
   "source": [
    "X = dataTraining['plot_stemmed_snow']\n",
    "vect1 = TfidfVectorizer()\n",
    "dtm = vect1.fit_transform(X)\n",
    "temp=dtm.todense()\n",
    "temp1=np.c_[temp, dataTraining['year']]\n",
    "temp1 = np.c_[temp1, dataTraining['largo']]\n",
    "temp2 = sparse.csr_matrix(temp1)"
   ]
  },
  {
   "cell_type": "code",
   "execution_count": 0,
   "metadata": {
    "colab": {},
    "colab_type": "code",
    "id": "8D-gUw7sFSMY"
   },
   "outputs": [],
   "source": [
    "X_testing= dataTesting['plot_stemmed_snow']\n",
    "X_testing= vect1.transform(X_testing)\n",
    "temp3=X_testing.todense()\n",
    "temp4 = np.c_[temp3, dataTesting['year']]\n",
    "temp4 = np.c_[temp4, dataTesting['largo']]\n",
    "temp5 = sparse.csr_matrix(temp4)"
   ]
  },
  {
   "cell_type": "code",
   "execution_count": 0,
   "metadata": {
    "colab": {},
    "colab_type": "code",
    "id": "5Rchd4fKL5C0"
   },
   "outputs": [],
   "source": [
    "X_train, X_test, y_train_genres, y_test_genres = train_test_split(temp2, y_genres, test_size=0.33, random_state=42)"
   ]
  },
  {
   "cell_type": "code",
   "execution_count": 0,
   "metadata": {
    "colab": {},
    "colab_type": "code",
    "id": "EGHShsRnL81j"
   },
   "outputs": [],
   "source": [
    "clf = OneVsRestClassifier(RandomForestClassifier(n_estimators=2000,max_depth=20, n_jobs=-1,random_state=42))"
   ]
  },
  {
   "cell_type": "code",
   "execution_count": 164,
   "metadata": {
    "colab": {
     "base_uri": "https://localhost:8080/",
     "height": 136
    },
    "colab_type": "code",
    "executionInfo": {
     "elapsed": 624875,
     "status": "ok",
     "timestamp": 1555912474769,
     "user": {
      "displayName": "vanesa jaime",
      "photoUrl": "https://lh3.googleusercontent.com/-WSrrLDTddS8/AAAAAAAAAAI/AAAAAAAALbc/ptT0Y14Ywd8/s64/photo.jpg",
      "userId": "16013122765061519022"
     },
     "user_tz": 300
    },
    "id": "JBSt3JlHL8ym",
    "outputId": "502a4939-81e6-4575-beac-66c10a1c0b45"
   },
   "outputs": [
    {
     "data": {
      "text/plain": [
       "OneVsRestClassifier(estimator=RandomForestClassifier(bootstrap=True, class_weight=None, criterion='gini',\n",
       "            max_depth=20, max_features='auto', max_leaf_nodes=None,\n",
       "            min_impurity_decrease=0.0, min_impurity_split=None,\n",
       "            min_samples_leaf=1, min_samples_split=2,\n",
       "            min_weight_fraction_leaf=0.0, n_estimators=2000, n_jobs=-1,\n",
       "            oob_score=False, random_state=42, verbose=0, warm_start=False),\n",
       "          n_jobs=None)"
      ]
     },
     "execution_count": 164,
     "metadata": {
      "tags": []
     },
     "output_type": "execute_result"
    }
   ],
   "source": [
    "clf.fit(X_train, y_train_genres)"
   ]
  },
  {
   "cell_type": "code",
   "execution_count": 0,
   "metadata": {
    "colab": {},
    "colab_type": "code",
    "id": "xMI9G7CbL5Mr"
   },
   "outputs": [],
   "source": [
    "y_pred_genres = clf.predict_proba(X_test)"
   ]
  },
  {
   "cell_type": "code",
   "execution_count": 166,
   "metadata": {
    "colab": {
     "base_uri": "https://localhost:8080/",
     "height": 34
    },
    "colab_type": "code",
    "executionInfo": {
     "elapsed": 658090,
     "status": "ok",
     "timestamp": 1555912513769,
     "user": {
      "displayName": "vanesa jaime",
      "photoUrl": "https://lh3.googleusercontent.com/-WSrrLDTddS8/AAAAAAAAAAI/AAAAAAAALbc/ptT0Y14Ywd8/s64/photo.jpg",
      "userId": "16013122765061519022"
     },
     "user_tz": 300
    },
    "id": "vkQ2zW55bN7-",
    "outputId": "25dfba50-2030-4035-c640-4ce27bf30a90"
   },
   "outputs": [
    {
     "data": {
      "text/plain": [
       "0.8651475218511432"
      ]
     },
     "execution_count": 166,
     "metadata": {
      "tags": []
     },
     "output_type": "execute_result"
    }
   ],
   "source": [
    "metrics.roc_auc_score(y_test_genres, y_pred_genres, average='macro')"
   ]
  },
  {
   "cell_type": "code",
   "execution_count": 102,
   "metadata": {
    "colab": {
     "base_uri": "https://localhost:8080/",
     "height": 136
    },
    "colab_type": "code",
    "executionInfo": {
     "elapsed": 609402,
     "status": "ok",
     "timestamp": 1555907031601,
     "user": {
      "displayName": "vanesa jaime",
      "photoUrl": "https://lh3.googleusercontent.com/-WSrrLDTddS8/AAAAAAAAAAI/AAAAAAAALbc/ptT0Y14Ywd8/s64/photo.jpg",
      "userId": "16013122765061519022"
     },
     "user_tz": 300
    },
    "id": "I09A13PkAMcY",
    "outputId": "58119cb0-2f21-4b52-b604-ba6a2d3380b5"
   },
   "outputs": [
    {
     "data": {
      "text/plain": [
       "OneVsRestClassifier(estimator=RandomForestClassifier(bootstrap=True, class_weight=None, criterion='gini',\n",
       "            max_depth=30, max_features='auto', max_leaf_nodes=None,\n",
       "            min_impurity_decrease=0.0, min_impurity_split=None,\n",
       "            min_samples_leaf=1, min_samples_split=2,\n",
       "            min_weight_fraction_leaf=0.0, n_estimators=2000, n_jobs=-1,\n",
       "            oob_score=False, random_state=42, verbose=0, warm_start=False),\n",
       "          n_jobs=None)"
      ]
     },
     "execution_count": 102,
     "metadata": {
      "tags": []
     },
     "output_type": "execute_result"
    }
   ],
   "source": [
    "#All DATA\n",
    "clf.fit(temp2, y_genres)"
   ]
  },
  {
   "cell_type": "markdown",
   "metadata": {
    "colab_type": "text",
    "id": "R7pvqr_TAMci"
   },
   "source": [
    "### Predict the testing dataset"
   ]
  },
  {
   "cell_type": "code",
   "execution_count": 0,
   "metadata": {
    "colab": {},
    "colab_type": "code",
    "id": "MwKrRyimAMci"
   },
   "outputs": [],
   "source": [
    "cols = ['p_Action', 'p_Adventure', 'p_Animation', 'p_Biography', 'p_Comedy', 'p_Crime', 'p_Documentary', 'p_Drama', 'p_Family',\n",
    "        'p_Fantasy', 'p_Film-Noir', 'p_History', 'p_Horror', 'p_Music', 'p_Musical', 'p_Mystery', 'p_News', 'p_Romance',\n",
    "        'p_Sci-Fi', 'p_Short', 'p_Sport', 'p_Thriller', 'p_War', 'p_Western']"
   ]
  },
  {
   "cell_type": "code",
   "execution_count": 0,
   "metadata": {
    "colab": {},
    "colab_type": "code",
    "id": "JinnfuWnAMcj"
   },
   "outputs": [],
   "source": [
    "y_pred_test_genres = clf.predict_proba(temp5)"
   ]
  },
  {
   "cell_type": "code",
   "execution_count": 0,
   "metadata": {
    "colab": {},
    "colab_type": "code",
    "id": "etEZBcixAMck"
   },
   "outputs": [],
   "source": [
    "res = pd.DataFrame(y_pred_test_genres, index=dataTesting.index, columns=cols)"
   ]
  },
  {
   "cell_type": "code",
   "execution_count": 0,
   "metadata": {
    "colab": {},
    "colab_type": "code",
    "id": "rQYQMVpMAMcm"
   },
   "outputs": [],
   "source": [
    "res.to_csv('pred_genres_text_RF.csv', index_label='ID')"
   ]
  },
  {
   "cell_type": "code",
   "execution_count": 0,
   "metadata": {
    "colab": {},
    "colab_type": "code",
    "id": "74Xo5pi5NU_Z"
   },
   "outputs": [],
   "source": [
    "from google.colab import files"
   ]
  },
  {
   "cell_type": "code",
   "execution_count": 0,
   "metadata": {
    "colab": {},
    "colab_type": "code",
    "id": "JCv_ohDNNVIJ"
   },
   "outputs": [],
   "source": [
    "files.download('pred_genres_text_RF.csv')"
   ]
  },
  {
   "cell_type": "markdown",
   "metadata": {
    "colab": {},
    "colab_type": "code",
    "id": "Sl69qNiOPrxz"
   },
   "source": [
    "# API\n",
    "## Try http://18.218.105.174:8888/"
   ]
  },
  {
   "cell_type": "markdown",
   "metadata": {
    "colab": {},
    "colab_type": "code",
    "id": "WW4kcmZ_Pr1v"
   },
   "source": [
    "![tittle](API AWS.JPG)"
   ]
  },
  {
   "cell_type": "markdown",
   "metadata": {
    "colab": {},
    "colab_type": "code",
    "id": "xT5PbH6qPr9H"
   },
   "source": [
    "![tittle](API AWS2.JPG)"
   ]
  },
  {
   "cell_type": "markdown",
   "metadata": {
    "colab_type": "text",
    "id": "4-lsLd4yzf5a"
   },
   "source": [
    "### Local"
   ]
  },
  {
   "cell_type": "markdown",
   "metadata": {
    "colab_type": "text",
    "id": "UH9PMtLFzf5a"
   },
   "source": [
    "![tittle](API Local.JPG)"
   ]
  },
  {
   "cell_type": "markdown",
   "metadata": {
    "colab_type": "text",
    "id": "vTs_B62Czf5b"
   },
   "source": [
    "![tittle](API Local2.JPG)"
   ]
  }
 ],
 "metadata": {
  "accelerator": "GPU",
  "colab": {
   "collapsed_sections": [],
   "name": "P2-MovieGenrePrediction.ipynb",
   "provenance": [],
   "version": "0.3.2"
  },
  "kernelspec": {
   "display_name": "Python 3",
   "language": "python",
   "name": "python3"
  },
  "language_info": {
   "codemirror_mode": {
    "name": "ipython",
    "version": 3
   },
   "file_extension": ".py",
   "mimetype": "text/x-python",
   "name": "python",
   "nbconvert_exporter": "python",
   "pygments_lexer": "ipython3",
   "version": "3.6.5"
  }
 },
 "nbformat": 4,
 "nbformat_minor": 1
}
